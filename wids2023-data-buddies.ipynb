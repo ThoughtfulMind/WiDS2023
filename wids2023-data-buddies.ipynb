{
 "cells": [
  {
   "cell_type": "code",
   "execution_count": 1,
   "id": "e1439d59",
   "metadata": {
    "_cell_guid": "b1076dfc-b9ad-4769-8c92-a6c4dae69d19",
    "_uuid": "8f2839f25d086af736a60e9eeb907d3b93b6e0e5",
    "execution": {
     "iopub.execute_input": "2023-02-23T18:33:30.910130Z",
     "iopub.status.busy": "2023-02-23T18:33:30.909544Z",
     "iopub.status.idle": "2023-02-23T18:33:34.615566Z",
     "shell.execute_reply": "2023-02-23T18:33:34.613845Z"
    },
    "papermill": {
     "duration": 3.733218,
     "end_time": "2023-02-23T18:33:34.619912",
     "exception": false,
     "start_time": "2023-02-23T18:33:30.886694",
     "status": "completed"
    },
    "tags": []
   },
   "outputs": [
    {
     "data": {
      "text/html": [
       "<style type='text/css'>\n",
       ".datatable table.frame { margin-bottom: 0; }\n",
       ".datatable table.frame thead { border-bottom: none; }\n",
       ".datatable table.frame tr.coltypes td {  color: #FFFFFF;  line-height: 6px;  padding: 0 0.5em;}\n",
       ".datatable .bool    { background: #DDDD99; }\n",
       ".datatable .object  { background: #565656; }\n",
       ".datatable .int     { background: #5D9E5D; }\n",
       ".datatable .float   { background: #4040CC; }\n",
       ".datatable .str     { background: #CC4040; }\n",
       ".datatable .time    { background: #40CC40; }\n",
       ".datatable .row_index {  background: var(--jp-border-color3);  border-right: 1px solid var(--jp-border-color0);  color: var(--jp-ui-font-color3);  font-size: 9px;}\n",
       ".datatable .frame tbody td { text-align: left; }\n",
       ".datatable .frame tr.coltypes .row_index {  background: var(--jp-border-color0);}\n",
       ".datatable th:nth-child(2) { padding-left: 12px; }\n",
       ".datatable .hellipsis {  color: var(--jp-cell-editor-border-color);}\n",
       ".datatable .vellipsis {  background: var(--jp-layout-color0);  color: var(--jp-cell-editor-border-color);}\n",
       ".datatable .na {  color: var(--jp-cell-editor-border-color);  font-size: 80%;}\n",
       ".datatable .sp {  opacity: 0.25;}\n",
       ".datatable .footer { font-size: 9px; }\n",
       ".datatable .frame_dimensions {  background: var(--jp-border-color3);  border-top: 1px solid var(--jp-border-color0);  color: var(--jp-ui-font-color3);  display: inline-block;  opacity: 0.6;  padding: 1px 10px 1px 5px;}\n",
       "</style>\n"
      ],
      "text/plain": [
       "<IPython.core.display.HTML object>"
      ]
     },
     "metadata": {},
     "output_type": "display_data"
    },
    {
     "name": "stdout",
     "output_type": "stream",
     "text": [
      "Libraries imported\n",
      "/kaggle/input/widsdatathon2023/train_data.csv\n",
      "/kaggle/input/widsdatathon2023/test_data.csv\n",
      "/kaggle/input/widsdatathon2023/sample_solution.csv\n"
     ]
    }
   ],
   "source": [
    "# This Python 3 environment comes with many helpful analytics libraries installed\n",
    "# It is defined by the kaggle/python Docker image: https://github.com/kaggle/docker-python\n",
    "# For example, here's several helpful packages to load\n",
    "\n",
    "import numpy as np # linear algebra\n",
    "import pandas as pd # data processing, CSV file I/O (e.g. pd.read_csv)\n",
    "import matplotlib.pyplot as plt\n",
    "import seaborn as sb\n",
    "from datetime import datetime\n",
    "from sklearn.model_selection import train_test_split, StratifiedKFold, RandomizedSearchCV, GridSearchCV\n",
    "from sklearn.feature_selection import RFE\n",
    "from sklearn.neural_network import MLPRegressor\n",
    "from sklearn.linear_model import Lasso, LinearRegression\n",
    "from sklearn.preprocessing import LabelEncoder, OneHotEncoder\n",
    "from sklearn.ensemble import RandomForestRegressor, GradientBoostingRegressor\n",
    "from catboost import CatBoostRegressor\n",
    "from statsmodels.tsa.arima.model import ARIMA\n",
    "import xgboost as xgb\n",
    "from sklearn.metrics import mean_squared_error\n",
    "from sklearn.preprocessing import StandardScaler, MinMaxScaler\n",
    "from scipy.stats import uniform, randint\n",
    "from sklearn.pipeline import Pipeline\n",
    "from skopt import BayesSearchCV\n",
    "from skopt.space import Real, Integer\n",
    "import gc\n",
    "import lightgbm as lgb\n",
    "import optuna\n",
    "%matplotlib inline\n",
    "print(\"Libraries imported\")\n",
    "\n",
    "# Input data files are available in the read-only \"../input/\" directory\n",
    "# For example, running this (by clicking run or pressing Shift+Enter) will list all files under the input directory\n",
    "\n",
    "import os\n",
    "for dirname, _, filenames in os.walk('/kaggle/input'):\n",
    "    for filename in filenames:\n",
    "        print(os.path.join(dirname, filename))\n",
    "\n",
    "# You can write up to 20GB to the current directory (/kaggle/working/) that gets preserved as output when you create a version using \"Save & Run All\" \n",
    "# You can also write temporary files to /kaggle/temp/, but they won't be saved outside of the current session"
   ]
  },
  {
   "cell_type": "markdown",
   "id": "a7474662",
   "metadata": {
    "papermill": {
     "duration": 0.01866,
     "end_time": "2023-02-23T18:33:34.659095",
     "exception": false,
     "start_time": "2023-02-23T18:33:34.640435",
     "status": "completed"
    },
    "tags": []
   },
   "source": [
    "### ^ These imports are becoming messy :^("
   ]
  },
  {
   "cell_type": "markdown",
   "id": "0dcb6a24",
   "metadata": {
    "papermill": {
     "duration": 0.018769,
     "end_time": "2023-02-23T18:33:34.698744",
     "exception": false,
     "start_time": "2023-02-23T18:33:34.679975",
     "status": "completed"
    },
    "tags": []
   },
   "source": [
    "# Loading the data into variables cc_train, cc_test, cc_sample\n",
    "\n",
    "- cc_train = /kaggle/input/widsdatathon2023/train_data.csv\n",
    "- cc_test = /kaggle/input/widsdatathon2023/test_data.csv\n",
    "- cc_sample = /kaggle/input/widsdatathon2023/sample_solution.csv"
   ]
  },
  {
   "cell_type": "code",
   "execution_count": 2,
   "id": "8ab31f62",
   "metadata": {
    "execution": {
     "iopub.execute_input": "2023-02-23T18:33:34.739634Z",
     "iopub.status.busy": "2023-02-23T18:33:34.739095Z",
     "iopub.status.idle": "2023-02-23T18:34:03.662482Z",
     "shell.execute_reply": "2023-02-23T18:34:03.661166Z"
    },
    "papermill": {
     "duration": 28.947497,
     "end_time": "2023-02-23T18:34:03.665859",
     "exception": false,
     "start_time": "2023-02-23T18:33:34.718362",
     "status": "completed"
    },
    "tags": []
   },
   "outputs": [],
   "source": [
    "cc_train = pd.read_csv('/kaggle/input/widsdatathon2023/train_data.csv')\n",
    "cc_test = pd.read_csv('/kaggle/input/widsdatathon2023/test_data.csv')\n",
    "cc_sample = pd.read_csv('/kaggle/input/widsdatathon2023/sample_solution.csv')"
   ]
  },
  {
   "cell_type": "markdown",
   "id": "8cb682f1",
   "metadata": {
    "papermill": {
     "duration": 0.019813,
     "end_time": "2023-02-23T18:34:03.705418",
     "exception": false,
     "start_time": "2023-02-23T18:34:03.685605",
     "status": "completed"
    },
    "tags": []
   },
   "source": [
    "# Reducing the memory usage of the dataset\n",
    "\n",
    "## Acknowledgement\n",
    "\n",
    "[Reduce Dataframe size](https://www.kaggle.com/competitions/widsdatathon2023/discussion/376649)"
   ]
  },
  {
   "cell_type": "code",
   "execution_count": 3,
   "id": "24c8fd60",
   "metadata": {
    "execution": {
     "iopub.execute_input": "2023-02-23T18:34:03.748830Z",
     "iopub.status.busy": "2023-02-23T18:34:03.747176Z",
     "iopub.status.idle": "2023-02-23T18:34:03.760938Z",
     "shell.execute_reply": "2023-02-23T18:34:03.759513Z"
    },
    "papermill": {
     "duration": 0.039424,
     "end_time": "2023-02-23T18:34:03.764081",
     "exception": false,
     "start_time": "2023-02-23T18:34:03.724657",
     "status": "completed"
    },
    "tags": []
   },
   "outputs": [],
   "source": [
    "def reduce_mem_usage(dataframe, verbose=True):\n",
    "  numerics = ['int16', 'int32', 'int64', 'float16', 'float32', 'float64']\n",
    "  start_memory = dataframe.memory_usage().sum() / 1024**2\n",
    "  for col in dataframe.columns:\n",
    "    col_type = dataframe[col].dtypes\n",
    "    if col_type in numerics:\n",
    "      c_min = dataframe[col].min()\n",
    "      c_max = dataframe[col].max()\n",
    "      if str(col_type)[:3] == 'int':\n",
    "        if c_min > np.iinfo(np.int8).min and c_max < np.iinfo(np.int8).max:\n",
    "          dataframe[col] = dataframe[col].astype(np.int8)\n",
    "        elif c_min > np.iinfo(np.int16).min and c_max < np.iinfo(np.int16).max:\n",
    "          dataframe[col] = dataframe[col].astype(np.int16)\n",
    "        elif c_min > np.iinfo(np.int32).min and c_max < np.iinfo(np.int32).max:\n",
    "          dataframe[col] = dataframe[col].astype(np.int32)\n",
    "        elif c_min > np.iinfo(np.int64).min and c_max < np.iinfo(np.int64).max:\n",
    "          dataframe[col] = dataframe[col].astype(np.int64)\n",
    "      else:\n",
    "        if c_min > np.finfo(np.float32).min and c_max < np.finfo(np.float32).max:\n",
    "          dataframe[col] = dataframe[col].astype(np.float32)\n",
    "        else:\n",
    "          dataframe[col] = dataframe[col].astype(np.float64)\n",
    "  end_memory = dataframe.memory_usage().sum() / 1024**2\n",
    "  print('Mem. usage decreased to {:5.2f} Mb ({:.1f}% reduction)'.format(end_memory, 100 * (start_memory - end_memory) / start_memory)) if verbose else print('Reduced to {:5.2f}'.format(end_memory))\n",
    "  return dataframe"
   ]
  },
  {
   "cell_type": "code",
   "execution_count": 4,
   "id": "9023a398",
   "metadata": {
    "execution": {
     "iopub.execute_input": "2023-02-23T18:34:03.804240Z",
     "iopub.status.busy": "2023-02-23T18:34:03.803760Z",
     "iopub.status.idle": "2023-02-23T18:34:47.816917Z",
     "shell.execute_reply": "2023-02-23T18:34:47.814973Z"
    },
    "papermill": {
     "duration": 44.053687,
     "end_time": "2023-02-23T18:34:47.836359",
     "exception": false,
     "start_time": "2023-02-23T18:34:03.782672",
     "status": "completed"
    },
    "tags": []
   },
   "outputs": [
    {
     "name": "stdout",
     "output_type": "stream",
     "text": [
      "Mem. usage decreased to 352.24 Mb (50.1% reduction)\n"
     ]
    }
   ],
   "source": [
    "cc_train = reduce_mem_usage(cc_train)"
   ]
  },
  {
   "cell_type": "markdown",
   "id": "b3258a8c",
   "metadata": {
    "papermill": {
     "duration": 0.018519,
     "end_time": "2023-02-23T18:34:47.876246",
     "exception": false,
     "start_time": "2023-02-23T18:34:47.857727",
     "status": "completed"
    },
    "tags": []
   },
   "source": [
    "# Overview of the dataset\n",
    "\n",
    "Using shape, info, head, describe"
   ]
  },
  {
   "cell_type": "code",
   "execution_count": 5,
   "id": "c1343180",
   "metadata": {
    "execution": {
     "iopub.execute_input": "2023-02-23T18:34:47.915936Z",
     "iopub.status.busy": "2023-02-23T18:34:47.915456Z",
     "iopub.status.idle": "2023-02-23T18:34:47.963201Z",
     "shell.execute_reply": "2023-02-23T18:34:47.961903Z"
    },
    "papermill": {
     "duration": 0.071097,
     "end_time": "2023-02-23T18:34:47.966103",
     "exception": false,
     "start_time": "2023-02-23T18:34:47.895006",
     "status": "completed"
    },
    "tags": []
   },
   "outputs": [
    {
     "data": {
      "text/html": [
       "<div>\n",
       "<style scoped>\n",
       "    .dataframe tbody tr th:only-of-type {\n",
       "        vertical-align: middle;\n",
       "    }\n",
       "\n",
       "    .dataframe tbody tr th {\n",
       "        vertical-align: top;\n",
       "    }\n",
       "\n",
       "    .dataframe thead th {\n",
       "        text-align: right;\n",
       "    }\n",
       "</style>\n",
       "<table border=\"1\" class=\"dataframe\">\n",
       "  <thead>\n",
       "    <tr style=\"text-align: right;\">\n",
       "      <th></th>\n",
       "      <th>index</th>\n",
       "      <th>lat</th>\n",
       "      <th>lon</th>\n",
       "      <th>startdate</th>\n",
       "      <th>contest-pevpr-sfc-gauss-14d__pevpr</th>\n",
       "      <th>nmme0-tmp2m-34w__cancm30</th>\n",
       "      <th>nmme0-tmp2m-34w__cancm40</th>\n",
       "      <th>nmme0-tmp2m-34w__ccsm30</th>\n",
       "      <th>nmme0-tmp2m-34w__ccsm40</th>\n",
       "      <th>nmme0-tmp2m-34w__cfsv20</th>\n",
       "      <th>...</th>\n",
       "      <th>wind-vwnd-925-2010-11</th>\n",
       "      <th>wind-vwnd-925-2010-12</th>\n",
       "      <th>wind-vwnd-925-2010-13</th>\n",
       "      <th>wind-vwnd-925-2010-14</th>\n",
       "      <th>wind-vwnd-925-2010-15</th>\n",
       "      <th>wind-vwnd-925-2010-16</th>\n",
       "      <th>wind-vwnd-925-2010-17</th>\n",
       "      <th>wind-vwnd-925-2010-18</th>\n",
       "      <th>wind-vwnd-925-2010-19</th>\n",
       "      <th>wind-vwnd-925-2010-20</th>\n",
       "    </tr>\n",
       "  </thead>\n",
       "  <tbody>\n",
       "    <tr>\n",
       "      <th>0</th>\n",
       "      <td>0</td>\n",
       "      <td>0.0</td>\n",
       "      <td>0.833333</td>\n",
       "      <td>9/1/14</td>\n",
       "      <td>237.000000</td>\n",
       "      <td>29.02</td>\n",
       "      <td>31.639999</td>\n",
       "      <td>29.57</td>\n",
       "      <td>30.73</td>\n",
       "      <td>29.709999</td>\n",
       "      <td>...</td>\n",
       "      <td>-27.680000</td>\n",
       "      <td>-37.209999</td>\n",
       "      <td>8.32</td>\n",
       "      <td>9.560000</td>\n",
       "      <td>-2.03</td>\n",
       "      <td>48.130001</td>\n",
       "      <td>28.090000</td>\n",
       "      <td>-13.500000</td>\n",
       "      <td>11.90</td>\n",
       "      <td>4.58</td>\n",
       "    </tr>\n",
       "    <tr>\n",
       "      <th>1</th>\n",
       "      <td>1</td>\n",
       "      <td>0.0</td>\n",
       "      <td>0.833333</td>\n",
       "      <td>9/2/14</td>\n",
       "      <td>228.899994</td>\n",
       "      <td>29.02</td>\n",
       "      <td>31.639999</td>\n",
       "      <td>29.57</td>\n",
       "      <td>30.73</td>\n",
       "      <td>29.709999</td>\n",
       "      <td>...</td>\n",
       "      <td>-21.129999</td>\n",
       "      <td>-36.570000</td>\n",
       "      <td>8.77</td>\n",
       "      <td>21.170000</td>\n",
       "      <td>4.44</td>\n",
       "      <td>48.599998</td>\n",
       "      <td>27.410000</td>\n",
       "      <td>-23.770000</td>\n",
       "      <td>15.44</td>\n",
       "      <td>3.42</td>\n",
       "    </tr>\n",
       "    <tr>\n",
       "      <th>2</th>\n",
       "      <td>2</td>\n",
       "      <td>0.0</td>\n",
       "      <td>0.833333</td>\n",
       "      <td>9/3/14</td>\n",
       "      <td>220.690002</td>\n",
       "      <td>29.02</td>\n",
       "      <td>31.639999</td>\n",
       "      <td>29.57</td>\n",
       "      <td>30.73</td>\n",
       "      <td>29.709999</td>\n",
       "      <td>...</td>\n",
       "      <td>-10.720000</td>\n",
       "      <td>-34.160000</td>\n",
       "      <td>6.99</td>\n",
       "      <td>32.160000</td>\n",
       "      <td>5.01</td>\n",
       "      <td>48.529999</td>\n",
       "      <td>19.209999</td>\n",
       "      <td>-33.160000</td>\n",
       "      <td>15.11</td>\n",
       "      <td>4.82</td>\n",
       "    </tr>\n",
       "    <tr>\n",
       "      <th>3</th>\n",
       "      <td>3</td>\n",
       "      <td>0.0</td>\n",
       "      <td>0.833333</td>\n",
       "      <td>9/4/14</td>\n",
       "      <td>225.279999</td>\n",
       "      <td>29.02</td>\n",
       "      <td>31.639999</td>\n",
       "      <td>29.57</td>\n",
       "      <td>30.73</td>\n",
       "      <td>29.709999</td>\n",
       "      <td>...</td>\n",
       "      <td>0.330000</td>\n",
       "      <td>-31.040001</td>\n",
       "      <td>6.17</td>\n",
       "      <td>39.660000</td>\n",
       "      <td>-1.41</td>\n",
       "      <td>50.590000</td>\n",
       "      <td>8.290000</td>\n",
       "      <td>-37.220001</td>\n",
       "      <td>18.24</td>\n",
       "      <td>9.74</td>\n",
       "    </tr>\n",
       "    <tr>\n",
       "      <th>4</th>\n",
       "      <td>4</td>\n",
       "      <td>0.0</td>\n",
       "      <td>0.833333</td>\n",
       "      <td>9/5/14</td>\n",
       "      <td>237.240005</td>\n",
       "      <td>29.02</td>\n",
       "      <td>31.639999</td>\n",
       "      <td>29.57</td>\n",
       "      <td>30.73</td>\n",
       "      <td>29.709999</td>\n",
       "      <td>...</td>\n",
       "      <td>9.830000</td>\n",
       "      <td>-31.799999</td>\n",
       "      <td>7.47</td>\n",
       "      <td>38.619999</td>\n",
       "      <td>-5.21</td>\n",
       "      <td>54.730000</td>\n",
       "      <td>-2.580000</td>\n",
       "      <td>-42.299999</td>\n",
       "      <td>21.91</td>\n",
       "      <td>10.95</td>\n",
       "    </tr>\n",
       "  </tbody>\n",
       "</table>\n",
       "<p>5 rows × 246 columns</p>\n",
       "</div>"
      ],
      "text/plain": [
       "   index  lat       lon startdate  contest-pevpr-sfc-gauss-14d__pevpr  \\\n",
       "0      0  0.0  0.833333    9/1/14                          237.000000   \n",
       "1      1  0.0  0.833333    9/2/14                          228.899994   \n",
       "2      2  0.0  0.833333    9/3/14                          220.690002   \n",
       "3      3  0.0  0.833333    9/4/14                          225.279999   \n",
       "4      4  0.0  0.833333    9/5/14                          237.240005   \n",
       "\n",
       "   nmme0-tmp2m-34w__cancm30  nmme0-tmp2m-34w__cancm40  \\\n",
       "0                     29.02                 31.639999   \n",
       "1                     29.02                 31.639999   \n",
       "2                     29.02                 31.639999   \n",
       "3                     29.02                 31.639999   \n",
       "4                     29.02                 31.639999   \n",
       "\n",
       "   nmme0-tmp2m-34w__ccsm30  nmme0-tmp2m-34w__ccsm40  nmme0-tmp2m-34w__cfsv20  \\\n",
       "0                    29.57                    30.73                29.709999   \n",
       "1                    29.57                    30.73                29.709999   \n",
       "2                    29.57                    30.73                29.709999   \n",
       "3                    29.57                    30.73                29.709999   \n",
       "4                    29.57                    30.73                29.709999   \n",
       "\n",
       "   ...  wind-vwnd-925-2010-11  wind-vwnd-925-2010-12  wind-vwnd-925-2010-13  \\\n",
       "0  ...             -27.680000             -37.209999                   8.32   \n",
       "1  ...             -21.129999             -36.570000                   8.77   \n",
       "2  ...             -10.720000             -34.160000                   6.99   \n",
       "3  ...               0.330000             -31.040001                   6.17   \n",
       "4  ...               9.830000             -31.799999                   7.47   \n",
       "\n",
       "   wind-vwnd-925-2010-14  wind-vwnd-925-2010-15  wind-vwnd-925-2010-16  \\\n",
       "0               9.560000                  -2.03              48.130001   \n",
       "1              21.170000                   4.44              48.599998   \n",
       "2              32.160000                   5.01              48.529999   \n",
       "3              39.660000                  -1.41              50.590000   \n",
       "4              38.619999                  -5.21              54.730000   \n",
       "\n",
       "   wind-vwnd-925-2010-17  wind-vwnd-925-2010-18  wind-vwnd-925-2010-19  \\\n",
       "0              28.090000             -13.500000                  11.90   \n",
       "1              27.410000             -23.770000                  15.44   \n",
       "2              19.209999             -33.160000                  15.11   \n",
       "3               8.290000             -37.220001                  18.24   \n",
       "4              -2.580000             -42.299999                  21.91   \n",
       "\n",
       "   wind-vwnd-925-2010-20  \n",
       "0                   4.58  \n",
       "1                   3.42  \n",
       "2                   4.82  \n",
       "3                   9.74  \n",
       "4                  10.95  \n",
       "\n",
       "[5 rows x 246 columns]"
      ]
     },
     "execution_count": 5,
     "metadata": {},
     "output_type": "execute_result"
    }
   ],
   "source": [
    "cc_train.head()"
   ]
  },
  {
   "cell_type": "code",
   "execution_count": 6,
   "id": "6eb4d23b",
   "metadata": {
    "execution": {
     "iopub.execute_input": "2023-02-23T18:34:48.008219Z",
     "iopub.status.busy": "2023-02-23T18:34:48.006998Z",
     "iopub.status.idle": "2023-02-23T18:34:48.043621Z",
     "shell.execute_reply": "2023-02-23T18:34:48.041955Z"
    },
    "papermill": {
     "duration": 0.061127,
     "end_time": "2023-02-23T18:34:48.046714",
     "exception": false,
     "start_time": "2023-02-23T18:34:47.985587",
     "status": "completed"
    },
    "tags": []
   },
   "outputs": [
    {
     "data": {
      "text/html": [
       "<div>\n",
       "<style scoped>\n",
       "    .dataframe tbody tr th:only-of-type {\n",
       "        vertical-align: middle;\n",
       "    }\n",
       "\n",
       "    .dataframe tbody tr th {\n",
       "        vertical-align: top;\n",
       "    }\n",
       "\n",
       "    .dataframe thead th {\n",
       "        text-align: right;\n",
       "    }\n",
       "</style>\n",
       "<table border=\"1\" class=\"dataframe\">\n",
       "  <thead>\n",
       "    <tr style=\"text-align: right;\">\n",
       "      <th></th>\n",
       "      <th>index</th>\n",
       "      <th>lat</th>\n",
       "      <th>lon</th>\n",
       "      <th>startdate</th>\n",
       "      <th>contest-pevpr-sfc-gauss-14d__pevpr</th>\n",
       "      <th>nmme0-tmp2m-34w__cancm30</th>\n",
       "      <th>nmme0-tmp2m-34w__cancm40</th>\n",
       "      <th>nmme0-tmp2m-34w__ccsm30</th>\n",
       "      <th>nmme0-tmp2m-34w__ccsm40</th>\n",
       "      <th>nmme0-tmp2m-34w__cfsv20</th>\n",
       "      <th>...</th>\n",
       "      <th>wind-vwnd-925-2010-11</th>\n",
       "      <th>wind-vwnd-925-2010-12</th>\n",
       "      <th>wind-vwnd-925-2010-13</th>\n",
       "      <th>wind-vwnd-925-2010-14</th>\n",
       "      <th>wind-vwnd-925-2010-15</th>\n",
       "      <th>wind-vwnd-925-2010-16</th>\n",
       "      <th>wind-vwnd-925-2010-17</th>\n",
       "      <th>wind-vwnd-925-2010-18</th>\n",
       "      <th>wind-vwnd-925-2010-19</th>\n",
       "      <th>wind-vwnd-925-2010-20</th>\n",
       "    </tr>\n",
       "  </thead>\n",
       "  <tbody>\n",
       "    <tr>\n",
       "      <th>0</th>\n",
       "      <td>375734</td>\n",
       "      <td>0.0</td>\n",
       "      <td>0.833333</td>\n",
       "      <td>11/1/22</td>\n",
       "      <td>339.88</td>\n",
       "      <td>30.88</td>\n",
       "      <td>30.92</td>\n",
       "      <td>29.17</td>\n",
       "      <td>31.02</td>\n",
       "      <td>29.47</td>\n",
       "      <td>...</td>\n",
       "      <td>-19.28</td>\n",
       "      <td>-39.77</td>\n",
       "      <td>-29.25</td>\n",
       "      <td>40.88</td>\n",
       "      <td>-8.31</td>\n",
       "      <td>14.91</td>\n",
       "      <td>-24.62</td>\n",
       "      <td>31.05</td>\n",
       "      <td>-23.69</td>\n",
       "      <td>6.27</td>\n",
       "    </tr>\n",
       "    <tr>\n",
       "      <th>1</th>\n",
       "      <td>375735</td>\n",
       "      <td>0.0</td>\n",
       "      <td>0.833333</td>\n",
       "      <td>11/2/22</td>\n",
       "      <td>334.63</td>\n",
       "      <td>30.88</td>\n",
       "      <td>30.92</td>\n",
       "      <td>29.17</td>\n",
       "      <td>31.02</td>\n",
       "      <td>29.47</td>\n",
       "      <td>...</td>\n",
       "      <td>-19.58</td>\n",
       "      <td>-43.14</td>\n",
       "      <td>-28.62</td>\n",
       "      <td>45.37</td>\n",
       "      <td>-5.42</td>\n",
       "      <td>16.97</td>\n",
       "      <td>-23.94</td>\n",
       "      <td>28.84</td>\n",
       "      <td>-20.61</td>\n",
       "      <td>14.16</td>\n",
       "    </tr>\n",
       "    <tr>\n",
       "      <th>2</th>\n",
       "      <td>375736</td>\n",
       "      <td>0.0</td>\n",
       "      <td>0.833333</td>\n",
       "      <td>11/3/22</td>\n",
       "      <td>337.83</td>\n",
       "      <td>30.88</td>\n",
       "      <td>30.92</td>\n",
       "      <td>29.17</td>\n",
       "      <td>31.02</td>\n",
       "      <td>29.47</td>\n",
       "      <td>...</td>\n",
       "      <td>-13.73</td>\n",
       "      <td>-44.22</td>\n",
       "      <td>-27.67</td>\n",
       "      <td>49.76</td>\n",
       "      <td>-1.31</td>\n",
       "      <td>21.44</td>\n",
       "      <td>-19.06</td>\n",
       "      <td>26.85</td>\n",
       "      <td>-16.78</td>\n",
       "      <td>13.42</td>\n",
       "    </tr>\n",
       "    <tr>\n",
       "      <th>3</th>\n",
       "      <td>375737</td>\n",
       "      <td>0.0</td>\n",
       "      <td>0.833333</td>\n",
       "      <td>11/4/22</td>\n",
       "      <td>345.81</td>\n",
       "      <td>30.88</td>\n",
       "      <td>30.92</td>\n",
       "      <td>29.17</td>\n",
       "      <td>31.02</td>\n",
       "      <td>29.47</td>\n",
       "      <td>...</td>\n",
       "      <td>-7.97</td>\n",
       "      <td>-49.47</td>\n",
       "      <td>-19.32</td>\n",
       "      <td>52.62</td>\n",
       "      <td>-0.44</td>\n",
       "      <td>21.65</td>\n",
       "      <td>-23.12</td>\n",
       "      <td>23.70</td>\n",
       "      <td>-18.62</td>\n",
       "      <td>10.69</td>\n",
       "    </tr>\n",
       "    <tr>\n",
       "      <th>4</th>\n",
       "      <td>375738</td>\n",
       "      <td>0.0</td>\n",
       "      <td>0.833333</td>\n",
       "      <td>11/5/22</td>\n",
       "      <td>357.39</td>\n",
       "      <td>30.88</td>\n",
       "      <td>30.92</td>\n",
       "      <td>29.17</td>\n",
       "      <td>31.02</td>\n",
       "      <td>29.47</td>\n",
       "      <td>...</td>\n",
       "      <td>-0.80</td>\n",
       "      <td>-56.07</td>\n",
       "      <td>-9.89</td>\n",
       "      <td>51.23</td>\n",
       "      <td>-7.57</td>\n",
       "      <td>19.86</td>\n",
       "      <td>-30.56</td>\n",
       "      <td>20.66</td>\n",
       "      <td>-25.08</td>\n",
       "      <td>19.64</td>\n",
       "    </tr>\n",
       "  </tbody>\n",
       "</table>\n",
       "<p>5 rows × 245 columns</p>\n",
       "</div>"
      ],
      "text/plain": [
       "    index  lat       lon startdate  contest-pevpr-sfc-gauss-14d__pevpr  \\\n",
       "0  375734  0.0  0.833333   11/1/22                              339.88   \n",
       "1  375735  0.0  0.833333   11/2/22                              334.63   \n",
       "2  375736  0.0  0.833333   11/3/22                              337.83   \n",
       "3  375737  0.0  0.833333   11/4/22                              345.81   \n",
       "4  375738  0.0  0.833333   11/5/22                              357.39   \n",
       "\n",
       "   nmme0-tmp2m-34w__cancm30  nmme0-tmp2m-34w__cancm40  \\\n",
       "0                     30.88                     30.92   \n",
       "1                     30.88                     30.92   \n",
       "2                     30.88                     30.92   \n",
       "3                     30.88                     30.92   \n",
       "4                     30.88                     30.92   \n",
       "\n",
       "   nmme0-tmp2m-34w__ccsm30  nmme0-tmp2m-34w__ccsm40  nmme0-tmp2m-34w__cfsv20  \\\n",
       "0                    29.17                    31.02                    29.47   \n",
       "1                    29.17                    31.02                    29.47   \n",
       "2                    29.17                    31.02                    29.47   \n",
       "3                    29.17                    31.02                    29.47   \n",
       "4                    29.17                    31.02                    29.47   \n",
       "\n",
       "   ...  wind-vwnd-925-2010-11  wind-vwnd-925-2010-12  wind-vwnd-925-2010-13  \\\n",
       "0  ...                 -19.28                 -39.77                 -29.25   \n",
       "1  ...                 -19.58                 -43.14                 -28.62   \n",
       "2  ...                 -13.73                 -44.22                 -27.67   \n",
       "3  ...                  -7.97                 -49.47                 -19.32   \n",
       "4  ...                  -0.80                 -56.07                  -9.89   \n",
       "\n",
       "   wind-vwnd-925-2010-14  wind-vwnd-925-2010-15  wind-vwnd-925-2010-16  \\\n",
       "0                  40.88                  -8.31                  14.91   \n",
       "1                  45.37                  -5.42                  16.97   \n",
       "2                  49.76                  -1.31                  21.44   \n",
       "3                  52.62                  -0.44                  21.65   \n",
       "4                  51.23                  -7.57                  19.86   \n",
       "\n",
       "   wind-vwnd-925-2010-17  wind-vwnd-925-2010-18  wind-vwnd-925-2010-19  \\\n",
       "0                 -24.62                  31.05                 -23.69   \n",
       "1                 -23.94                  28.84                 -20.61   \n",
       "2                 -19.06                  26.85                 -16.78   \n",
       "3                 -23.12                  23.70                 -18.62   \n",
       "4                 -30.56                  20.66                 -25.08   \n",
       "\n",
       "   wind-vwnd-925-2010-20  \n",
       "0                   6.27  \n",
       "1                  14.16  \n",
       "2                  13.42  \n",
       "3                  10.69  \n",
       "4                  19.64  \n",
       "\n",
       "[5 rows x 245 columns]"
      ]
     },
     "execution_count": 6,
     "metadata": {},
     "output_type": "execute_result"
    }
   ],
   "source": [
    "cc_test.head()"
   ]
  },
  {
   "cell_type": "code",
   "execution_count": 7,
   "id": "a6af7bca",
   "metadata": {
    "execution": {
     "iopub.execute_input": "2023-02-23T18:34:48.088509Z",
     "iopub.status.busy": "2023-02-23T18:34:48.087986Z",
     "iopub.status.idle": "2023-02-23T18:34:52.025798Z",
     "shell.execute_reply": "2023-02-23T18:34:52.024152Z"
    },
    "papermill": {
     "duration": 3.962381,
     "end_time": "2023-02-23T18:34:52.028958",
     "exception": false,
     "start_time": "2023-02-23T18:34:48.066577",
     "status": "completed"
    },
    "tags": []
   },
   "outputs": [
    {
     "data": {
      "text/html": [
       "<div>\n",
       "<style scoped>\n",
       "    .dataframe tbody tr th:only-of-type {\n",
       "        vertical-align: middle;\n",
       "    }\n",
       "\n",
       "    .dataframe tbody tr th {\n",
       "        vertical-align: top;\n",
       "    }\n",
       "\n",
       "    .dataframe thead th {\n",
       "        text-align: right;\n",
       "    }\n",
       "</style>\n",
       "<table border=\"1\" class=\"dataframe\">\n",
       "  <thead>\n",
       "    <tr style=\"text-align: right;\">\n",
       "      <th></th>\n",
       "      <th>index</th>\n",
       "      <th>lat</th>\n",
       "      <th>lon</th>\n",
       "      <th>contest-pevpr-sfc-gauss-14d__pevpr</th>\n",
       "      <th>nmme0-tmp2m-34w__cancm30</th>\n",
       "      <th>nmme0-tmp2m-34w__cancm40</th>\n",
       "      <th>nmme0-tmp2m-34w__ccsm30</th>\n",
       "      <th>nmme0-tmp2m-34w__ccsm40</th>\n",
       "      <th>nmme0-tmp2m-34w__cfsv20</th>\n",
       "      <th>nmme0-tmp2m-34w__gfdlflora0</th>\n",
       "      <th>...</th>\n",
       "      <th>wind-vwnd-925-2010-11</th>\n",
       "      <th>wind-vwnd-925-2010-12</th>\n",
       "      <th>wind-vwnd-925-2010-13</th>\n",
       "      <th>wind-vwnd-925-2010-14</th>\n",
       "      <th>wind-vwnd-925-2010-15</th>\n",
       "      <th>wind-vwnd-925-2010-16</th>\n",
       "      <th>wind-vwnd-925-2010-17</th>\n",
       "      <th>wind-vwnd-925-2010-18</th>\n",
       "      <th>wind-vwnd-925-2010-19</th>\n",
       "      <th>wind-vwnd-925-2010-20</th>\n",
       "    </tr>\n",
       "  </thead>\n",
       "  <tbody>\n",
       "    <tr>\n",
       "      <th>count</th>\n",
       "      <td>375734.000000</td>\n",
       "      <td>375734.000000</td>\n",
       "      <td>375734.000000</td>\n",
       "      <td>375734.000000</td>\n",
       "      <td>375734.000000</td>\n",
       "      <td>375734.000000</td>\n",
       "      <td>359800.000000</td>\n",
       "      <td>375734.000000</td>\n",
       "      <td>375734.000000</td>\n",
       "      <td>375734.000000</td>\n",
       "      <td>...</td>\n",
       "      <td>375734.000000</td>\n",
       "      <td>375734.000000</td>\n",
       "      <td>375734.000000</td>\n",
       "      <td>375734.000000</td>\n",
       "      <td>375734.000000</td>\n",
       "      <td>375734.000000</td>\n",
       "      <td>375734.000000</td>\n",
       "      <td>375734.000000</td>\n",
       "      <td>375734.000000</td>\n",
       "      <td>375734.000000</td>\n",
       "    </tr>\n",
       "    <tr>\n",
       "      <th>mean</th>\n",
       "      <td>187866.500000</td>\n",
       "      <td>0.592766</td>\n",
       "      <td>0.517964</td>\n",
       "      <td>276.744049</td>\n",
       "      <td>10.801681</td>\n",
       "      <td>12.726736</td>\n",
       "      <td>10.099324</td>\n",
       "      <td>11.638229</td>\n",
       "      <td>10.733886</td>\n",
       "      <td>11.772648</td>\n",
       "      <td>...</td>\n",
       "      <td>-1.209959</td>\n",
       "      <td>-8.109917</td>\n",
       "      <td>6.800684</td>\n",
       "      <td>19.251972</td>\n",
       "      <td>-17.697563</td>\n",
       "      <td>-9.846868</td>\n",
       "      <td>-6.231860</td>\n",
       "      <td>16.014360</td>\n",
       "      <td>10.489945</td>\n",
       "      <td>11.296336</td>\n",
       "    </tr>\n",
       "    <tr>\n",
       "      <th>std</th>\n",
       "      <td>108465.207359</td>\n",
       "      <td>0.251744</td>\n",
       "      <td>0.272059</td>\n",
       "      <td>198.085175</td>\n",
       "      <td>10.952416</td>\n",
       "      <td>11.073553</td>\n",
       "      <td>10.339626</td>\n",
       "      <td>10.574276</td>\n",
       "      <td>9.403434</td>\n",
       "      <td>10.689967</td>\n",
       "      <td>...</td>\n",
       "      <td>37.317333</td>\n",
       "      <td>36.201508</td>\n",
       "      <td>38.458878</td>\n",
       "      <td>25.288525</td>\n",
       "      <td>31.946749</td>\n",
       "      <td>34.164677</td>\n",
       "      <td>27.050356</td>\n",
       "      <td>25.847456</td>\n",
       "      <td>25.070435</td>\n",
       "      <td>25.113214</td>\n",
       "    </tr>\n",
       "    <tr>\n",
       "      <th>min</th>\n",
       "      <td>0.000000</td>\n",
       "      <td>0.000000</td>\n",
       "      <td>0.000000</td>\n",
       "      <td>-2.310000</td>\n",
       "      <td>-14.960000</td>\n",
       "      <td>-14.970000</td>\n",
       "      <td>-11.720000</td>\n",
       "      <td>-17.559999</td>\n",
       "      <td>-13.720000</td>\n",
       "      <td>-13.330000</td>\n",
       "      <td>...</td>\n",
       "      <td>-94.570000</td>\n",
       "      <td>-89.940002</td>\n",
       "      <td>-64.870003</td>\n",
       "      <td>-39.279999</td>\n",
       "      <td>-100.559998</td>\n",
       "      <td>-106.080002</td>\n",
       "      <td>-93.980003</td>\n",
       "      <td>-52.610001</td>\n",
       "      <td>-66.110001</td>\n",
       "      <td>-57.610001</td>\n",
       "    </tr>\n",
       "    <tr>\n",
       "      <th>25%</th>\n",
       "      <td>93933.250000</td>\n",
       "      <td>0.409091</td>\n",
       "      <td>0.300000</td>\n",
       "      <td>104.062498</td>\n",
       "      <td>1.550000</td>\n",
       "      <td>3.650000</td>\n",
       "      <td>1.640000</td>\n",
       "      <td>3.080000</td>\n",
       "      <td>3.390000</td>\n",
       "      <td>2.970000</td>\n",
       "      <td>...</td>\n",
       "      <td>-27.200001</td>\n",
       "      <td>-33.349998</td>\n",
       "      <td>-19.650000</td>\n",
       "      <td>1.960000</td>\n",
       "      <td>-40.029999</td>\n",
       "      <td>-32.169998</td>\n",
       "      <td>-20.170000</td>\n",
       "      <td>-0.360000</td>\n",
       "      <td>-6.790000</td>\n",
       "      <td>-5.570000</td>\n",
       "    </tr>\n",
       "    <tr>\n",
       "      <th>50%</th>\n",
       "      <td>187866.500000</td>\n",
       "      <td>0.590909</td>\n",
       "      <td>0.533333</td>\n",
       "      <td>250.320007</td>\n",
       "      <td>9.950000</td>\n",
       "      <td>11.890000</td>\n",
       "      <td>9.490000</td>\n",
       "      <td>11.600000</td>\n",
       "      <td>10.890000</td>\n",
       "      <td>11.280000</td>\n",
       "      <td>...</td>\n",
       "      <td>-3.200000</td>\n",
       "      <td>-9.390000</td>\n",
       "      <td>2.330000</td>\n",
       "      <td>20.049999</td>\n",
       "      <td>-16.709999</td>\n",
       "      <td>-8.560000</td>\n",
       "      <td>-6.030000</td>\n",
       "      <td>18.650000</td>\n",
       "      <td>11.860000</td>\n",
       "      <td>11.650000</td>\n",
       "    </tr>\n",
       "    <tr>\n",
       "      <th>75%</th>\n",
       "      <td>281799.750000</td>\n",
       "      <td>0.818182</td>\n",
       "      <td>0.766667</td>\n",
       "      <td>420.010010</td>\n",
       "      <td>20.230000</td>\n",
       "      <td>22.110001</td>\n",
       "      <td>18.740000</td>\n",
       "      <td>20.360001</td>\n",
       "      <td>18.330000</td>\n",
       "      <td>20.299999</td>\n",
       "      <td>...</td>\n",
       "      <td>24.940001</td>\n",
       "      <td>17.959999</td>\n",
       "      <td>28.660000</td>\n",
       "      <td>35.090000</td>\n",
       "      <td>4.390000</td>\n",
       "      <td>10.500000</td>\n",
       "      <td>11.630000</td>\n",
       "      <td>31.209999</td>\n",
       "      <td>29.040001</td>\n",
       "      <td>29.180000</td>\n",
       "    </tr>\n",
       "    <tr>\n",
       "      <th>max</th>\n",
       "      <td>375733.000000</td>\n",
       "      <td>1.000000</td>\n",
       "      <td>1.000000</td>\n",
       "      <td>1185.140015</td>\n",
       "      <td>36.080002</td>\n",
       "      <td>36.029999</td>\n",
       "      <td>33.389999</td>\n",
       "      <td>34.639999</td>\n",
       "      <td>35.750000</td>\n",
       "      <td>38.349998</td>\n",
       "      <td>...</td>\n",
       "      <td>113.919998</td>\n",
       "      <td>96.550003</td>\n",
       "      <td>106.419998</td>\n",
       "      <td>91.760002</td>\n",
       "      <td>56.549999</td>\n",
       "      <td>83.889999</td>\n",
       "      <td>64.849998</td>\n",
       "      <td>90.389999</td>\n",
       "      <td>76.889999</td>\n",
       "      <td>88.660004</td>\n",
       "    </tr>\n",
       "  </tbody>\n",
       "</table>\n",
       "<p>8 rows × 244 columns</p>\n",
       "</div>"
      ],
      "text/plain": [
       "               index            lat            lon  \\\n",
       "count  375734.000000  375734.000000  375734.000000   \n",
       "mean   187866.500000       0.592766       0.517964   \n",
       "std    108465.207359       0.251744       0.272059   \n",
       "min         0.000000       0.000000       0.000000   \n",
       "25%     93933.250000       0.409091       0.300000   \n",
       "50%    187866.500000       0.590909       0.533333   \n",
       "75%    281799.750000       0.818182       0.766667   \n",
       "max    375733.000000       1.000000       1.000000   \n",
       "\n",
       "       contest-pevpr-sfc-gauss-14d__pevpr  nmme0-tmp2m-34w__cancm30  \\\n",
       "count                       375734.000000             375734.000000   \n",
       "mean                           276.744049                 10.801681   \n",
       "std                            198.085175                 10.952416   \n",
       "min                             -2.310000                -14.960000   \n",
       "25%                            104.062498                  1.550000   \n",
       "50%                            250.320007                  9.950000   \n",
       "75%                            420.010010                 20.230000   \n",
       "max                           1185.140015                 36.080002   \n",
       "\n",
       "       nmme0-tmp2m-34w__cancm40  nmme0-tmp2m-34w__ccsm30  \\\n",
       "count             375734.000000            359800.000000   \n",
       "mean                  12.726736                10.099324   \n",
       "std                   11.073553                10.339626   \n",
       "min                  -14.970000               -11.720000   \n",
       "25%                    3.650000                 1.640000   \n",
       "50%                   11.890000                 9.490000   \n",
       "75%                   22.110001                18.740000   \n",
       "max                   36.029999                33.389999   \n",
       "\n",
       "       nmme0-tmp2m-34w__ccsm40  nmme0-tmp2m-34w__cfsv20  \\\n",
       "count            375734.000000            375734.000000   \n",
       "mean                 11.638229                10.733886   \n",
       "std                  10.574276                 9.403434   \n",
       "min                 -17.559999               -13.720000   \n",
       "25%                   3.080000                 3.390000   \n",
       "50%                  11.600000                10.890000   \n",
       "75%                  20.360001                18.330000   \n",
       "max                  34.639999                35.750000   \n",
       "\n",
       "       nmme0-tmp2m-34w__gfdlflora0  ...  wind-vwnd-925-2010-11  \\\n",
       "count                375734.000000  ...          375734.000000   \n",
       "mean                     11.772648  ...              -1.209959   \n",
       "std                      10.689967  ...              37.317333   \n",
       "min                     -13.330000  ...             -94.570000   \n",
       "25%                       2.970000  ...             -27.200001   \n",
       "50%                      11.280000  ...              -3.200000   \n",
       "75%                      20.299999  ...              24.940001   \n",
       "max                      38.349998  ...             113.919998   \n",
       "\n",
       "       wind-vwnd-925-2010-12  wind-vwnd-925-2010-13  wind-vwnd-925-2010-14  \\\n",
       "count          375734.000000          375734.000000          375734.000000   \n",
       "mean               -8.109917               6.800684              19.251972   \n",
       "std                36.201508              38.458878              25.288525   \n",
       "min               -89.940002             -64.870003             -39.279999   \n",
       "25%               -33.349998             -19.650000               1.960000   \n",
       "50%                -9.390000               2.330000              20.049999   \n",
       "75%                17.959999              28.660000              35.090000   \n",
       "max                96.550003             106.419998              91.760002   \n",
       "\n",
       "       wind-vwnd-925-2010-15  wind-vwnd-925-2010-16  wind-vwnd-925-2010-17  \\\n",
       "count          375734.000000          375734.000000          375734.000000   \n",
       "mean              -17.697563              -9.846868              -6.231860   \n",
       "std                31.946749              34.164677              27.050356   \n",
       "min              -100.559998            -106.080002             -93.980003   \n",
       "25%               -40.029999             -32.169998             -20.170000   \n",
       "50%               -16.709999              -8.560000              -6.030000   \n",
       "75%                 4.390000              10.500000              11.630000   \n",
       "max                56.549999              83.889999              64.849998   \n",
       "\n",
       "       wind-vwnd-925-2010-18  wind-vwnd-925-2010-19  wind-vwnd-925-2010-20  \n",
       "count          375734.000000          375734.000000          375734.000000  \n",
       "mean               16.014360              10.489945              11.296336  \n",
       "std                25.847456              25.070435              25.113214  \n",
       "min               -52.610001             -66.110001             -57.610001  \n",
       "25%                -0.360000              -6.790000              -5.570000  \n",
       "50%                18.650000              11.860000              11.650000  \n",
       "75%                31.209999              29.040001              29.180000  \n",
       "max                90.389999              76.889999              88.660004  \n",
       "\n",
       "[8 rows x 244 columns]"
      ]
     },
     "execution_count": 7,
     "metadata": {},
     "output_type": "execute_result"
    }
   ],
   "source": [
    "cc_train.describe()"
   ]
  },
  {
   "cell_type": "code",
   "execution_count": 8,
   "id": "fc5afb8e",
   "metadata": {
    "execution": {
     "iopub.execute_input": "2023-02-23T18:34:52.072303Z",
     "iopub.status.busy": "2023-02-23T18:34:52.071772Z",
     "iopub.status.idle": "2023-02-23T18:34:52.102144Z",
     "shell.execute_reply": "2023-02-23T18:34:52.100150Z"
    },
    "papermill": {
     "duration": 0.057326,
     "end_time": "2023-02-23T18:34:52.106603",
     "exception": false,
     "start_time": "2023-02-23T18:34:52.049277",
     "status": "completed"
    },
    "tags": []
   },
   "outputs": [
    {
     "name": "stdout",
     "output_type": "stream",
     "text": [
      "<class 'pandas.core.frame.DataFrame'>\n",
      "RangeIndex: 375734 entries, 0 to 375733\n",
      "Columns: 246 entries, index to wind-vwnd-925-2010-20\n",
      "dtypes: float32(240), int32(1), int8(3), object(2)\n",
      "memory usage: 352.2+ MB\n"
     ]
    }
   ],
   "source": [
    "cc_train.info()"
   ]
  },
  {
   "cell_type": "code",
   "execution_count": 9,
   "id": "af2f5eca",
   "metadata": {
    "execution": {
     "iopub.execute_input": "2023-02-23T18:34:52.156211Z",
     "iopub.status.busy": "2023-02-23T18:34:52.155672Z",
     "iopub.status.idle": "2023-02-23T18:34:52.163146Z",
     "shell.execute_reply": "2023-02-23T18:34:52.161064Z"
    },
    "papermill": {
     "duration": 0.036479,
     "end_time": "2023-02-23T18:34:52.166050",
     "exception": false,
     "start_time": "2023-02-23T18:34:52.129571",
     "status": "completed"
    },
    "tags": []
   },
   "outputs": [
    {
     "name": "stdout",
     "output_type": "stream",
     "text": [
      "(375734, 246)\n"
     ]
    }
   ],
   "source": [
    "print(cc_train.shape)"
   ]
  },
  {
   "cell_type": "code",
   "execution_count": 10,
   "id": "082dee85",
   "metadata": {
    "execution": {
     "iopub.execute_input": "2023-02-23T18:34:52.209129Z",
     "iopub.status.busy": "2023-02-23T18:34:52.207509Z",
     "iopub.status.idle": "2023-02-23T18:34:52.478979Z",
     "shell.execute_reply": "2023-02-23T18:34:52.477523Z"
    },
    "papermill": {
     "duration": 0.295842,
     "end_time": "2023-02-23T18:34:52.481827",
     "exception": false,
     "start_time": "2023-02-23T18:34:52.185985",
     "status": "completed"
    },
    "tags": []
   },
   "outputs": [],
   "source": [
    "train_df = cc_train.copy()\n",
    "test_df = cc_test.copy()"
   ]
  },
  {
   "cell_type": "markdown",
   "id": "4ec9ebea",
   "metadata": {
    "papermill": {
     "duration": 0.01957,
     "end_time": "2023-02-23T18:34:52.521266",
     "exception": false,
     "start_time": "2023-02-23T18:34:52.501696",
     "status": "completed"
    },
    "tags": []
   },
   "source": [
    "# Tukey's Method to detect outliers\n",
    "\n",
    "---\n",
    "\n",
    "Tukey's method is used for identifying and removing outliers from a dataset. It involves using the interquartile range (IQR), which is the range between the 25th and 75th percentiles of the data, to determine whether a data point is an outlier. Any data points that fall outside of the range (Q1 - 1.5IQR, Q3 + 1.5IQR) are considered outliers and can be removed. This method is a simple and effective way to handle outliers in a dataset."
   ]
  },
  {
   "cell_type": "code",
   "execution_count": 11,
   "id": "52a6aedf",
   "metadata": {
    "execution": {
     "iopub.execute_input": "2023-02-23T18:34:52.564204Z",
     "iopub.status.busy": "2023-02-23T18:34:52.563280Z",
     "iopub.status.idle": "2023-02-23T18:35:00.438907Z",
     "shell.execute_reply": "2023-02-23T18:35:00.437130Z"
    },
    "papermill": {
     "duration": 7.903719,
     "end_time": "2023-02-23T18:35:00.444666",
     "exception": false,
     "start_time": "2023-02-23T18:34:52.540947",
     "status": "completed"
    },
    "tags": []
   },
   "outputs": [
    {
     "data": {
      "text/plain": [
       "(375734, 246)"
      ]
     },
     "execution_count": 11,
     "metadata": {},
     "output_type": "execute_result"
    }
   ],
   "source": [
    "from scipy.stats import iqr\n",
    "\n",
    "def remove_outliers_tukey(data, alpha=1.5):\n",
    "    '''\n",
    "    Remove outliers using Tukey's method with the interquartile range (IQR).\n",
    "    \n",
    "    Parameters:\n",
    "    data (numpy array or pandas dataframe): The data to remove outliers from.\n",
    "    alpha (float): The sensitivity parameter, which determines the range to consider outliers.\n",
    "                   A value of 1.5 is the default, which is a commonly used value.\n",
    "    \n",
    "    Returns:\n",
    "    numpy array or pandas dataframe: The data with outliers removed.\n",
    "    '''\n",
    "    # Select only the numerical columns\n",
    "    num_cols = data.select_dtypes(include=[np.number]).columns\n",
    "    data_num = data[num_cols]\n",
    "    \n",
    "    # Compute the first and third quartiles\n",
    "    q1, q3 = np.percentile(data_num, [25, 75])\n",
    "    \n",
    "    # Compute the interquartile range (IQR)\n",
    "    iqr_val = iqr(data_num)\n",
    "    \n",
    "    # Compute the range outside of which data points are considered outliers\n",
    "    outlier_range = (q1 - alpha * iqr_val, q3 + alpha * iqr_val)\n",
    "    \n",
    "    # Identify the outliers and remove them\n",
    "    outliers = (data_num < outlier_range[0]) | (data_num > outlier_range[1])\n",
    "    data_num_no_outliers = data_num[~outliers]\n",
    "    \n",
    "    # Merge the numerical columns back into the original data frame\n",
    "    data_no_outliers = pd.concat([data_num_no_outliers, data.select_dtypes(exclude=[np.number])], axis=1)\n",
    "    \n",
    "    return data_no_outliers\n",
    "\n",
    "data_with_removed_outliers = remove_outliers_tukey(train_df)\n",
    "data_with_removed_outliers.shape\n",
    "\n"
   ]
  },
  {
   "cell_type": "code",
   "execution_count": 12,
   "id": "1c20d43b",
   "metadata": {
    "execution": {
     "iopub.execute_input": "2023-02-23T18:35:00.489576Z",
     "iopub.status.busy": "2023-02-23T18:35:00.489041Z",
     "iopub.status.idle": "2023-02-23T18:35:04.565045Z",
     "shell.execute_reply": "2023-02-23T18:35:04.563624Z"
    },
    "papermill": {
     "duration": 4.100846,
     "end_time": "2023-02-23T18:35:04.567978",
     "exception": false,
     "start_time": "2023-02-23T18:35:00.467132",
     "status": "completed"
    },
    "tags": []
   },
   "outputs": [
    {
     "data": {
      "text/html": [
       "<div>\n",
       "<style scoped>\n",
       "    .dataframe tbody tr th:only-of-type {\n",
       "        vertical-align: middle;\n",
       "    }\n",
       "\n",
       "    .dataframe tbody tr th {\n",
       "        vertical-align: top;\n",
       "    }\n",
       "\n",
       "    .dataframe thead th {\n",
       "        text-align: right;\n",
       "    }\n",
       "</style>\n",
       "<table border=\"1\" class=\"dataframe\">\n",
       "  <thead>\n",
       "    <tr style=\"text-align: right;\">\n",
       "      <th></th>\n",
       "      <th>index</th>\n",
       "      <th>lat</th>\n",
       "      <th>lon</th>\n",
       "      <th>contest-pevpr-sfc-gauss-14d__pevpr</th>\n",
       "      <th>nmme0-tmp2m-34w__cancm30</th>\n",
       "      <th>nmme0-tmp2m-34w__cancm40</th>\n",
       "      <th>nmme0-tmp2m-34w__ccsm30</th>\n",
       "      <th>nmme0-tmp2m-34w__ccsm40</th>\n",
       "      <th>nmme0-tmp2m-34w__cfsv20</th>\n",
       "      <th>nmme0-tmp2m-34w__gfdlflora0</th>\n",
       "      <th>...</th>\n",
       "      <th>wind-vwnd-925-2010-11</th>\n",
       "      <th>wind-vwnd-925-2010-12</th>\n",
       "      <th>wind-vwnd-925-2010-13</th>\n",
       "      <th>wind-vwnd-925-2010-14</th>\n",
       "      <th>wind-vwnd-925-2010-15</th>\n",
       "      <th>wind-vwnd-925-2010-16</th>\n",
       "      <th>wind-vwnd-925-2010-17</th>\n",
       "      <th>wind-vwnd-925-2010-18</th>\n",
       "      <th>wind-vwnd-925-2010-19</th>\n",
       "      <th>wind-vwnd-925-2010-20</th>\n",
       "    </tr>\n",
       "  </thead>\n",
       "  <tbody>\n",
       "    <tr>\n",
       "      <th>count</th>\n",
       "      <td>375734.000000</td>\n",
       "      <td>375734.000000</td>\n",
       "      <td>375734.000000</td>\n",
       "      <td>375734.000000</td>\n",
       "      <td>375734.000000</td>\n",
       "      <td>375734.000000</td>\n",
       "      <td>359800.000000</td>\n",
       "      <td>375734.000000</td>\n",
       "      <td>375734.000000</td>\n",
       "      <td>375734.000000</td>\n",
       "      <td>...</td>\n",
       "      <td>375734.000000</td>\n",
       "      <td>375734.000000</td>\n",
       "      <td>375734.000000</td>\n",
       "      <td>375734.000000</td>\n",
       "      <td>375734.000000</td>\n",
       "      <td>375734.000000</td>\n",
       "      <td>375734.000000</td>\n",
       "      <td>375734.000000</td>\n",
       "      <td>375734.000000</td>\n",
       "      <td>375734.000000</td>\n",
       "    </tr>\n",
       "    <tr>\n",
       "      <th>mean</th>\n",
       "      <td>187866.500000</td>\n",
       "      <td>0.592766</td>\n",
       "      <td>0.517964</td>\n",
       "      <td>276.744049</td>\n",
       "      <td>10.801681</td>\n",
       "      <td>12.726736</td>\n",
       "      <td>10.099324</td>\n",
       "      <td>11.638229</td>\n",
       "      <td>10.733886</td>\n",
       "      <td>11.772648</td>\n",
       "      <td>...</td>\n",
       "      <td>-1.209959</td>\n",
       "      <td>-8.109917</td>\n",
       "      <td>6.800684</td>\n",
       "      <td>19.251972</td>\n",
       "      <td>-17.697563</td>\n",
       "      <td>-9.846868</td>\n",
       "      <td>-6.231860</td>\n",
       "      <td>16.014360</td>\n",
       "      <td>10.489945</td>\n",
       "      <td>11.296336</td>\n",
       "    </tr>\n",
       "    <tr>\n",
       "      <th>std</th>\n",
       "      <td>108465.207359</td>\n",
       "      <td>0.251744</td>\n",
       "      <td>0.272059</td>\n",
       "      <td>198.085175</td>\n",
       "      <td>10.952416</td>\n",
       "      <td>11.073553</td>\n",
       "      <td>10.339626</td>\n",
       "      <td>10.574276</td>\n",
       "      <td>9.403434</td>\n",
       "      <td>10.689967</td>\n",
       "      <td>...</td>\n",
       "      <td>37.317333</td>\n",
       "      <td>36.201508</td>\n",
       "      <td>38.458878</td>\n",
       "      <td>25.288525</td>\n",
       "      <td>31.946749</td>\n",
       "      <td>34.164677</td>\n",
       "      <td>27.050356</td>\n",
       "      <td>25.847456</td>\n",
       "      <td>25.070435</td>\n",
       "      <td>25.113214</td>\n",
       "    </tr>\n",
       "    <tr>\n",
       "      <th>min</th>\n",
       "      <td>0.000000</td>\n",
       "      <td>0.000000</td>\n",
       "      <td>0.000000</td>\n",
       "      <td>-2.310000</td>\n",
       "      <td>-14.960000</td>\n",
       "      <td>-14.970000</td>\n",
       "      <td>-11.720000</td>\n",
       "      <td>-17.559999</td>\n",
       "      <td>-13.720000</td>\n",
       "      <td>-13.330000</td>\n",
       "      <td>...</td>\n",
       "      <td>-94.570000</td>\n",
       "      <td>-89.940002</td>\n",
       "      <td>-64.870003</td>\n",
       "      <td>-39.279999</td>\n",
       "      <td>-100.559998</td>\n",
       "      <td>-106.080002</td>\n",
       "      <td>-93.980003</td>\n",
       "      <td>-52.610001</td>\n",
       "      <td>-66.110001</td>\n",
       "      <td>-57.610001</td>\n",
       "    </tr>\n",
       "    <tr>\n",
       "      <th>25%</th>\n",
       "      <td>93933.250000</td>\n",
       "      <td>0.409091</td>\n",
       "      <td>0.300000</td>\n",
       "      <td>104.062498</td>\n",
       "      <td>1.550000</td>\n",
       "      <td>3.650000</td>\n",
       "      <td>1.640000</td>\n",
       "      <td>3.080000</td>\n",
       "      <td>3.390000</td>\n",
       "      <td>2.970000</td>\n",
       "      <td>...</td>\n",
       "      <td>-27.200001</td>\n",
       "      <td>-33.349998</td>\n",
       "      <td>-19.650000</td>\n",
       "      <td>1.960000</td>\n",
       "      <td>-40.029999</td>\n",
       "      <td>-32.169998</td>\n",
       "      <td>-20.170000</td>\n",
       "      <td>-0.360000</td>\n",
       "      <td>-6.790000</td>\n",
       "      <td>-5.570000</td>\n",
       "    </tr>\n",
       "    <tr>\n",
       "      <th>50%</th>\n",
       "      <td>187866.500000</td>\n",
       "      <td>0.590909</td>\n",
       "      <td>0.533333</td>\n",
       "      <td>250.320007</td>\n",
       "      <td>9.950000</td>\n",
       "      <td>11.890000</td>\n",
       "      <td>9.490000</td>\n",
       "      <td>11.600000</td>\n",
       "      <td>10.890000</td>\n",
       "      <td>11.280000</td>\n",
       "      <td>...</td>\n",
       "      <td>-3.200000</td>\n",
       "      <td>-9.390000</td>\n",
       "      <td>2.330000</td>\n",
       "      <td>20.049999</td>\n",
       "      <td>-16.709999</td>\n",
       "      <td>-8.560000</td>\n",
       "      <td>-6.030000</td>\n",
       "      <td>18.650000</td>\n",
       "      <td>11.860000</td>\n",
       "      <td>11.650000</td>\n",
       "    </tr>\n",
       "    <tr>\n",
       "      <th>75%</th>\n",
       "      <td>281799.750000</td>\n",
       "      <td>0.818182</td>\n",
       "      <td>0.766667</td>\n",
       "      <td>420.010010</td>\n",
       "      <td>20.230000</td>\n",
       "      <td>22.110001</td>\n",
       "      <td>18.740000</td>\n",
       "      <td>20.360001</td>\n",
       "      <td>18.330000</td>\n",
       "      <td>20.299999</td>\n",
       "      <td>...</td>\n",
       "      <td>24.940001</td>\n",
       "      <td>17.959999</td>\n",
       "      <td>28.660000</td>\n",
       "      <td>35.090000</td>\n",
       "      <td>4.390000</td>\n",
       "      <td>10.500000</td>\n",
       "      <td>11.630000</td>\n",
       "      <td>31.209999</td>\n",
       "      <td>29.040001</td>\n",
       "      <td>29.180000</td>\n",
       "    </tr>\n",
       "    <tr>\n",
       "      <th>max</th>\n",
       "      <td>375733.000000</td>\n",
       "      <td>1.000000</td>\n",
       "      <td>1.000000</td>\n",
       "      <td>1185.140015</td>\n",
       "      <td>36.080002</td>\n",
       "      <td>36.029999</td>\n",
       "      <td>33.389999</td>\n",
       "      <td>34.639999</td>\n",
       "      <td>35.750000</td>\n",
       "      <td>38.349998</td>\n",
       "      <td>...</td>\n",
       "      <td>113.919998</td>\n",
       "      <td>96.550003</td>\n",
       "      <td>106.419998</td>\n",
       "      <td>91.760002</td>\n",
       "      <td>56.549999</td>\n",
       "      <td>83.889999</td>\n",
       "      <td>64.849998</td>\n",
       "      <td>90.389999</td>\n",
       "      <td>76.889999</td>\n",
       "      <td>88.660004</td>\n",
       "    </tr>\n",
       "  </tbody>\n",
       "</table>\n",
       "<p>8 rows × 244 columns</p>\n",
       "</div>"
      ],
      "text/plain": [
       "               index            lat            lon  \\\n",
       "count  375734.000000  375734.000000  375734.000000   \n",
       "mean   187866.500000       0.592766       0.517964   \n",
       "std    108465.207359       0.251744       0.272059   \n",
       "min         0.000000       0.000000       0.000000   \n",
       "25%     93933.250000       0.409091       0.300000   \n",
       "50%    187866.500000       0.590909       0.533333   \n",
       "75%    281799.750000       0.818182       0.766667   \n",
       "max    375733.000000       1.000000       1.000000   \n",
       "\n",
       "       contest-pevpr-sfc-gauss-14d__pevpr  nmme0-tmp2m-34w__cancm30  \\\n",
       "count                       375734.000000             375734.000000   \n",
       "mean                           276.744049                 10.801681   \n",
       "std                            198.085175                 10.952416   \n",
       "min                             -2.310000                -14.960000   \n",
       "25%                            104.062498                  1.550000   \n",
       "50%                            250.320007                  9.950000   \n",
       "75%                            420.010010                 20.230000   \n",
       "max                           1185.140015                 36.080002   \n",
       "\n",
       "       nmme0-tmp2m-34w__cancm40  nmme0-tmp2m-34w__ccsm30  \\\n",
       "count             375734.000000            359800.000000   \n",
       "mean                  12.726736                10.099324   \n",
       "std                   11.073553                10.339626   \n",
       "min                  -14.970000               -11.720000   \n",
       "25%                    3.650000                 1.640000   \n",
       "50%                   11.890000                 9.490000   \n",
       "75%                   22.110001                18.740000   \n",
       "max                   36.029999                33.389999   \n",
       "\n",
       "       nmme0-tmp2m-34w__ccsm40  nmme0-tmp2m-34w__cfsv20  \\\n",
       "count            375734.000000            375734.000000   \n",
       "mean                 11.638229                10.733886   \n",
       "std                  10.574276                 9.403434   \n",
       "min                 -17.559999               -13.720000   \n",
       "25%                   3.080000                 3.390000   \n",
       "50%                  11.600000                10.890000   \n",
       "75%                  20.360001                18.330000   \n",
       "max                  34.639999                35.750000   \n",
       "\n",
       "       nmme0-tmp2m-34w__gfdlflora0  ...  wind-vwnd-925-2010-11  \\\n",
       "count                375734.000000  ...          375734.000000   \n",
       "mean                     11.772648  ...              -1.209959   \n",
       "std                      10.689967  ...              37.317333   \n",
       "min                     -13.330000  ...             -94.570000   \n",
       "25%                       2.970000  ...             -27.200001   \n",
       "50%                      11.280000  ...              -3.200000   \n",
       "75%                      20.299999  ...              24.940001   \n",
       "max                      38.349998  ...             113.919998   \n",
       "\n",
       "       wind-vwnd-925-2010-12  wind-vwnd-925-2010-13  wind-vwnd-925-2010-14  \\\n",
       "count          375734.000000          375734.000000          375734.000000   \n",
       "mean               -8.109917               6.800684              19.251972   \n",
       "std                36.201508              38.458878              25.288525   \n",
       "min               -89.940002             -64.870003             -39.279999   \n",
       "25%               -33.349998             -19.650000               1.960000   \n",
       "50%                -9.390000               2.330000              20.049999   \n",
       "75%                17.959999              28.660000              35.090000   \n",
       "max                96.550003             106.419998              91.760002   \n",
       "\n",
       "       wind-vwnd-925-2010-15  wind-vwnd-925-2010-16  wind-vwnd-925-2010-17  \\\n",
       "count          375734.000000          375734.000000          375734.000000   \n",
       "mean              -17.697563              -9.846868              -6.231860   \n",
       "std                31.946749              34.164677              27.050356   \n",
       "min              -100.559998            -106.080002             -93.980003   \n",
       "25%               -40.029999             -32.169998             -20.170000   \n",
       "50%               -16.709999              -8.560000              -6.030000   \n",
       "75%                 4.390000              10.500000              11.630000   \n",
       "max                56.549999              83.889999              64.849998   \n",
       "\n",
       "       wind-vwnd-925-2010-18  wind-vwnd-925-2010-19  wind-vwnd-925-2010-20  \n",
       "count          375734.000000          375734.000000          375734.000000  \n",
       "mean               16.014360              10.489945              11.296336  \n",
       "std                25.847456              25.070435              25.113214  \n",
       "min               -52.610001             -66.110001             -57.610001  \n",
       "25%                -0.360000              -6.790000              -5.570000  \n",
       "50%                18.650000              11.860000              11.650000  \n",
       "75%                31.209999              29.040001              29.180000  \n",
       "max                90.389999              76.889999              88.660004  \n",
       "\n",
       "[8 rows x 244 columns]"
      ]
     },
     "execution_count": 12,
     "metadata": {},
     "output_type": "execute_result"
    }
   ],
   "source": [
    "data_with_removed_outliers.describe()"
   ]
  },
  {
   "cell_type": "code",
   "execution_count": 13,
   "id": "6ce35521",
   "metadata": {
    "execution": {
     "iopub.execute_input": "2023-02-23T18:35:04.611703Z",
     "iopub.status.busy": "2023-02-23T18:35:04.611272Z",
     "iopub.status.idle": "2023-02-23T18:35:04.643029Z",
     "shell.execute_reply": "2023-02-23T18:35:04.641626Z"
    },
    "papermill": {
     "duration": 0.05653,
     "end_time": "2023-02-23T18:35:04.645710",
     "exception": false,
     "start_time": "2023-02-23T18:35:04.589180",
     "status": "completed"
    },
    "tags": []
   },
   "outputs": [
    {
     "data": {
      "text/html": [
       "<div>\n",
       "<style scoped>\n",
       "    .dataframe tbody tr th:only-of-type {\n",
       "        vertical-align: middle;\n",
       "    }\n",
       "\n",
       "    .dataframe tbody tr th {\n",
       "        vertical-align: top;\n",
       "    }\n",
       "\n",
       "    .dataframe thead th {\n",
       "        text-align: right;\n",
       "    }\n",
       "</style>\n",
       "<table border=\"1\" class=\"dataframe\">\n",
       "  <thead>\n",
       "    <tr style=\"text-align: right;\">\n",
       "      <th></th>\n",
       "      <th>index</th>\n",
       "      <th>lat</th>\n",
       "      <th>lon</th>\n",
       "      <th>contest-pevpr-sfc-gauss-14d__pevpr</th>\n",
       "      <th>nmme0-tmp2m-34w__cancm30</th>\n",
       "      <th>nmme0-tmp2m-34w__cancm40</th>\n",
       "      <th>nmme0-tmp2m-34w__ccsm30</th>\n",
       "      <th>nmme0-tmp2m-34w__ccsm40</th>\n",
       "      <th>nmme0-tmp2m-34w__cfsv20</th>\n",
       "      <th>nmme0-tmp2m-34w__gfdlflora0</th>\n",
       "      <th>...</th>\n",
       "      <th>wind-vwnd-925-2010-13</th>\n",
       "      <th>wind-vwnd-925-2010-14</th>\n",
       "      <th>wind-vwnd-925-2010-15</th>\n",
       "      <th>wind-vwnd-925-2010-16</th>\n",
       "      <th>wind-vwnd-925-2010-17</th>\n",
       "      <th>wind-vwnd-925-2010-18</th>\n",
       "      <th>wind-vwnd-925-2010-19</th>\n",
       "      <th>wind-vwnd-925-2010-20</th>\n",
       "      <th>startdate</th>\n",
       "      <th>climateregions__climateregion</th>\n",
       "    </tr>\n",
       "  </thead>\n",
       "  <tbody>\n",
       "    <tr>\n",
       "      <th>0</th>\n",
       "      <td>0</td>\n",
       "      <td>0.0</td>\n",
       "      <td>0.833333</td>\n",
       "      <td>237.000000</td>\n",
       "      <td>29.02</td>\n",
       "      <td>31.639999</td>\n",
       "      <td>29.57</td>\n",
       "      <td>30.73</td>\n",
       "      <td>29.709999</td>\n",
       "      <td>31.52</td>\n",
       "      <td>...</td>\n",
       "      <td>8.32</td>\n",
       "      <td>9.560000</td>\n",
       "      <td>-2.03</td>\n",
       "      <td>48.130001</td>\n",
       "      <td>28.090000</td>\n",
       "      <td>-13.500000</td>\n",
       "      <td>11.90</td>\n",
       "      <td>4.58</td>\n",
       "      <td>9/1/14</td>\n",
       "      <td>BSh</td>\n",
       "    </tr>\n",
       "    <tr>\n",
       "      <th>1</th>\n",
       "      <td>1</td>\n",
       "      <td>0.0</td>\n",
       "      <td>0.833333</td>\n",
       "      <td>228.899994</td>\n",
       "      <td>29.02</td>\n",
       "      <td>31.639999</td>\n",
       "      <td>29.57</td>\n",
       "      <td>30.73</td>\n",
       "      <td>29.709999</td>\n",
       "      <td>31.52</td>\n",
       "      <td>...</td>\n",
       "      <td>8.77</td>\n",
       "      <td>21.170000</td>\n",
       "      <td>4.44</td>\n",
       "      <td>48.599998</td>\n",
       "      <td>27.410000</td>\n",
       "      <td>-23.770000</td>\n",
       "      <td>15.44</td>\n",
       "      <td>3.42</td>\n",
       "      <td>9/2/14</td>\n",
       "      <td>BSh</td>\n",
       "    </tr>\n",
       "    <tr>\n",
       "      <th>2</th>\n",
       "      <td>2</td>\n",
       "      <td>0.0</td>\n",
       "      <td>0.833333</td>\n",
       "      <td>220.690002</td>\n",
       "      <td>29.02</td>\n",
       "      <td>31.639999</td>\n",
       "      <td>29.57</td>\n",
       "      <td>30.73</td>\n",
       "      <td>29.709999</td>\n",
       "      <td>31.52</td>\n",
       "      <td>...</td>\n",
       "      <td>6.99</td>\n",
       "      <td>32.160000</td>\n",
       "      <td>5.01</td>\n",
       "      <td>48.529999</td>\n",
       "      <td>19.209999</td>\n",
       "      <td>-33.160000</td>\n",
       "      <td>15.11</td>\n",
       "      <td>4.82</td>\n",
       "      <td>9/3/14</td>\n",
       "      <td>BSh</td>\n",
       "    </tr>\n",
       "    <tr>\n",
       "      <th>3</th>\n",
       "      <td>3</td>\n",
       "      <td>0.0</td>\n",
       "      <td>0.833333</td>\n",
       "      <td>225.279999</td>\n",
       "      <td>29.02</td>\n",
       "      <td>31.639999</td>\n",
       "      <td>29.57</td>\n",
       "      <td>30.73</td>\n",
       "      <td>29.709999</td>\n",
       "      <td>31.52</td>\n",
       "      <td>...</td>\n",
       "      <td>6.17</td>\n",
       "      <td>39.660000</td>\n",
       "      <td>-1.41</td>\n",
       "      <td>50.590000</td>\n",
       "      <td>8.290000</td>\n",
       "      <td>-37.220001</td>\n",
       "      <td>18.24</td>\n",
       "      <td>9.74</td>\n",
       "      <td>9/4/14</td>\n",
       "      <td>BSh</td>\n",
       "    </tr>\n",
       "    <tr>\n",
       "      <th>4</th>\n",
       "      <td>4</td>\n",
       "      <td>0.0</td>\n",
       "      <td>0.833333</td>\n",
       "      <td>237.240005</td>\n",
       "      <td>29.02</td>\n",
       "      <td>31.639999</td>\n",
       "      <td>29.57</td>\n",
       "      <td>30.73</td>\n",
       "      <td>29.709999</td>\n",
       "      <td>31.52</td>\n",
       "      <td>...</td>\n",
       "      <td>7.47</td>\n",
       "      <td>38.619999</td>\n",
       "      <td>-5.21</td>\n",
       "      <td>54.730000</td>\n",
       "      <td>-2.580000</td>\n",
       "      <td>-42.299999</td>\n",
       "      <td>21.91</td>\n",
       "      <td>10.95</td>\n",
       "      <td>9/5/14</td>\n",
       "      <td>BSh</td>\n",
       "    </tr>\n",
       "  </tbody>\n",
       "</table>\n",
       "<p>5 rows × 246 columns</p>\n",
       "</div>"
      ],
      "text/plain": [
       "   index  lat       lon  contest-pevpr-sfc-gauss-14d__pevpr  \\\n",
       "0      0  0.0  0.833333                          237.000000   \n",
       "1      1  0.0  0.833333                          228.899994   \n",
       "2      2  0.0  0.833333                          220.690002   \n",
       "3      3  0.0  0.833333                          225.279999   \n",
       "4      4  0.0  0.833333                          237.240005   \n",
       "\n",
       "   nmme0-tmp2m-34w__cancm30  nmme0-tmp2m-34w__cancm40  \\\n",
       "0                     29.02                 31.639999   \n",
       "1                     29.02                 31.639999   \n",
       "2                     29.02                 31.639999   \n",
       "3                     29.02                 31.639999   \n",
       "4                     29.02                 31.639999   \n",
       "\n",
       "   nmme0-tmp2m-34w__ccsm30  nmme0-tmp2m-34w__ccsm40  nmme0-tmp2m-34w__cfsv20  \\\n",
       "0                    29.57                    30.73                29.709999   \n",
       "1                    29.57                    30.73                29.709999   \n",
       "2                    29.57                    30.73                29.709999   \n",
       "3                    29.57                    30.73                29.709999   \n",
       "4                    29.57                    30.73                29.709999   \n",
       "\n",
       "   nmme0-tmp2m-34w__gfdlflora0  ...  wind-vwnd-925-2010-13  \\\n",
       "0                        31.52  ...                   8.32   \n",
       "1                        31.52  ...                   8.77   \n",
       "2                        31.52  ...                   6.99   \n",
       "3                        31.52  ...                   6.17   \n",
       "4                        31.52  ...                   7.47   \n",
       "\n",
       "   wind-vwnd-925-2010-14  wind-vwnd-925-2010-15  wind-vwnd-925-2010-16  \\\n",
       "0               9.560000                  -2.03              48.130001   \n",
       "1              21.170000                   4.44              48.599998   \n",
       "2              32.160000                   5.01              48.529999   \n",
       "3              39.660000                  -1.41              50.590000   \n",
       "4              38.619999                  -5.21              54.730000   \n",
       "\n",
       "   wind-vwnd-925-2010-17  wind-vwnd-925-2010-18  wind-vwnd-925-2010-19  \\\n",
       "0              28.090000             -13.500000                  11.90   \n",
       "1              27.410000             -23.770000                  15.44   \n",
       "2              19.209999             -33.160000                  15.11   \n",
       "3               8.290000             -37.220001                  18.24   \n",
       "4              -2.580000             -42.299999                  21.91   \n",
       "\n",
       "   wind-vwnd-925-2010-20  startdate  climateregions__climateregion  \n",
       "0                   4.58     9/1/14                            BSh  \n",
       "1                   3.42     9/2/14                            BSh  \n",
       "2                   4.82     9/3/14                            BSh  \n",
       "3                   9.74     9/4/14                            BSh  \n",
       "4                  10.95     9/5/14                            BSh  \n",
       "\n",
       "[5 rows x 246 columns]"
      ]
     },
     "execution_count": 13,
     "metadata": {},
     "output_type": "execute_result"
    }
   ],
   "source": [
    "data_with_removed_outliers.head(5)"
   ]
  },
  {
   "cell_type": "code",
   "execution_count": 14,
   "id": "b52bf9ef",
   "metadata": {
    "execution": {
     "iopub.execute_input": "2023-02-23T18:35:04.691447Z",
     "iopub.status.busy": "2023-02-23T18:35:04.690917Z",
     "iopub.status.idle": "2023-02-23T18:35:08.304154Z",
     "shell.execute_reply": "2023-02-23T18:35:08.302556Z"
    },
    "papermill": {
     "duration": 3.63999,
     "end_time": "2023-02-23T18:35:08.307125",
     "exception": false,
     "start_time": "2023-02-23T18:35:04.667135",
     "status": "completed"
    },
    "tags": []
   },
   "outputs": [
    {
     "data": {
      "text/html": [
       "<div>\n",
       "<style scoped>\n",
       "    .dataframe tbody tr th:only-of-type {\n",
       "        vertical-align: middle;\n",
       "    }\n",
       "\n",
       "    .dataframe tbody tr th {\n",
       "        vertical-align: top;\n",
       "    }\n",
       "\n",
       "    .dataframe thead th {\n",
       "        text-align: right;\n",
       "    }\n",
       "</style>\n",
       "<table border=\"1\" class=\"dataframe\">\n",
       "  <thead>\n",
       "    <tr style=\"text-align: right;\">\n",
       "      <th></th>\n",
       "      <th>index</th>\n",
       "      <th>lat</th>\n",
       "      <th>lon</th>\n",
       "      <th>contest-pevpr-sfc-gauss-14d__pevpr</th>\n",
       "      <th>nmme0-tmp2m-34w__cancm30</th>\n",
       "      <th>nmme0-tmp2m-34w__cancm40</th>\n",
       "      <th>nmme0-tmp2m-34w__ccsm30</th>\n",
       "      <th>nmme0-tmp2m-34w__ccsm40</th>\n",
       "      <th>nmme0-tmp2m-34w__cfsv20</th>\n",
       "      <th>nmme0-tmp2m-34w__gfdlflora0</th>\n",
       "      <th>...</th>\n",
       "      <th>wind-vwnd-925-2010-11</th>\n",
       "      <th>wind-vwnd-925-2010-12</th>\n",
       "      <th>wind-vwnd-925-2010-13</th>\n",
       "      <th>wind-vwnd-925-2010-14</th>\n",
       "      <th>wind-vwnd-925-2010-15</th>\n",
       "      <th>wind-vwnd-925-2010-16</th>\n",
       "      <th>wind-vwnd-925-2010-17</th>\n",
       "      <th>wind-vwnd-925-2010-18</th>\n",
       "      <th>wind-vwnd-925-2010-19</th>\n",
       "      <th>wind-vwnd-925-2010-20</th>\n",
       "    </tr>\n",
       "  </thead>\n",
       "  <tbody>\n",
       "    <tr>\n",
       "      <th>count</th>\n",
       "      <td>375734.000000</td>\n",
       "      <td>375734.000000</td>\n",
       "      <td>375734.000000</td>\n",
       "      <td>375734.000000</td>\n",
       "      <td>375734.000000</td>\n",
       "      <td>375734.000000</td>\n",
       "      <td>359800.000000</td>\n",
       "      <td>375734.000000</td>\n",
       "      <td>375734.000000</td>\n",
       "      <td>375734.000000</td>\n",
       "      <td>...</td>\n",
       "      <td>375734.000000</td>\n",
       "      <td>375734.000000</td>\n",
       "      <td>375734.000000</td>\n",
       "      <td>375734.000000</td>\n",
       "      <td>375734.000000</td>\n",
       "      <td>375734.000000</td>\n",
       "      <td>375734.000000</td>\n",
       "      <td>375734.000000</td>\n",
       "      <td>375734.000000</td>\n",
       "      <td>375734.000000</td>\n",
       "    </tr>\n",
       "    <tr>\n",
       "      <th>mean</th>\n",
       "      <td>187866.500000</td>\n",
       "      <td>0.592766</td>\n",
       "      <td>0.517964</td>\n",
       "      <td>276.744049</td>\n",
       "      <td>10.801681</td>\n",
       "      <td>12.726736</td>\n",
       "      <td>10.099324</td>\n",
       "      <td>11.638229</td>\n",
       "      <td>10.733886</td>\n",
       "      <td>11.772648</td>\n",
       "      <td>...</td>\n",
       "      <td>-1.209959</td>\n",
       "      <td>-8.109917</td>\n",
       "      <td>6.800684</td>\n",
       "      <td>19.251972</td>\n",
       "      <td>-17.697563</td>\n",
       "      <td>-9.846868</td>\n",
       "      <td>-6.231860</td>\n",
       "      <td>16.014360</td>\n",
       "      <td>10.489945</td>\n",
       "      <td>11.296336</td>\n",
       "    </tr>\n",
       "    <tr>\n",
       "      <th>std</th>\n",
       "      <td>108465.207359</td>\n",
       "      <td>0.251744</td>\n",
       "      <td>0.272059</td>\n",
       "      <td>198.085175</td>\n",
       "      <td>10.952416</td>\n",
       "      <td>11.073553</td>\n",
       "      <td>10.339626</td>\n",
       "      <td>10.574276</td>\n",
       "      <td>9.403434</td>\n",
       "      <td>10.689967</td>\n",
       "      <td>...</td>\n",
       "      <td>37.317333</td>\n",
       "      <td>36.201508</td>\n",
       "      <td>38.458878</td>\n",
       "      <td>25.288525</td>\n",
       "      <td>31.946749</td>\n",
       "      <td>34.164677</td>\n",
       "      <td>27.050356</td>\n",
       "      <td>25.847456</td>\n",
       "      <td>25.070435</td>\n",
       "      <td>25.113214</td>\n",
       "    </tr>\n",
       "    <tr>\n",
       "      <th>min</th>\n",
       "      <td>0.000000</td>\n",
       "      <td>0.000000</td>\n",
       "      <td>0.000000</td>\n",
       "      <td>-2.310000</td>\n",
       "      <td>-14.960000</td>\n",
       "      <td>-14.970000</td>\n",
       "      <td>-11.720000</td>\n",
       "      <td>-17.559999</td>\n",
       "      <td>-13.720000</td>\n",
       "      <td>-13.330000</td>\n",
       "      <td>...</td>\n",
       "      <td>-94.570000</td>\n",
       "      <td>-89.940002</td>\n",
       "      <td>-64.870003</td>\n",
       "      <td>-39.279999</td>\n",
       "      <td>-100.559998</td>\n",
       "      <td>-106.080002</td>\n",
       "      <td>-93.980003</td>\n",
       "      <td>-52.610001</td>\n",
       "      <td>-66.110001</td>\n",
       "      <td>-57.610001</td>\n",
       "    </tr>\n",
       "    <tr>\n",
       "      <th>25%</th>\n",
       "      <td>93933.250000</td>\n",
       "      <td>0.409091</td>\n",
       "      <td>0.300000</td>\n",
       "      <td>104.062498</td>\n",
       "      <td>1.550000</td>\n",
       "      <td>3.650000</td>\n",
       "      <td>1.640000</td>\n",
       "      <td>3.080000</td>\n",
       "      <td>3.390000</td>\n",
       "      <td>2.970000</td>\n",
       "      <td>...</td>\n",
       "      <td>-27.200001</td>\n",
       "      <td>-33.349998</td>\n",
       "      <td>-19.650000</td>\n",
       "      <td>1.960000</td>\n",
       "      <td>-40.029999</td>\n",
       "      <td>-32.169998</td>\n",
       "      <td>-20.170000</td>\n",
       "      <td>-0.360000</td>\n",
       "      <td>-6.790000</td>\n",
       "      <td>-5.570000</td>\n",
       "    </tr>\n",
       "    <tr>\n",
       "      <th>50%</th>\n",
       "      <td>187866.500000</td>\n",
       "      <td>0.590909</td>\n",
       "      <td>0.533333</td>\n",
       "      <td>250.320007</td>\n",
       "      <td>9.950000</td>\n",
       "      <td>11.890000</td>\n",
       "      <td>9.490000</td>\n",
       "      <td>11.600000</td>\n",
       "      <td>10.890000</td>\n",
       "      <td>11.280000</td>\n",
       "      <td>...</td>\n",
       "      <td>-3.200000</td>\n",
       "      <td>-9.390000</td>\n",
       "      <td>2.330000</td>\n",
       "      <td>20.049999</td>\n",
       "      <td>-16.709999</td>\n",
       "      <td>-8.560000</td>\n",
       "      <td>-6.030000</td>\n",
       "      <td>18.650000</td>\n",
       "      <td>11.860000</td>\n",
       "      <td>11.650000</td>\n",
       "    </tr>\n",
       "    <tr>\n",
       "      <th>75%</th>\n",
       "      <td>281799.750000</td>\n",
       "      <td>0.818182</td>\n",
       "      <td>0.766667</td>\n",
       "      <td>420.010010</td>\n",
       "      <td>20.230000</td>\n",
       "      <td>22.110001</td>\n",
       "      <td>18.740000</td>\n",
       "      <td>20.360001</td>\n",
       "      <td>18.330000</td>\n",
       "      <td>20.299999</td>\n",
       "      <td>...</td>\n",
       "      <td>24.940001</td>\n",
       "      <td>17.959999</td>\n",
       "      <td>28.660000</td>\n",
       "      <td>35.090000</td>\n",
       "      <td>4.390000</td>\n",
       "      <td>10.500000</td>\n",
       "      <td>11.630000</td>\n",
       "      <td>31.209999</td>\n",
       "      <td>29.040001</td>\n",
       "      <td>29.180000</td>\n",
       "    </tr>\n",
       "    <tr>\n",
       "      <th>max</th>\n",
       "      <td>375733.000000</td>\n",
       "      <td>1.000000</td>\n",
       "      <td>1.000000</td>\n",
       "      <td>1185.140015</td>\n",
       "      <td>36.080002</td>\n",
       "      <td>36.029999</td>\n",
       "      <td>33.389999</td>\n",
       "      <td>34.639999</td>\n",
       "      <td>35.750000</td>\n",
       "      <td>38.349998</td>\n",
       "      <td>...</td>\n",
       "      <td>113.919998</td>\n",
       "      <td>96.550003</td>\n",
       "      <td>106.419998</td>\n",
       "      <td>91.760002</td>\n",
       "      <td>56.549999</td>\n",
       "      <td>83.889999</td>\n",
       "      <td>64.849998</td>\n",
       "      <td>90.389999</td>\n",
       "      <td>76.889999</td>\n",
       "      <td>88.660004</td>\n",
       "    </tr>\n",
       "  </tbody>\n",
       "</table>\n",
       "<p>8 rows × 244 columns</p>\n",
       "</div>"
      ],
      "text/plain": [
       "               index            lat            lon  \\\n",
       "count  375734.000000  375734.000000  375734.000000   \n",
       "mean   187866.500000       0.592766       0.517964   \n",
       "std    108465.207359       0.251744       0.272059   \n",
       "min         0.000000       0.000000       0.000000   \n",
       "25%     93933.250000       0.409091       0.300000   \n",
       "50%    187866.500000       0.590909       0.533333   \n",
       "75%    281799.750000       0.818182       0.766667   \n",
       "max    375733.000000       1.000000       1.000000   \n",
       "\n",
       "       contest-pevpr-sfc-gauss-14d__pevpr  nmme0-tmp2m-34w__cancm30  \\\n",
       "count                       375734.000000             375734.000000   \n",
       "mean                           276.744049                 10.801681   \n",
       "std                            198.085175                 10.952416   \n",
       "min                             -2.310000                -14.960000   \n",
       "25%                            104.062498                  1.550000   \n",
       "50%                            250.320007                  9.950000   \n",
       "75%                            420.010010                 20.230000   \n",
       "max                           1185.140015                 36.080002   \n",
       "\n",
       "       nmme0-tmp2m-34w__cancm40  nmme0-tmp2m-34w__ccsm30  \\\n",
       "count             375734.000000            359800.000000   \n",
       "mean                  12.726736                10.099324   \n",
       "std                   11.073553                10.339626   \n",
       "min                  -14.970000               -11.720000   \n",
       "25%                    3.650000                 1.640000   \n",
       "50%                   11.890000                 9.490000   \n",
       "75%                   22.110001                18.740000   \n",
       "max                   36.029999                33.389999   \n",
       "\n",
       "       nmme0-tmp2m-34w__ccsm40  nmme0-tmp2m-34w__cfsv20  \\\n",
       "count            375734.000000            375734.000000   \n",
       "mean                 11.638229                10.733886   \n",
       "std                  10.574276                 9.403434   \n",
       "min                 -17.559999               -13.720000   \n",
       "25%                   3.080000                 3.390000   \n",
       "50%                  11.600000                10.890000   \n",
       "75%                  20.360001                18.330000   \n",
       "max                  34.639999                35.750000   \n",
       "\n",
       "       nmme0-tmp2m-34w__gfdlflora0  ...  wind-vwnd-925-2010-11  \\\n",
       "count                375734.000000  ...          375734.000000   \n",
       "mean                     11.772648  ...              -1.209959   \n",
       "std                      10.689967  ...              37.317333   \n",
       "min                     -13.330000  ...             -94.570000   \n",
       "25%                       2.970000  ...             -27.200001   \n",
       "50%                      11.280000  ...              -3.200000   \n",
       "75%                      20.299999  ...              24.940001   \n",
       "max                      38.349998  ...             113.919998   \n",
       "\n",
       "       wind-vwnd-925-2010-12  wind-vwnd-925-2010-13  wind-vwnd-925-2010-14  \\\n",
       "count          375734.000000          375734.000000          375734.000000   \n",
       "mean               -8.109917               6.800684              19.251972   \n",
       "std                36.201508              38.458878              25.288525   \n",
       "min               -89.940002             -64.870003             -39.279999   \n",
       "25%               -33.349998             -19.650000               1.960000   \n",
       "50%                -9.390000               2.330000              20.049999   \n",
       "75%                17.959999              28.660000              35.090000   \n",
       "max                96.550003             106.419998              91.760002   \n",
       "\n",
       "       wind-vwnd-925-2010-15  wind-vwnd-925-2010-16  wind-vwnd-925-2010-17  \\\n",
       "count          375734.000000          375734.000000          375734.000000   \n",
       "mean              -17.697563              -9.846868              -6.231860   \n",
       "std                31.946749              34.164677              27.050356   \n",
       "min              -100.559998            -106.080002             -93.980003   \n",
       "25%               -40.029999             -32.169998             -20.170000   \n",
       "50%               -16.709999              -8.560000              -6.030000   \n",
       "75%                 4.390000              10.500000              11.630000   \n",
       "max                56.549999              83.889999              64.849998   \n",
       "\n",
       "       wind-vwnd-925-2010-18  wind-vwnd-925-2010-19  wind-vwnd-925-2010-20  \n",
       "count          375734.000000          375734.000000          375734.000000  \n",
       "mean               16.014360              10.489945              11.296336  \n",
       "std                25.847456              25.070435              25.113214  \n",
       "min               -52.610001             -66.110001             -57.610001  \n",
       "25%                -0.360000              -6.790000              -5.570000  \n",
       "50%                18.650000              11.860000              11.650000  \n",
       "75%                31.209999              29.040001              29.180000  \n",
       "max                90.389999              76.889999              88.660004  \n",
       "\n",
       "[8 rows x 244 columns]"
      ]
     },
     "execution_count": 14,
     "metadata": {},
     "output_type": "execute_result"
    }
   ],
   "source": [
    "data_with_removed_outliers.describe()"
   ]
  },
  {
   "cell_type": "markdown",
   "id": "8d17af5c",
   "metadata": {
    "papermill": {
     "duration": 0.022642,
     "end_time": "2023-02-23T18:35:08.351978",
     "exception": false,
     "start_time": "2023-02-23T18:35:08.329336",
     "status": "completed"
    },
    "tags": []
   },
   "source": [
    "## Visualise the time gap between the train and the test data"
   ]
  },
  {
   "cell_type": "code",
   "execution_count": 15,
   "id": "d7446176",
   "metadata": {
    "execution": {
     "iopub.execute_input": "2023-02-23T18:35:08.398964Z",
     "iopub.status.busy": "2023-02-23T18:35:08.398471Z",
     "iopub.status.idle": "2023-02-23T18:35:17.421210Z",
     "shell.execute_reply": "2023-02-23T18:35:17.419423Z"
    },
    "papermill": {
     "duration": 9.050032,
     "end_time": "2023-02-23T18:35:17.424436",
     "exception": false,
     "start_time": "2023-02-23T18:35:08.374404",
     "status": "completed"
    },
    "tags": []
   },
   "outputs": [
    {
     "data": {
      "image/png": "[encoded data removed]",
      "text/plain": [
       "<Figure size 1600x800 with 1 Axes>"
      ]
     },
     "metadata": {},
     "output_type": "display_data"
    }
   ],
   "source": [
    "# create a scatterplot using seaborn and matplotlib\n",
    "fig, ax = plt.subplots(figsize=(16, 8))\n",
    "sb.scatterplot(x=train_df.startdate, y=1, color='blue', label='Train Data', ax=ax)\n",
    "sb.scatterplot(x=test_df.startdate, y=1, color='red', label='Test Data', ax=ax)\n",
    "\n",
    "# add labels and a title to the plot\n",
    "ax.set_title('Scatterplot of Startdate and Target')\n",
    "ax.set_xlabel('Startdate')\n",
    "ax.set_ylabel('Target')\n",
    "ax.legend(loc='upper left')\n",
    "\n",
    "# display the plot\n",
    "plt.show()\n"
   ]
  },
  {
   "cell_type": "markdown",
   "id": "8b222f93",
   "metadata": {
    "papermill": {
     "duration": 0.02304,
     "end_time": "2023-02-23T18:35:17.470643",
     "exception": false,
     "start_time": "2023-02-23T18:35:17.447603",
     "status": "completed"
    },
    "tags": []
   },
   "source": [
    "**Based on the graph above the train data was from 2014 - 2016 and the test data is from 2022. There is a big time gap between the train and test data.**"
   ]
  },
  {
   "cell_type": "markdown",
   "id": "d23a9a45",
   "metadata": {
    "papermill": {
     "duration": 0.022164,
     "end_time": "2023-02-23T18:35:17.515346",
     "exception": false,
     "start_time": "2023-02-23T18:35:17.493182",
     "status": "completed"
    },
    "tags": []
   },
   "source": [
    "## Analyising the distribution of values in both the train and test dataset"
   ]
  },
  {
   "cell_type": "code",
   "execution_count": 16,
   "id": "0ff0a81a",
   "metadata": {
    "execution": {
     "iopub.execute_input": "2023-02-23T18:35:17.564313Z",
     "iopub.status.busy": "2023-02-23T18:35:17.563777Z",
     "iopub.status.idle": "2023-02-23T18:35:17.572037Z",
     "shell.execute_reply": "2023-02-23T18:35:17.570446Z"
    },
    "papermill": {
     "duration": 0.036589,
     "end_time": "2023-02-23T18:35:17.574889",
     "exception": false,
     "start_time": "2023-02-23T18:35:17.538300",
     "status": "completed"
    },
    "tags": []
   },
   "outputs": [],
   "source": [
    "def dist_of_train_test_features(train_df, test_df, feature):\n",
    "    # Analyse the distribution of values in the training dataset\n",
    "    plt.figure(figsize=(16, 5))\n",
    "    sb.displot(data=train_df, x=feature, kind='kde', label='Train Data')\n",
    "\n",
    "    # Analyse the distribution of values in the testing dataset\n",
    "    plt.figure(figsize=(16, 5))\n",
    "    sb.displot(data=test_df, x=feature, kind='kde', label='Test Data')\n",
    "# dist_of_train_test_features(train_df, test_df, 'nmme0-tmp2m-34w__nmme0mean')\n",
    "#plt.show()"
   ]
  },
  {
   "cell_type": "code",
   "execution_count": 17,
   "id": "2e0bccbf",
   "metadata": {
    "execution": {
     "iopub.execute_input": "2023-02-23T18:35:17.623063Z",
     "iopub.status.busy": "2023-02-23T18:35:17.622616Z",
     "iopub.status.idle": "2023-02-23T18:35:17.630390Z",
     "shell.execute_reply": "2023-02-23T18:35:17.629018Z"
    },
    "papermill": {
     "duration": 0.035376,
     "end_time": "2023-02-23T18:35:17.632865",
     "exception": false,
     "start_time": "2023-02-23T18:35:17.597489",
     "status": "completed"
    },
    "tags": []
   },
   "outputs": [
    {
     "data": {
      "text/plain": [
       "(375734, 246)"
      ]
     },
     "execution_count": 17,
     "metadata": {},
     "output_type": "execute_result"
    }
   ],
   "source": [
    "cc_train.shape"
   ]
  },
  {
   "cell_type": "code",
   "execution_count": 18,
   "id": "affa20a3",
   "metadata": {
    "execution": {
     "iopub.execute_input": "2023-02-23T18:35:17.681168Z",
     "iopub.status.busy": "2023-02-23T18:35:17.680652Z",
     "iopub.status.idle": "2023-02-23T18:35:21.180226Z",
     "shell.execute_reply": "2023-02-23T18:35:21.178561Z"
    },
    "papermill": {
     "duration": 3.527558,
     "end_time": "2023-02-23T18:35:21.182917",
     "exception": false,
     "start_time": "2023-02-23T18:35:17.655359",
     "status": "completed"
    },
    "tags": []
   },
   "outputs": [
    {
     "data": {
      "text/html": [
       "<div>\n",
       "<style scoped>\n",
       "    .dataframe tbody tr th:only-of-type {\n",
       "        vertical-align: middle;\n",
       "    }\n",
       "\n",
       "    .dataframe tbody tr th {\n",
       "        vertical-align: top;\n",
       "    }\n",
       "\n",
       "    .dataframe thead th {\n",
       "        text-align: right;\n",
       "    }\n",
       "</style>\n",
       "<table border=\"1\" class=\"dataframe\">\n",
       "  <thead>\n",
       "    <tr style=\"text-align: right;\">\n",
       "      <th></th>\n",
       "      <th>index</th>\n",
       "      <th>lat</th>\n",
       "      <th>lon</th>\n",
       "      <th>contest-pevpr-sfc-gauss-14d__pevpr</th>\n",
       "      <th>nmme0-tmp2m-34w__cancm30</th>\n",
       "      <th>nmme0-tmp2m-34w__cancm40</th>\n",
       "      <th>nmme0-tmp2m-34w__ccsm30</th>\n",
       "      <th>nmme0-tmp2m-34w__ccsm40</th>\n",
       "      <th>nmme0-tmp2m-34w__cfsv20</th>\n",
       "      <th>nmme0-tmp2m-34w__gfdlflora0</th>\n",
       "      <th>...</th>\n",
       "      <th>wind-vwnd-925-2010-11</th>\n",
       "      <th>wind-vwnd-925-2010-12</th>\n",
       "      <th>wind-vwnd-925-2010-13</th>\n",
       "      <th>wind-vwnd-925-2010-14</th>\n",
       "      <th>wind-vwnd-925-2010-15</th>\n",
       "      <th>wind-vwnd-925-2010-16</th>\n",
       "      <th>wind-vwnd-925-2010-17</th>\n",
       "      <th>wind-vwnd-925-2010-18</th>\n",
       "      <th>wind-vwnd-925-2010-19</th>\n",
       "      <th>wind-vwnd-925-2010-20</th>\n",
       "    </tr>\n",
       "  </thead>\n",
       "  <tbody>\n",
       "    <tr>\n",
       "      <th>count</th>\n",
       "      <td>375734.000000</td>\n",
       "      <td>375734.000000</td>\n",
       "      <td>375734.000000</td>\n",
       "      <td>375734.000000</td>\n",
       "      <td>375734.000000</td>\n",
       "      <td>375734.000000</td>\n",
       "      <td>359800.000000</td>\n",
       "      <td>375734.000000</td>\n",
       "      <td>375734.000000</td>\n",
       "      <td>375734.000000</td>\n",
       "      <td>...</td>\n",
       "      <td>375734.000000</td>\n",
       "      <td>375734.000000</td>\n",
       "      <td>375734.000000</td>\n",
       "      <td>375734.000000</td>\n",
       "      <td>375734.000000</td>\n",
       "      <td>375734.000000</td>\n",
       "      <td>375734.000000</td>\n",
       "      <td>375734.000000</td>\n",
       "      <td>375734.000000</td>\n",
       "      <td>375734.000000</td>\n",
       "    </tr>\n",
       "    <tr>\n",
       "      <th>mean</th>\n",
       "      <td>187866.500000</td>\n",
       "      <td>0.592766</td>\n",
       "      <td>0.517964</td>\n",
       "      <td>276.744049</td>\n",
       "      <td>10.801681</td>\n",
       "      <td>12.726736</td>\n",
       "      <td>10.099324</td>\n",
       "      <td>11.638229</td>\n",
       "      <td>10.733886</td>\n",
       "      <td>11.772648</td>\n",
       "      <td>...</td>\n",
       "      <td>-1.209959</td>\n",
       "      <td>-8.109917</td>\n",
       "      <td>6.800684</td>\n",
       "      <td>19.251972</td>\n",
       "      <td>-17.697563</td>\n",
       "      <td>-9.846868</td>\n",
       "      <td>-6.231860</td>\n",
       "      <td>16.014360</td>\n",
       "      <td>10.489945</td>\n",
       "      <td>11.296336</td>\n",
       "    </tr>\n",
       "    <tr>\n",
       "      <th>std</th>\n",
       "      <td>108465.207359</td>\n",
       "      <td>0.251744</td>\n",
       "      <td>0.272059</td>\n",
       "      <td>198.085175</td>\n",
       "      <td>10.952416</td>\n",
       "      <td>11.073553</td>\n",
       "      <td>10.339626</td>\n",
       "      <td>10.574276</td>\n",
       "      <td>9.403434</td>\n",
       "      <td>10.689967</td>\n",
       "      <td>...</td>\n",
       "      <td>37.317333</td>\n",
       "      <td>36.201508</td>\n",
       "      <td>38.458878</td>\n",
       "      <td>25.288525</td>\n",
       "      <td>31.946749</td>\n",
       "      <td>34.164677</td>\n",
       "      <td>27.050356</td>\n",
       "      <td>25.847456</td>\n",
       "      <td>25.070435</td>\n",
       "      <td>25.113214</td>\n",
       "    </tr>\n",
       "    <tr>\n",
       "      <th>min</th>\n",
       "      <td>0.000000</td>\n",
       "      <td>0.000000</td>\n",
       "      <td>0.000000</td>\n",
       "      <td>-2.310000</td>\n",
       "      <td>-14.960000</td>\n",
       "      <td>-14.970000</td>\n",
       "      <td>-11.720000</td>\n",
       "      <td>-17.559999</td>\n",
       "      <td>-13.720000</td>\n",
       "      <td>-13.330000</td>\n",
       "      <td>...</td>\n",
       "      <td>-94.570000</td>\n",
       "      <td>-89.940002</td>\n",
       "      <td>-64.870003</td>\n",
       "      <td>-39.279999</td>\n",
       "      <td>-100.559998</td>\n",
       "      <td>-106.080002</td>\n",
       "      <td>-93.980003</td>\n",
       "      <td>-52.610001</td>\n",
       "      <td>-66.110001</td>\n",
       "      <td>-57.610001</td>\n",
       "    </tr>\n",
       "    <tr>\n",
       "      <th>25%</th>\n",
       "      <td>93933.250000</td>\n",
       "      <td>0.409091</td>\n",
       "      <td>0.300000</td>\n",
       "      <td>104.062498</td>\n",
       "      <td>1.550000</td>\n",
       "      <td>3.650000</td>\n",
       "      <td>1.640000</td>\n",
       "      <td>3.080000</td>\n",
       "      <td>3.390000</td>\n",
       "      <td>2.970000</td>\n",
       "      <td>...</td>\n",
       "      <td>-27.200001</td>\n",
       "      <td>-33.349998</td>\n",
       "      <td>-19.650000</td>\n",
       "      <td>1.960000</td>\n",
       "      <td>-40.029999</td>\n",
       "      <td>-32.169998</td>\n",
       "      <td>-20.170000</td>\n",
       "      <td>-0.360000</td>\n",
       "      <td>-6.790000</td>\n",
       "      <td>-5.570000</td>\n",
       "    </tr>\n",
       "    <tr>\n",
       "      <th>50%</th>\n",
       "      <td>187866.500000</td>\n",
       "      <td>0.590909</td>\n",
       "      <td>0.533333</td>\n",
       "      <td>250.320007</td>\n",
       "      <td>9.950000</td>\n",
       "      <td>11.890000</td>\n",
       "      <td>9.490000</td>\n",
       "      <td>11.600000</td>\n",
       "      <td>10.890000</td>\n",
       "      <td>11.280000</td>\n",
       "      <td>...</td>\n",
       "      <td>-3.200000</td>\n",
       "      <td>-9.390000</td>\n",
       "      <td>2.330000</td>\n",
       "      <td>20.049999</td>\n",
       "      <td>-16.709999</td>\n",
       "      <td>-8.560000</td>\n",
       "      <td>-6.030000</td>\n",
       "      <td>18.650000</td>\n",
       "      <td>11.860000</td>\n",
       "      <td>11.650000</td>\n",
       "    </tr>\n",
       "    <tr>\n",
       "      <th>75%</th>\n",
       "      <td>281799.750000</td>\n",
       "      <td>0.818182</td>\n",
       "      <td>0.766667</td>\n",
       "      <td>420.010010</td>\n",
       "      <td>20.230000</td>\n",
       "      <td>22.110001</td>\n",
       "      <td>18.740000</td>\n",
       "      <td>20.360001</td>\n",
       "      <td>18.330000</td>\n",
       "      <td>20.299999</td>\n",
       "      <td>...</td>\n",
       "      <td>24.940001</td>\n",
       "      <td>17.959999</td>\n",
       "      <td>28.660000</td>\n",
       "      <td>35.090000</td>\n",
       "      <td>4.390000</td>\n",
       "      <td>10.500000</td>\n",
       "      <td>11.630000</td>\n",
       "      <td>31.209999</td>\n",
       "      <td>29.040001</td>\n",
       "      <td>29.180000</td>\n",
       "    </tr>\n",
       "    <tr>\n",
       "      <th>max</th>\n",
       "      <td>375733.000000</td>\n",
       "      <td>1.000000</td>\n",
       "      <td>1.000000</td>\n",
       "      <td>1185.140015</td>\n",
       "      <td>36.080002</td>\n",
       "      <td>36.029999</td>\n",
       "      <td>33.389999</td>\n",
       "      <td>34.639999</td>\n",
       "      <td>35.750000</td>\n",
       "      <td>38.349998</td>\n",
       "      <td>...</td>\n",
       "      <td>113.919998</td>\n",
       "      <td>96.550003</td>\n",
       "      <td>106.419998</td>\n",
       "      <td>91.760002</td>\n",
       "      <td>56.549999</td>\n",
       "      <td>83.889999</td>\n",
       "      <td>64.849998</td>\n",
       "      <td>90.389999</td>\n",
       "      <td>76.889999</td>\n",
       "      <td>88.660004</td>\n",
       "    </tr>\n",
       "  </tbody>\n",
       "</table>\n",
       "<p>8 rows × 244 columns</p>\n",
       "</div>"
      ],
      "text/plain": [
       "               index            lat            lon  \\\n",
       "count  375734.000000  375734.000000  375734.000000   \n",
       "mean   187866.500000       0.592766       0.517964   \n",
       "std    108465.207359       0.251744       0.272059   \n",
       "min         0.000000       0.000000       0.000000   \n",
       "25%     93933.250000       0.409091       0.300000   \n",
       "50%    187866.500000       0.590909       0.533333   \n",
       "75%    281799.750000       0.818182       0.766667   \n",
       "max    375733.000000       1.000000       1.000000   \n",
       "\n",
       "       contest-pevpr-sfc-gauss-14d__pevpr  nmme0-tmp2m-34w__cancm30  \\\n",
       "count                       375734.000000             375734.000000   \n",
       "mean                           276.744049                 10.801681   \n",
       "std                            198.085175                 10.952416   \n",
       "min                             -2.310000                -14.960000   \n",
       "25%                            104.062498                  1.550000   \n",
       "50%                            250.320007                  9.950000   \n",
       "75%                            420.010010                 20.230000   \n",
       "max                           1185.140015                 36.080002   \n",
       "\n",
       "       nmme0-tmp2m-34w__cancm40  nmme0-tmp2m-34w__ccsm30  \\\n",
       "count             375734.000000            359800.000000   \n",
       "mean                  12.726736                10.099324   \n",
       "std                   11.073553                10.339626   \n",
       "min                  -14.970000               -11.720000   \n",
       "25%                    3.650000                 1.640000   \n",
       "50%                   11.890000                 9.490000   \n",
       "75%                   22.110001                18.740000   \n",
       "max                   36.029999                33.389999   \n",
       "\n",
       "       nmme0-tmp2m-34w__ccsm40  nmme0-tmp2m-34w__cfsv20  \\\n",
       "count            375734.000000            375734.000000   \n",
       "mean                 11.638229                10.733886   \n",
       "std                  10.574276                 9.403434   \n",
       "min                 -17.559999               -13.720000   \n",
       "25%                   3.080000                 3.390000   \n",
       "50%                  11.600000                10.890000   \n",
       "75%                  20.360001                18.330000   \n",
       "max                  34.639999                35.750000   \n",
       "\n",
       "       nmme0-tmp2m-34w__gfdlflora0  ...  wind-vwnd-925-2010-11  \\\n",
       "count                375734.000000  ...          375734.000000   \n",
       "mean                     11.772648  ...              -1.209959   \n",
       "std                      10.689967  ...              37.317333   \n",
       "min                     -13.330000  ...             -94.570000   \n",
       "25%                       2.970000  ...             -27.200001   \n",
       "50%                      11.280000  ...              -3.200000   \n",
       "75%                      20.299999  ...              24.940001   \n",
       "max                      38.349998  ...             113.919998   \n",
       "\n",
       "       wind-vwnd-925-2010-12  wind-vwnd-925-2010-13  wind-vwnd-925-2010-14  \\\n",
       "count          375734.000000          375734.000000          375734.000000   \n",
       "mean               -8.109917               6.800684              19.251972   \n",
       "std                36.201508              38.458878              25.288525   \n",
       "min               -89.940002             -64.870003             -39.279999   \n",
       "25%               -33.349998             -19.650000               1.960000   \n",
       "50%                -9.390000               2.330000              20.049999   \n",
       "75%                17.959999              28.660000              35.090000   \n",
       "max                96.550003             106.419998              91.760002   \n",
       "\n",
       "       wind-vwnd-925-2010-15  wind-vwnd-925-2010-16  wind-vwnd-925-2010-17  \\\n",
       "count          375734.000000          375734.000000          375734.000000   \n",
       "mean              -17.697563              -9.846868              -6.231860   \n",
       "std                31.946749              34.164677              27.050356   \n",
       "min              -100.559998            -106.080002             -93.980003   \n",
       "25%               -40.029999             -32.169998             -20.170000   \n",
       "50%               -16.709999              -8.560000              -6.030000   \n",
       "75%                 4.390000              10.500000              11.630000   \n",
       "max                56.549999              83.889999              64.849998   \n",
       "\n",
       "       wind-vwnd-925-2010-18  wind-vwnd-925-2010-19  wind-vwnd-925-2010-20  \n",
       "count          375734.000000          375734.000000          375734.000000  \n",
       "mean               16.014360              10.489945              11.296336  \n",
       "std                25.847456              25.070435              25.113214  \n",
       "min               -52.610001             -66.110001             -57.610001  \n",
       "25%                -0.360000              -6.790000              -5.570000  \n",
       "50%                18.650000              11.860000              11.650000  \n",
       "75%                31.209999              29.040001              29.180000  \n",
       "max                90.389999              76.889999              88.660004  \n",
       "\n",
       "[8 rows x 244 columns]"
      ]
     },
     "execution_count": 18,
     "metadata": {},
     "output_type": "execute_result"
    }
   ],
   "source": [
    "cc_train.describe()"
   ]
  },
  {
   "cell_type": "code",
   "execution_count": 19,
   "id": "4a7651b2",
   "metadata": {
    "execution": {
     "iopub.execute_input": "2023-02-23T18:35:21.232833Z",
     "iopub.status.busy": "2023-02-23T18:35:21.232394Z",
     "iopub.status.idle": "2023-02-23T18:35:21.240956Z",
     "shell.execute_reply": "2023-02-23T18:35:21.239510Z"
    },
    "papermill": {
     "duration": 0.036521,
     "end_time": "2023-02-23T18:35:21.243593",
     "exception": false,
     "start_time": "2023-02-23T18:35:21.207072",
     "status": "completed"
    },
    "tags": []
   },
   "outputs": [
    {
     "data": {
      "text/plain": [
       "(31354, 245)"
      ]
     },
     "execution_count": 19,
     "metadata": {},
     "output_type": "execute_result"
    }
   ],
   "source": [
    "cc_test.shape"
   ]
  },
  {
   "cell_type": "code",
   "execution_count": 20,
   "id": "6ce42704",
   "metadata": {
    "execution": {
     "iopub.execute_input": "2023-02-23T18:35:21.294202Z",
     "iopub.status.busy": "2023-02-23T18:35:21.292591Z",
     "iopub.status.idle": "2023-02-23T18:35:21.317197Z",
     "shell.execute_reply": "2023-02-23T18:35:21.315621Z"
    },
    "papermill": {
     "duration": 0.053505,
     "end_time": "2023-02-23T18:35:21.320226",
     "exception": false,
     "start_time": "2023-02-23T18:35:21.266721",
     "status": "completed"
    },
    "tags": []
   },
   "outputs": [
    {
     "data": {
      "text/html": [
       "<div>\n",
       "<style scoped>\n",
       "    .dataframe tbody tr th:only-of-type {\n",
       "        vertical-align: middle;\n",
       "    }\n",
       "\n",
       "    .dataframe tbody tr th {\n",
       "        vertical-align: top;\n",
       "    }\n",
       "\n",
       "    .dataframe thead th {\n",
       "        text-align: right;\n",
       "    }\n",
       "</style>\n",
       "<table border=\"1\" class=\"dataframe\">\n",
       "  <thead>\n",
       "    <tr style=\"text-align: right;\">\n",
       "      <th></th>\n",
       "      <th>contest-tmp2m-14d__tmp2m</th>\n",
       "      <th>index</th>\n",
       "    </tr>\n",
       "  </thead>\n",
       "  <tbody>\n",
       "    <tr>\n",
       "      <th>count</th>\n",
       "      <td>31354.000000</td>\n",
       "      <td>31354.000000</td>\n",
       "    </tr>\n",
       "    <tr>\n",
       "      <th>mean</th>\n",
       "      <td>25.006322</td>\n",
       "      <td>391410.500000</td>\n",
       "    </tr>\n",
       "    <tr>\n",
       "      <th>std</th>\n",
       "      <td>2.891139</td>\n",
       "      <td>9051.264507</td>\n",
       "    </tr>\n",
       "    <tr>\n",
       "      <th>min</th>\n",
       "      <td>20.000011</td>\n",
       "      <td>375734.000000</td>\n",
       "    </tr>\n",
       "    <tr>\n",
       "      <th>25%</th>\n",
       "      <td>22.503063</td>\n",
       "      <td>383572.250000</td>\n",
       "    </tr>\n",
       "    <tr>\n",
       "      <th>50%</th>\n",
       "      <td>25.030905</td>\n",
       "      <td>391410.500000</td>\n",
       "    </tr>\n",
       "    <tr>\n",
       "      <th>75%</th>\n",
       "      <td>27.511672</td>\n",
       "      <td>399248.750000</td>\n",
       "    </tr>\n",
       "    <tr>\n",
       "      <th>max</th>\n",
       "      <td>29.997898</td>\n",
       "      <td>407087.000000</td>\n",
       "    </tr>\n",
       "  </tbody>\n",
       "</table>\n",
       "</div>"
      ],
      "text/plain": [
       "       contest-tmp2m-14d__tmp2m          index\n",
       "count              31354.000000   31354.000000\n",
       "mean                  25.006322  391410.500000\n",
       "std                    2.891139    9051.264507\n",
       "min                   20.000011  375734.000000\n",
       "25%                   22.503063  383572.250000\n",
       "50%                   25.030905  391410.500000\n",
       "75%                   27.511672  399248.750000\n",
       "max                   29.997898  407087.000000"
      ]
     },
     "execution_count": 20,
     "metadata": {},
     "output_type": "execute_result"
    }
   ],
   "source": [
    "cc_sample.describe()"
   ]
  },
  {
   "cell_type": "markdown",
   "id": "ffff1daf",
   "metadata": {
    "papermill": {
     "duration": 0.024745,
     "end_time": "2023-02-23T18:35:21.368558",
     "exception": false,
     "start_time": "2023-02-23T18:35:21.343813",
     "status": "completed"
    },
    "tags": []
   },
   "source": [
    "# Visualizing the target variable\n",
    "`contest-tmp2m-14d__tmp2m`"
   ]
  },
  {
   "cell_type": "code",
   "execution_count": 21,
   "id": "dc016677",
   "metadata": {
    "execution": {
     "iopub.execute_input": "2023-02-23T18:35:21.420355Z",
     "iopub.status.busy": "2023-02-23T18:35:21.419924Z",
     "iopub.status.idle": "2023-02-23T18:35:23.573699Z",
     "shell.execute_reply": "2023-02-23T18:35:23.571864Z"
    },
    "papermill": {
     "duration": 2.183159,
     "end_time": "2023-02-23T18:35:23.576935",
     "exception": false,
     "start_time": "2023-02-23T18:35:21.393776",
     "status": "completed"
    },
    "tags": []
   },
   "outputs": [
    {
     "data": {
      "image/png": "[encoded data removed]",
      "text/plain": [
       "<Figure size 1500x700 with 2 Axes>"
      ]
     },
     "metadata": {},
     "output_type": "display_data"
    }
   ],
   "source": [
    "def target_var_visualized():\n",
    "  plt.figure(figsize=(15,7))\n",
    "  plt.subplot(121)\n",
    "  sb.kdeplot(cc_train['contest-tmp2m-14d__tmp2m'], color = \"#ffd514\")\n",
    "  plt.subplot(122)\n",
    "  sb.boxplot(data=cc_train['contest-tmp2m-14d__tmp2m'], color = \"#ff355d\")\n",
    "target_var_visualized()"
   ]
  },
  {
   "cell_type": "markdown",
   "id": "bc9d22d8",
   "metadata": {
    "papermill": {
     "duration": 0.024455,
     "end_time": "2023-02-23T18:35:23.626378",
     "exception": false,
     "start_time": "2023-02-23T18:35:23.601923",
     "status": "completed"
    },
    "tags": []
   },
   "source": [
    "## Displaying the distribution of the target variable in the train and test"
   ]
  },
  {
   "cell_type": "code",
   "execution_count": 22,
   "id": "50f22763",
   "metadata": {
    "execution": {
     "iopub.execute_input": "2023-02-23T18:35:23.678894Z",
     "iopub.status.busy": "2023-02-23T18:35:23.678367Z",
     "iopub.status.idle": "2023-02-23T18:35:24.578575Z",
     "shell.execute_reply": "2023-02-23T18:35:24.576656Z"
    },
    "papermill": {
     "duration": 0.931058,
     "end_time": "2023-02-23T18:35:24.581848",
     "exception": false,
     "start_time": "2023-02-23T18:35:23.650790",
     "status": "completed"
    },
    "tags": []
   },
   "outputs": [
    {
     "data": {
      "image/png": "[encoded data removed]",
      "text/plain": [
       "<Figure size 640x480 with 1 Axes>"
      ]
     },
     "metadata": {},
     "output_type": "display_data"
    }
   ],
   "source": [
    "def histogram_plot(data, label, title):\n",
    "    sb.histplot(data, color='blue', label=label)\n",
    "    plt.legend()\n",
    "    plt.title(title)\n",
    "    plt.show()\n",
    "histogram_plot(data=cc_train['contest-tmp2m-14d__tmp2m'], label=\"contest-tmp2m-14d__tmp2m\", title=\"Target Variable distribution\")"
   ]
  },
  {
   "cell_type": "markdown",
   "id": "a2f2f24f",
   "metadata": {
    "papermill": {
     "duration": 0.02485,
     "end_time": "2023-02-23T18:35:24.632276",
     "exception": false,
     "start_time": "2023-02-23T18:35:24.607426",
     "status": "completed"
    },
    "tags": []
   },
   "source": [
    "**The target variable is not in the test dataset**"
   ]
  },
  {
   "cell_type": "markdown",
   "id": "fea7c293",
   "metadata": {
    "papermill": {
     "duration": 0.025884,
     "end_time": "2023-02-23T18:35:24.683336",
     "exception": false,
     "start_time": "2023-02-23T18:35:24.657452",
     "status": "completed"
    },
    "tags": []
   },
   "source": [
    "### Simple for loop to list out the features from the train dataset"
   ]
  },
  {
   "cell_type": "code",
   "execution_count": 23,
   "id": "6e8c2c24",
   "metadata": {
    "_kg_hide-input": false,
    "execution": {
     "iopub.execute_input": "2023-02-23T18:35:24.736889Z",
     "iopub.status.busy": "2023-02-23T18:35:24.736376Z",
     "iopub.status.idle": "2023-02-23T18:35:24.745354Z",
     "shell.execute_reply": "2023-02-23T18:35:24.743898Z"
    },
    "papermill": {
     "duration": 0.038951,
     "end_time": "2023-02-23T18:35:24.747972",
     "exception": false,
     "start_time": "2023-02-23T18:35:24.709021",
     "status": "completed"
    },
    "tags": []
   },
   "outputs": [
    {
     "data": {
      "text/plain": [
       "\"\\ntest_col = cc_test.columns\\ncount = 0\\nfor name in test_col:\\n  if count % 50 == 0:\\n    print()\\n  print(name + ', ', end='')\\n  count += 1\\n\""
      ]
     },
     "execution_count": 23,
     "metadata": {},
     "output_type": "execute_result"
    }
   ],
   "source": [
    "'''\n",
    "test_col = cc_test.columns\n",
    "count = 0\n",
    "for name in test_col:\n",
    "  if count % 50 == 0:\n",
    "    print()\n",
    "  print(name + ', ', end='')\n",
    "  count += 1\n",
    "'''"
   ]
  },
  {
   "cell_type": "code",
   "execution_count": 24,
   "id": "0a5d7a48",
   "metadata": {
    "execution": {
     "iopub.execute_input": "2023-02-23T18:35:24.801270Z",
     "iopub.status.busy": "2023-02-23T18:35:24.800711Z",
     "iopub.status.idle": "2023-02-23T18:35:24.946008Z",
     "shell.execute_reply": "2023-02-23T18:35:24.944391Z"
    },
    "papermill": {
     "duration": 0.176238,
     "end_time": "2023-02-23T18:35:24.949453",
     "exception": false,
     "start_time": "2023-02-23T18:35:24.773215",
     "status": "completed"
    },
    "tags": []
   },
   "outputs": [
    {
     "data": {
      "text/plain": [
       "['nmme0-tmp2m-34w__ccsm30',\n",
       " 'nmme-tmp2m-56w__ccsm3',\n",
       " 'nmme-prate-34w__ccsm3',\n",
       " 'nmme0-prate-56w__ccsm30',\n",
       " 'nmme0-prate-34w__ccsm30',\n",
       " 'nmme-prate-56w__ccsm3',\n",
       " 'nmme-tmp2m-34w__ccsm3',\n",
       " 'ccsm30']"
      ]
     },
     "execution_count": 24,
     "metadata": {},
     "output_type": "execute_result"
    }
   ],
   "source": [
    "cc_train.columns[cc_train.isna().any()].tolist()"
   ]
  },
  {
   "cell_type": "code",
   "execution_count": 25,
   "id": "a167ac05",
   "metadata": {
    "execution": {
     "iopub.execute_input": "2023-02-23T18:35:25.002533Z",
     "iopub.status.busy": "2023-02-23T18:35:25.001931Z",
     "iopub.status.idle": "2023-02-23T18:35:25.029023Z",
     "shell.execute_reply": "2023-02-23T18:35:25.027612Z"
    },
    "papermill": {
     "duration": 0.057392,
     "end_time": "2023-02-23T18:35:25.032144",
     "exception": false,
     "start_time": "2023-02-23T18:35:24.974752",
     "status": "completed"
    },
    "tags": []
   },
   "outputs": [
    {
     "data": {
      "text/plain": [
       "[]"
      ]
     },
     "execution_count": 25,
     "metadata": {},
     "output_type": "execute_result"
    }
   ],
   "source": [
    "cc_test.columns[cc_test.isna().any()].tolist()"
   ]
  },
  {
   "cell_type": "code",
   "execution_count": 26,
   "id": "0c25d355",
   "metadata": {
    "execution": {
     "iopub.execute_input": "2023-02-23T18:35:25.085177Z",
     "iopub.status.busy": "2023-02-23T18:35:25.084679Z",
     "iopub.status.idle": "2023-02-23T18:35:25.094868Z",
     "shell.execute_reply": "2023-02-23T18:35:25.093699Z"
    },
    "papermill": {
     "duration": 0.03946,
     "end_time": "2023-02-23T18:35:25.097218",
     "exception": false,
     "start_time": "2023-02-23T18:35:25.057758",
     "status": "completed"
    },
    "tags": []
   },
   "outputs": [
    {
     "data": {
      "text/plain": [
       "[]"
      ]
     },
     "execution_count": 26,
     "metadata": {},
     "output_type": "execute_result"
    }
   ],
   "source": [
    "cc_sample.columns[cc_sample.isna().any()].tolist()"
   ]
  },
  {
   "cell_type": "code",
   "execution_count": 27,
   "id": "0824c1ad",
   "metadata": {
    "execution": {
     "iopub.execute_input": "2023-02-23T18:35:25.152561Z",
     "iopub.status.busy": "2023-02-23T18:35:25.152012Z",
     "iopub.status.idle": "2023-02-23T18:35:27.347353Z",
     "shell.execute_reply": "2023-02-23T18:35:27.345931Z"
    },
    "papermill": {
     "duration": 2.22706,
     "end_time": "2023-02-23T18:35:27.350219",
     "exception": false,
     "start_time": "2023-02-23T18:35:25.123159",
     "status": "completed"
    },
    "tags": []
   },
   "outputs": [
    {
     "data": {
      "image/png": "[encoded data removed]",
      "text/plain": [
       "<Figure size 1000x500 with 1 Axes>"
      ]
     },
     "metadata": {},
     "output_type": "display_data"
    }
   ],
   "source": [
    "def train_test_dist(train, test):\n",
    "    fig, ax = plt.subplots(figsize = (10, 5))\n",
    "    sb.kdeplot(data=train,  color='blue', fill=True, ax=ax, label=\"Train Data\")\n",
    "    sb.kdeplot(data=test, color='green', fill=True, ax=ax, label=\"Test Data\")\n",
    "    plt.legend()\n",
    "    plt.show()\n",
    "    \n",
    "#train_target = cc_train['contest-tmp2m-14d__tmp2m']\n",
    "#test_target = cc_test['contest-tmp2m-14d__tmp2m']\n",
    "train_target = cc_train['nmme0-tmp2m-34w__nmme0mean']\n",
    "test_target = cc_test['nmme0-tmp2m-34w__nmme0mean']\n",
    "train_test_dist(train_target, test_target)"
   ]
  },
  {
   "cell_type": "markdown",
   "id": "dd2dcd1b",
   "metadata": {
    "papermill": {
     "duration": 0.025805,
     "end_time": "2023-02-23T18:35:27.402146",
     "exception": false,
     "start_time": "2023-02-23T18:35:27.376341",
     "status": "completed"
    },
    "tags": []
   },
   "source": [
    "# Visualising Categorical columns"
   ]
  },
  {
   "cell_type": "code",
   "execution_count": 28,
   "id": "833ea526",
   "metadata": {
    "execution": {
     "iopub.execute_input": "2023-02-23T18:35:27.455944Z",
     "iopub.status.busy": "2023-02-23T18:35:27.455406Z",
     "iopub.status.idle": "2023-02-23T18:35:36.172713Z",
     "shell.execute_reply": "2023-02-23T18:35:36.171052Z"
    },
    "papermill": {
     "duration": 8.747737,
     "end_time": "2023-02-23T18:35:36.175322",
     "exception": false,
     "start_time": "2023-02-23T18:35:27.427585",
     "status": "completed"
    },
    "tags": []
   },
   "outputs": [
    {
     "data": {
      "image/png": "[encoded data removed]",
      "text/plain": [
       "<Figure size 1000x500 with 1 Axes>"
      ]
     },
     "metadata": {},
     "output_type": "display_data"
    },
    {
     "data": {
      "image/png": "[encoded data removed]",
      "text/plain": [
       "<Figure size 1000x500 with 1 Axes>"
      ]
     },
     "metadata": {},
     "output_type": "display_data"
    }
   ],
   "source": [
    "\n",
    "# Plot bar plots for all categorical columns\n",
    "for column in cc_train.select_dtypes(include=['object']).columns:\n",
    "    cc_train[column].value_counts().plot(kind='bar', figsize=(10,5))\n",
    "    plt.title(column)\n",
    "    plt.show()\n",
    "    "
   ]
  },
  {
   "cell_type": "code",
   "execution_count": 29,
   "id": "94b17492",
   "metadata": {
    "execution": {
     "iopub.execute_input": "2023-02-23T18:35:36.232945Z",
     "iopub.status.busy": "2023-02-23T18:35:36.231425Z",
     "iopub.status.idle": "2023-02-23T18:35:36.241037Z",
     "shell.execute_reply": "2023-02-23T18:35:36.239570Z"
    },
    "papermill": {
     "duration": 0.041565,
     "end_time": "2023-02-23T18:35:36.243763",
     "exception": false,
     "start_time": "2023-02-23T18:35:36.202198",
     "status": "completed"
    },
    "tags": []
   },
   "outputs": [
    {
     "data": {
      "text/plain": [
       "'\\ndef plot_boxplots(data, target_column):\\n    num_cols = data.select_dtypes(exclude=[\\'object\\']).columns\\n    for col in num_cols:\\n        plt.figure(figsize=(10, 5))\\n        sb.boxplot(x=target_column, y=col, data=data)\\n        plt.title(col + \" vs \" + target_column)\\n        plt.show()\\nplot_boxplots(cc_train, \\'contest-tmp2m-14d__tmp2m\\')\\n'"
      ]
     },
     "execution_count": 29,
     "metadata": {},
     "output_type": "execute_result"
    }
   ],
   "source": [
    "'''\n",
    "def plot_boxplots(data, target_column):\n",
    "    num_cols = data.select_dtypes(exclude=['object']).columns\n",
    "    for col in num_cols:\n",
    "        plt.figure(figsize=(10, 5))\n",
    "        sb.boxplot(x=target_column, y=col, data=data)\n",
    "        plt.title(col + \" vs \" + target_column)\n",
    "        plt.show()\n",
    "plot_boxplots(cc_train, 'contest-tmp2m-14d__tmp2m')\n",
    "'''\n"
   ]
  },
  {
   "cell_type": "markdown",
   "id": "a1876574",
   "metadata": {
    "papermill": {
     "duration": 0.026928,
     "end_time": "2023-02-23T18:35:36.297643",
     "exception": false,
     "start_time": "2023-02-23T18:35:36.270715",
     "status": "completed"
    },
    "tags": []
   },
   "source": [
    "# Visualising Numerical Columns"
   ]
  },
  {
   "cell_type": "code",
   "execution_count": 30,
   "id": "84791359",
   "metadata": {
    "execution": {
     "iopub.execute_input": "2023-02-23T18:35:36.353497Z",
     "iopub.status.busy": "2023-02-23T18:35:36.352973Z",
     "iopub.status.idle": "2023-02-23T18:35:48.941960Z",
     "shell.execute_reply": "2023-02-23T18:35:48.940384Z"
    },
    "papermill": {
     "duration": 12.620682,
     "end_time": "2023-02-23T18:35:48.945076",
     "exception": false,
     "start_time": "2023-02-23T18:35:36.324394",
     "status": "completed"
    },
    "tags": []
   },
   "outputs": [
    {
     "data": {
      "image/png": "[encoded data removed]",
      "text/plain": [
       "<Figure size 800x600 with 1 Axes>"
      ]
     },
     "metadata": {},
     "output_type": "display_data"
    },
    {
     "data": {
      "image/png": "[encoded data removed]",
      "text/plain": [
       "<Figure size 800x600 with 1 Axes>"
      ]
     },
     "metadata": {},
     "output_type": "display_data"
    },
    {
     "data": {
      "image/png": "[encoded data removed]",
      "text/plain": [
       "<Figure size 800x600 with 1 Axes>"
      ]
     },
     "metadata": {},
     "output_type": "display_data"
    },
    {
     "data": {
      "image/png": "[encoded data removed]",
      "text/plain": [
       "<Figure size 800x600 with 1 Axes>"
      ]
     },
     "metadata": {},
     "output_type": "display_data"
    },
    {
     "data": {
      "image/png": "[encoded data removed]",
      "text/plain": [
       "<Figure size 800x600 with 1 Axes>"
      ]
     },
     "metadata": {},
     "output_type": "display_data"
    },
    {
     "data": {
      "image/png": "[encoded data removed]",
      "text/plain": [
       "<Figure size 800x600 with 1 Axes>"
      ]
     },
     "metadata": {},
     "output_type": "display_data"
    },
    {
     "data": {
      "image/png": "[encoded data removed]",
      "text/plain": [
       "<Figure size 800x600 with 1 Axes>"
      ]
     },
     "metadata": {},
     "output_type": "display_data"
    },
    {
     "data": {
      "image/png": "[encoded data removed]",
      "text/plain": [
       "<Figure size 800x600 with 1 Axes>"
      ]
     },
     "metadata": {},
     "output_type": "display_data"
    },
    {
     "data": {
      "image/png": "[encoded data removed]",
      "text/plain": [
       "<Figure size 800x600 with 1 Axes>"
      ]
     },
     "metadata": {},
     "output_type": "display_data"
    },
    {
     "data": {
      "image/png": "[encoded data removed]",
      "text/plain": [
       "<Figure size 800x600 with 1 Axes>"
      ]
     },
     "metadata": {},
     "output_type": "display_data"
    }
   ],
   "source": [
    "# Plot histograms for all numerical columns\n",
    "num_cols = cc_train.columns\n",
    "def plot_histograms(data, column_list):\n",
    "    \"\"\"\n",
    "    This function plots histograms based on the number of columns and data provided.\n",
    "    \n",
    "    Parameters\n",
    "    ----------\n",
    "    data : pandas dataframe\n",
    "        The data to be plotted.\n",
    "    column_list : a list\n",
    "        The list of 10 numerical column names from the dataset..\n",
    "    \n",
    "    Returns\n",
    "    -------\n",
    "    void\n",
    "        Displays histograms from matplotlib.\n",
    "        The histograms that are being plotted are frequency histograms \n",
    "        for the numerical columns specified in the column_list parameter .\n",
    "    \"\"\"\n",
    "    num_cols = column_list\n",
    "    for col in num_cols:\n",
    "        plt.figure(figsize=(8, 6))\n",
    "        data[col].hist(bins=50)\n",
    "        plt.title(col)\n",
    "        plt.tight_layout()\n",
    "        plt.show()\n",
    "        \n",
    "plot_histograms(cc_train, num_cols[:10])\n",
    "#plt.show()"
   ]
  },
  {
   "cell_type": "markdown",
   "id": "056af84c",
   "metadata": {
    "papermill": {
     "duration": 0.032252,
     "end_time": "2023-02-23T18:35:49.011786",
     "exception": false,
     "start_time": "2023-02-23T18:35:48.979534",
     "status": "completed"
    },
    "tags": []
   },
   "source": [
    "# Null Imputation"
   ]
  },
  {
   "cell_type": "code",
   "execution_count": 31,
   "id": "50db452e",
   "metadata": {
    "execution": {
     "iopub.execute_input": "2023-02-23T18:35:49.081336Z",
     "iopub.status.busy": "2023-02-23T18:35:49.080784Z",
     "iopub.status.idle": "2023-02-23T18:35:49.121792Z",
     "shell.execute_reply": "2023-02-23T18:35:49.120043Z"
    },
    "papermill": {
     "duration": 0.079969,
     "end_time": "2023-02-23T18:35:49.125166",
     "exception": false,
     "start_time": "2023-02-23T18:35:49.045197",
     "status": "completed"
    },
    "tags": []
   },
   "outputs": [],
   "source": [
    "cc_train['nmme0-prate-34w__ccsm30'] = cc_train['nmme0-prate-34w__ccsm30'].fillna(cc_train['nmme0-prate-34w__ccsm30'].mean())\n",
    "cc_train['nmme0-tmp2m-34w__ccsm30'] = cc_train['nmme0-tmp2m-34w__ccsm30'].fillna(cc_train['nmme0-tmp2m-34w__ccsm30'].mean())\n",
    "cc_train['ccsm30'] = cc_train['ccsm30'].fillna(cc_train['ccsm30'].mean())\n",
    "cc_train['nmme0-prate-56w__ccsm30'] = cc_train['nmme0-prate-56w__ccsm30'].fillna(cc_train['nmme0-prate-56w__ccsm30'].mean())\n",
    "cc_train['nmme-tmp2m-56w__ccsm3'] = cc_train['nmme-tmp2m-56w__ccsm3'].fillna(cc_train['nmme-tmp2m-56w__ccsm3'].mean())\n",
    "cc_train['nmme-prate-56w__ccsm3'] = cc_train['nmme-prate-56w__ccsm3'].fillna(cc_train['nmme-prate-56w__ccsm3'].mean())\n",
    "cc_train['nmme-tmp2m-34w__ccsm3'] = cc_train['nmme-tmp2m-34w__ccsm3'].fillna(cc_train['nmme-tmp2m-34w__ccsm3'].mean())\n",
    "cc_train['nmme-prate-34w__ccsm3'] = cc_train['nmme-prate-34w__ccsm3'].fillna(cc_train['nmme-prate-34w__ccsm3'].mean())"
   ]
  },
  {
   "cell_type": "markdown",
   "id": "3c880bd5",
   "metadata": {
    "papermill": {
     "duration": 0.032062,
     "end_time": "2023-02-23T18:35:49.189861",
     "exception": false,
     "start_time": "2023-02-23T18:35:49.157799",
     "status": "completed"
    },
    "tags": []
   },
   "source": [
    "# Feature Engineering"
   ]
  },
  {
   "cell_type": "code",
   "execution_count": 32,
   "id": "842cff7e",
   "metadata": {
    "execution": {
     "iopub.execute_input": "2023-02-23T18:35:49.257758Z",
     "iopub.status.busy": "2023-02-23T18:35:49.256973Z",
     "iopub.status.idle": "2023-02-23T18:37:17.195286Z",
     "shell.execute_reply": "2023-02-23T18:37:17.193859Z"
    },
    "papermill": {
     "duration": 87.975936,
     "end_time": "2023-02-23T18:37:17.198380",
     "exception": false,
     "start_time": "2023-02-23T18:35:49.222444",
     "status": "completed"
    },
    "tags": []
   },
   "outputs": [],
   "source": [
    "cc_train['year']=pd.DatetimeIndex(cc_train['startdate']).year \n",
    "cc_train['month']=pd.DatetimeIndex(cc_train['startdate']).month \n",
    "cc_train['day']=pd.DatetimeIndex(cc_train['startdate']).day\n",
    "cc_test['year']=pd.DatetimeIndex(cc_test['startdate']).year \n",
    "cc_test['month']=pd.DatetimeIndex(cc_test['startdate']).month \n",
    "cc_test['day']=pd.DatetimeIndex(cc_test['startdate']).day"
   ]
  },
  {
   "cell_type": "markdown",
   "id": "4a7be753",
   "metadata": {
    "papermill": {
     "duration": 0.031529,
     "end_time": "2023-02-23T18:37:17.262002",
     "exception": false,
     "start_time": "2023-02-23T18:37:17.230473",
     "status": "completed"
    },
    "tags": []
   },
   "source": [
    "# Data Preproccessing"
   ]
  },
  {
   "cell_type": "code",
   "execution_count": 33,
   "id": "e804fb64",
   "metadata": {
    "execution": {
     "iopub.execute_input": "2023-02-23T18:37:17.327339Z",
     "iopub.status.busy": "2023-02-23T18:37:17.326856Z",
     "iopub.status.idle": "2023-02-23T18:37:17.347088Z",
     "shell.execute_reply": "2023-02-23T18:37:17.346059Z"
    },
    "papermill": {
     "duration": 0.055837,
     "end_time": "2023-02-23T18:37:17.349279",
     "exception": false,
     "start_time": "2023-02-23T18:37:17.293442",
     "status": "completed"
    },
    "tags": []
   },
   "outputs": [],
   "source": [
    "def location_feature(train, test):\n",
    "    # Reference: https://www.kaggle.com/code/flaviafelicioni/wids-2023-different-locations-train-test-solved\n",
    "    scale = 14\n",
    "    train.loc[:,'lat']=round(train.lat,scale)\n",
    "    train.loc[:,'lon']=round(train.lon,scale)\n",
    "    test.loc[:,'lat']=round(test.lat,scale)\n",
    "    test.loc[:,'lon']=round(test.lon,scale)\n",
    "    \n",
    "    train_and_test = pd.concat([train, test], axis=0)\n",
    "    train_and_test['loc_group'] = train_and_test.groupby(['lat', 'lon']).ngroup()\n",
    "    print(f'{train_and_test.loc_group.nunique()} unique locations')\n",
    "    \n",
    "    train = train_and_test.iloc[:len(train)]\n",
    "    test = train_and_test.iloc[len(train):].drop(target, axis=1)\n",
    "    \n",
    "    return train, test\n",
    "\n",
    "def cat_encode(train, test):\n",
    "    # encoding the categorical feature in the train and test data set\n",
    "    # using OneHotEncoder\n",
    "    ohe = OneHotEncoder()\n",
    "    train_encoded = ohe.fit_transform(train[['climateregions__climateregion']])\n",
    "    test_encoded = ohe.transform(test[['climateregions__climateregion']])\n",
    "    \n",
    "    train = train.drop(['climateregions__climateregion'], axis=1)\n",
    "    test = test.drop(['climateregions__climateregion'], axis=1)\n",
    "    \n",
    "    train_encoded = pd.DataFrame(train_encoded.toarray(), columns=ohe.get_feature_names_out(['climateregions__climateregion']))\n",
    "    test_encoded = pd.DataFrame(test_encoded.toarray(), columns=ohe.get_feature_names_out(['climateregions__climateregion']))\n",
    "    \n",
    "    train = pd.concat([train, train_encoded], axis=1)\n",
    "    test = pd.concat([test, test_encoded], axis=1)\n",
    "    \n",
    "    return train, test\n",
    "\n",
    "    \n",
    "def fill_na_rows(dataset):\n",
    "    # Find the columns with missing values\n",
    "    columns_with_missing_values = dataset.columns[dataset.isnull().any()].tolist()\n",
    "    \n",
    "    # Impute the missing values with the mean value of that column\n",
    "    for col in columns_with_missing_values:\n",
    "        dataset[col].fillna(dataset[col].mean(), inplace=True)\n",
    "        \n",
    "    return dataset\n",
    "\n",
    "def create_new_feat(dataset):\n",
    "    dataset['year']=pd.DatetimeIndex(dataset['startdate']).year \n",
    "    dataset['month']=pd.DatetimeIndex(dataset['startdate']).month \n",
    "    dataset['day']=pd.DatetimeIndex(dataset['startdate']).day\n",
    "    return dataset\n",
    "\n",
    "def feature_engineering(origin_train, origin_test):\n",
    "    train, test = origin_train, origin_test\n",
    "    train = fill_na_rows(train)\n",
    "    train = create_new_feat(train)\n",
    "    test = create_new_feat(test)\n",
    "    train, test = cat_encode(train, test)\n",
    "    irrelevant_cols = ['index', 'startdate','contest-tmp2m-14d__tmp2m', 'climateregions__climateregion']\n",
    "    features = [col for col in train.columns if col not in irrelevant_cols]\n",
    "    #features = [col for col in train.columns]\n",
    "    X = train[features]\n",
    "    X_test = test[features]\n",
    "    y = train['contest-tmp2m-14d__tmp2m']\n",
    "    # Initialize the scaler\n",
    "    #scaler = MinMaxScaler()\n",
    "\n",
    "    # Fit the scaler to the train data\n",
    "    #scaler.fit(X)\n",
    "\n",
    "    # Transform the train data\n",
    "    #X_train_scaled = scaler.transform(X)\n",
    "\n",
    "    # Transform the test data\n",
    "    #X_test_scaled = scaler.transform(X_test)\n",
    "    \n",
    "    return X, y, X_test\n",
    "\n",
    "\n",
    "    \n",
    "    "
   ]
  },
  {
   "cell_type": "markdown",
   "id": "fc870ef5",
   "metadata": {
    "papermill": {
     "duration": 0.031814,
     "end_time": "2023-02-23T18:37:17.413527",
     "exception": false,
     "start_time": "2023-02-23T18:37:17.381713",
     "status": "completed"
    },
    "tags": []
   },
   "source": [
    "# Machine Learning Model\n",
    "## RandomForestRegressor\n",
    "\n",
    "Random Forest Regressor is a commonly used machine learning algorithm for regression problems and was chosen in this case because:\n",
    "\n",
    "- It can handle both linear and non-linear relationships between features and target variables.\n",
    "\n",
    "- It can handle missing data and is robust to noisy data.\n",
    "\n",
    "- It is an ensemble method, which means it combines multiple decision trees to produce a more accurate and stable prediction.\n",
    "\n",
    "- It can provide feature importance scores, which can be useful in identifying the most important features in the data.\n",
    "\n",
    "- It is easy to implement and provides good results out-of-the-box, especially for large datasets with a large number of features.\n",
    "\n",
    "These properties make Random Forest Regressor a good choice for a first attempt at solving this regression problem, and it can be a good starting point for further tuning and optimization"
   ]
  },
  {
   "cell_type": "markdown",
   "id": "210121f8",
   "metadata": {
    "papermill": {
     "duration": 0.032969,
     "end_time": "2023-02-23T18:37:17.478240",
     "exception": false,
     "start_time": "2023-02-23T18:37:17.445271",
     "status": "completed"
    },
    "tags": []
   },
   "source": [
    "# Splittin the data set to train the model"
   ]
  },
  {
   "cell_type": "markdown",
   "id": "a6126ce7",
   "metadata": {
    "papermill": {
     "duration": 0.032822,
     "end_time": "2023-02-23T18:37:17.544218",
     "exception": false,
     "start_time": "2023-02-23T18:37:17.511396",
     "status": "completed"
    },
    "tags": []
   },
   "source": [
    "Target variable: `contest-tmp2m-14d__tmp2m`\n",
    "\n",
    "[WiDS Datathon Challenge](https://www.kaggle.com/competitions/widsdatathon2023/data)\n",
    "\n",
    "Definition of target variable: \n",
    "- the arithmetic mean of the max and min observed temperature over the next 14 days for each location and start date, is provided\n",
    "\n",
    "Evaluation Metric:\n",
    "\n",
    "[Evaluation Reference](https://www.kaggle.com/competitions/widsdatathon2023/overview/evaluation)\n",
    "\n",
    "Root Mean Squared Error (RMSE)"
   ]
  },
  {
   "cell_type": "code",
   "execution_count": 34,
   "id": "cddd8ac2",
   "metadata": {
    "execution": {
     "iopub.execute_input": "2023-02-23T18:37:17.612296Z",
     "iopub.status.busy": "2023-02-23T18:37:17.611488Z",
     "iopub.status.idle": "2023-02-23T18:37:17.630925Z",
     "shell.execute_reply": "2023-02-23T18:37:17.629543Z"
    },
    "papermill": {
     "duration": 0.057373,
     "end_time": "2023-02-23T18:37:17.634278",
     "exception": false,
     "start_time": "2023-02-23T18:37:17.576905",
     "status": "completed"
    },
    "tags": []
   },
   "outputs": [],
   "source": [
    "target=\"contest-tmp2m-14d__tmp2m\"\n",
    "cc_test_copy = cc_test.copy()"
   ]
  },
  {
   "cell_type": "code",
   "execution_count": 35,
   "id": "d1ddefb0",
   "metadata": {
    "execution": {
     "iopub.execute_input": "2023-02-23T18:37:17.702387Z",
     "iopub.status.busy": "2023-02-23T18:37:17.701925Z",
     "iopub.status.idle": "2023-02-23T18:38:46.703348Z",
     "shell.execute_reply": "2023-02-23T18:38:46.701888Z"
    },
    "papermill": {
     "duration": 89.039464,
     "end_time": "2023-02-23T18:38:46.706539",
     "exception": false,
     "start_time": "2023-02-23T18:37:17.667075",
     "status": "completed"
    },
    "tags": []
   },
   "outputs": [],
   "source": [
    "# Split the data into training and test sets\n",
    "X, y, X_test = feature_engineering(cc_train.copy(), cc_test.copy())\n",
    "\n"
   ]
  },
  {
   "cell_type": "markdown",
   "id": "51eeeb61",
   "metadata": {
    "papermill": {
     "duration": 0.03945,
     "end_time": "2023-02-23T18:38:46.778554",
     "exception": false,
     "start_time": "2023-02-23T18:38:46.739104",
     "status": "completed"
    },
    "tags": []
   },
   "source": [
    "# Checking Correlation"
   ]
  },
  {
   "cell_type": "code",
   "execution_count": 36,
   "id": "11e82042",
   "metadata": {
    "execution": {
     "iopub.execute_input": "2023-02-23T18:38:46.849327Z",
     "iopub.status.busy": "2023-02-23T18:38:46.848151Z",
     "iopub.status.idle": "2023-02-23T18:38:46.857071Z",
     "shell.execute_reply": "2023-02-23T18:38:46.855857Z"
    },
    "papermill": {
     "duration": 0.045808,
     "end_time": "2023-02-23T18:38:46.859724",
     "exception": false,
     "start_time": "2023-02-23T18:38:46.813916",
     "status": "completed"
    },
    "tags": []
   },
   "outputs": [],
   "source": [
    "## Identify correlated features to drop that fall above a correlation threshold \n",
    "## https://goodboychan.github.io/python/datacamp/machine_learning/2020/07/08/02-Feature-selection-I-selecting-for-feature-information.html \n",
    "\n",
    "def identify_correlated(df, threshold):\n",
    "    corr_matrix = df.corr().abs()\n",
    "    mask = np.triu(np.ones_like(corr_matrix, dtype=bool))\n",
    "    reduced_corr_matrix = corr_matrix.mask(mask)\n",
    "    features_to_drop = [c for c in reduced_corr_matrix.columns if any(reduced_corr_matrix[c] > threshold)]\n",
    "    return features_to_drop"
   ]
  },
  {
   "cell_type": "code",
   "execution_count": 37,
   "id": "57bfba35",
   "metadata": {
    "execution": {
     "iopub.execute_input": "2023-02-23T18:38:46.927302Z",
     "iopub.status.busy": "2023-02-23T18:38:46.926273Z",
     "iopub.status.idle": "2023-02-23T18:39:49.674730Z",
     "shell.execute_reply": "2023-02-23T18:39:49.673516Z"
    },
    "papermill": {
     "duration": 62.785439,
     "end_time": "2023-02-23T18:39:49.677738",
     "exception": false,
     "start_time": "2023-02-23T18:38:46.892299",
     "status": "completed"
    },
    "tags": []
   },
   "outputs": [],
   "source": [
    "# afterwards i should print out the columns that are of high importance from the models\n",
    "# perform PCA and see if it determines the same features as the corr_matrix\n",
    "# at.96 the score is ~1.24 (~51 columns dropped)\n",
    "# at .70 the score is ~1.4 (~100+ columns dropped)\n",
    "# at .80 the score is ~0.968 (100 columns dropped) - but why were these columns so unimportant that dropping it had a better outcome as compared to the other trials with .95 and .70 ?\n",
    "# **Besides the fact that they were highly correlated - at .70 had more columns but dropping the columns identifed at .70 had a worse score than .80\n",
    "features_to_drop = identify_correlated(cc_train, .80)"
   ]
  },
  {
   "cell_type": "code",
   "execution_count": 38,
   "id": "aef30500",
   "metadata": {
    "execution": {
     "iopub.execute_input": "2023-02-23T18:39:49.745546Z",
     "iopub.status.busy": "2023-02-23T18:39:49.744921Z",
     "iopub.status.idle": "2023-02-23T18:39:49.751154Z",
     "shell.execute_reply": "2023-02-23T18:39:49.750150Z"
    },
    "papermill": {
     "duration": 0.044678,
     "end_time": "2023-02-23T18:39:49.754482",
     "exception": false,
     "start_time": "2023-02-23T18:39:49.709804",
     "status": "completed"
    },
    "tags": []
   },
   "outputs": [
    {
     "name": "stdout",
     "output_type": "stream",
     "text": [
      "100\n",
      "['index', 'contest-pevpr-sfc-gauss-14d__pevpr', 'nmme0-tmp2m-34w__cancm30', 'nmme0-tmp2m-34w__cancm40', 'nmme0-tmp2m-34w__ccsm30', 'nmme0-tmp2m-34w__ccsm40', 'nmme0-tmp2m-34w__cfsv20', 'nmme0-tmp2m-34w__gfdlflora0', 'nmme0-tmp2m-34w__gfdlflorb0', 'nmme0-tmp2m-34w__gfdl0', 'nmme0-tmp2m-34w__nasa0', 'nmme0-tmp2m-34w__nmme0mean', 'contest-wind-h10-14d__wind-hgt-10', 'nmme-tmp2m-56w__cancm3', 'nmme-tmp2m-56w__cancm4', 'nmme-tmp2m-56w__ccsm3', 'nmme-tmp2m-56w__ccsm4', 'nmme-tmp2m-56w__cfsv2', 'nmme-tmp2m-56w__gfdl', 'nmme-tmp2m-56w__gfdlflora', 'nmme-tmp2m-56w__gfdlflorb', 'nmme-tmp2m-56w__nasa', 'nmme-tmp2m-56w__nmmemean', 'nmme-prate-34w__cancm3', 'nmme-prate-34w__cancm4', 'nmme-prate-34w__ccsm3', 'nmme-prate-34w__ccsm4', 'nmme-prate-34w__cfsv2', 'nmme-prate-34w__gfdl', 'nmme-prate-34w__gfdlflora', 'nmme-prate-34w__gfdlflorb', 'nmme-prate-34w__nasa', 'nmme-prate-34w__nmmemean', 'contest-wind-h100-14d__wind-hgt-100', 'nmme0-prate-56w__cancm30', 'nmme0-prate-56w__cancm40', 'nmme0-prate-56w__ccsm30', 'nmme0-prate-56w__ccsm40', 'nmme0-prate-56w__cfsv20', 'nmme0-prate-56w__gfdlflora0', 'nmme0-prate-56w__gfdlflorb0', 'nmme0-prate-56w__gfdl0', 'nmme0-prate-56w__nasa0', 'nmme0-prate-56w__nmme0mean', 'nmme0-prate-34w__cancm30', 'nmme0-prate-34w__cancm40', 'nmme0-prate-34w__ccsm40', 'nmme0-prate-34w__cfsv20', 'nmme0-prate-34w__gfdlflora0', 'nmme0-prate-34w__gfdlflorb0', 'nmme0-prate-34w__gfdl0', 'nmme0-prate-34w__nasa0', 'nmme0-prate-34w__nmme0mean', 'contest-tmp2m-14d__tmp2m', 'nmme-prate-56w__cancm3', 'nmme-prate-56w__cancm4', 'nmme-prate-56w__ccsm4', 'nmme-prate-56w__cfsv2', 'nmme-prate-56w__gfdl', 'nmme-prate-56w__gfdlflora', 'nmme-prate-56w__gfdlflorb', 'contest-pres-sfc-gauss-14d__pres', 'nmme-tmp2m-34w__cancm3', 'nmme-tmp2m-34w__cancm4', 'nmme-tmp2m-34w__ccsm3', 'nmme-tmp2m-34w__ccsm4', 'nmme-tmp2m-34w__cfsv2', 'nmme-tmp2m-34w__gfdl', 'nmme-tmp2m-34w__gfdlflora', 'nmme-tmp2m-34w__gfdlflorb', 'nmme-tmp2m-34w__nasa', 'nmme-tmp2m-34w__nmmemean', 'cancm30', 'cancm40', 'ccsm30', 'ccsm40', 'cfsv20', 'gfdlflora0', 'gfdlflorb0', 'gfdl0', 'nasa0', 'nmme0mean', 'wind-vwnd-250-2010-1', 'wind-uwnd-250-2010-1', 'wind-uwnd-250-2010-2', 'mei__mei', 'mei__meirank', 'wind-hgt-850-2010-1', 'wind-hgt-850-2010-3', 'wind-hgt-850-2010-5', 'wind-hgt-850-2010-8', 'sst-2010-1', 'wind-hgt-500-2010-1', 'wind-hgt-500-2010-3', 'icec-2010-1', 'icec-2010-5', 'wind-uwnd-925-2010-1', 'wind-hgt-10-2010-1', 'wind-hgt-10-2010-2', 'wind-hgt-100-2010-1']\n"
     ]
    }
   ],
   "source": [
    "print(len(features_to_drop))\n",
    "print(features_to_drop)"
   ]
  },
  {
   "cell_type": "code",
   "execution_count": 39,
   "id": "e98c53d9",
   "metadata": {
    "execution": {
     "iopub.execute_input": "2023-02-23T18:39:49.822377Z",
     "iopub.status.busy": "2023-02-23T18:39:49.821481Z",
     "iopub.status.idle": "2023-02-23T18:39:49.832625Z",
     "shell.execute_reply": "2023-02-23T18:39:49.831043Z"
    },
    "papermill": {
     "duration": 0.048199,
     "end_time": "2023-02-23T18:39:49.835340",
     "exception": false,
     "start_time": "2023-02-23T18:39:49.787141",
     "status": "completed"
    },
    "tags": []
   },
   "outputs": [
    {
     "data": {
      "text/plain": [
       "['contest-pevpr-sfc-gauss-14d__pevpr',\n",
       " 'nmme0-tmp2m-34w__cancm30',\n",
       " 'nmme0-tmp2m-34w__cancm40',\n",
       " 'nmme0-tmp2m-34w__ccsm30',\n",
       " 'nmme0-tmp2m-34w__ccsm40',\n",
       " 'nmme0-tmp2m-34w__cfsv20',\n",
       " 'nmme0-tmp2m-34w__gfdlflora0',\n",
       " 'nmme0-tmp2m-34w__gfdlflorb0',\n",
       " 'nmme0-tmp2m-34w__gfdl0',\n",
       " 'nmme0-tmp2m-34w__nasa0',\n",
       " 'nmme0-tmp2m-34w__nmme0mean',\n",
       " 'contest-wind-h10-14d__wind-hgt-10',\n",
       " 'nmme-tmp2m-56w__cancm3',\n",
       " 'nmme-tmp2m-56w__cancm4',\n",
       " 'nmme-tmp2m-56w__ccsm3',\n",
       " 'nmme-tmp2m-56w__ccsm4',\n",
       " 'nmme-tmp2m-56w__cfsv2',\n",
       " 'nmme-tmp2m-56w__gfdl',\n",
       " 'nmme-tmp2m-56w__gfdlflora',\n",
       " 'nmme-tmp2m-56w__gfdlflorb',\n",
       " 'nmme-tmp2m-56w__nasa',\n",
       " 'nmme-tmp2m-56w__nmmemean',\n",
       " 'nmme-prate-34w__cancm3',\n",
       " 'nmme-prate-34w__cancm4',\n",
       " 'nmme-prate-34w__ccsm3',\n",
       " 'nmme-prate-34w__ccsm4',\n",
       " 'nmme-prate-34w__cfsv2',\n",
       " 'nmme-prate-34w__gfdl',\n",
       " 'nmme-prate-34w__gfdlflora',\n",
       " 'nmme-prate-34w__gfdlflorb',\n",
       " 'nmme-prate-34w__nasa',\n",
       " 'nmme-prate-34w__nmmemean',\n",
       " 'contest-wind-h100-14d__wind-hgt-100',\n",
       " 'nmme0-prate-56w__cancm30',\n",
       " 'nmme0-prate-56w__cancm40',\n",
       " 'nmme0-prate-56w__ccsm30',\n",
       " 'nmme0-prate-56w__ccsm40',\n",
       " 'nmme0-prate-56w__cfsv20',\n",
       " 'nmme0-prate-56w__gfdlflora0',\n",
       " 'nmme0-prate-56w__gfdlflorb0',\n",
       " 'nmme0-prate-56w__gfdl0',\n",
       " 'nmme0-prate-56w__nasa0',\n",
       " 'nmme0-prate-56w__nmme0mean',\n",
       " 'nmme0-prate-34w__cancm30',\n",
       " 'nmme0-prate-34w__cancm40',\n",
       " 'nmme0-prate-34w__ccsm40',\n",
       " 'nmme0-prate-34w__cfsv20',\n",
       " 'nmme0-prate-34w__gfdlflora0',\n",
       " 'nmme0-prate-34w__gfdlflorb0',\n",
       " 'nmme0-prate-34w__gfdl0',\n",
       " 'nmme0-prate-34w__nasa0',\n",
       " 'nmme0-prate-34w__nmme0mean',\n",
       " 'nmme-prate-56w__cancm3',\n",
       " 'nmme-prate-56w__cancm4',\n",
       " 'nmme-prate-56w__ccsm4',\n",
       " 'nmme-prate-56w__cfsv2',\n",
       " 'nmme-prate-56w__gfdl',\n",
       " 'nmme-prate-56w__gfdlflora',\n",
       " 'nmme-prate-56w__gfdlflorb',\n",
       " 'contest-pres-sfc-gauss-14d__pres',\n",
       " 'nmme-tmp2m-34w__cancm3',\n",
       " 'nmme-tmp2m-34w__cancm4',\n",
       " 'nmme-tmp2m-34w__ccsm3',\n",
       " 'nmme-tmp2m-34w__ccsm4',\n",
       " 'nmme-tmp2m-34w__cfsv2',\n",
       " 'nmme-tmp2m-34w__gfdl',\n",
       " 'nmme-tmp2m-34w__gfdlflora',\n",
       " 'nmme-tmp2m-34w__gfdlflorb',\n",
       " 'nmme-tmp2m-34w__nasa',\n",
       " 'nmme-tmp2m-34w__nmmemean',\n",
       " 'cancm30',\n",
       " 'cancm40',\n",
       " 'ccsm30',\n",
       " 'ccsm40',\n",
       " 'cfsv20',\n",
       " 'gfdlflora0',\n",
       " 'gfdlflorb0',\n",
       " 'gfdl0',\n",
       " 'nasa0',\n",
       " 'nmme0mean',\n",
       " 'wind-vwnd-250-2010-1',\n",
       " 'wind-uwnd-250-2010-1',\n",
       " 'wind-uwnd-250-2010-2',\n",
       " 'mei__mei',\n",
       " 'mei__meirank',\n",
       " 'wind-hgt-850-2010-1',\n",
       " 'wind-hgt-850-2010-3',\n",
       " 'wind-hgt-850-2010-5',\n",
       " 'wind-hgt-850-2010-8',\n",
       " 'sst-2010-1',\n",
       " 'wind-hgt-500-2010-1',\n",
       " 'wind-hgt-500-2010-3',\n",
       " 'icec-2010-1',\n",
       " 'icec-2010-5',\n",
       " 'wind-uwnd-925-2010-1',\n",
       " 'wind-hgt-10-2010-1',\n",
       " 'wind-hgt-10-2010-2',\n",
       " 'wind-hgt-100-2010-1']"
      ]
     },
     "execution_count": 39,
     "metadata": {},
     "output_type": "execute_result"
    }
   ],
   "source": [
    "remove_feature = ['index', 'contest-tmp2m-14d__tmp2m']\n",
    "features_to_drop_v1 = [ele for ele in features_to_drop if ele not in remove_feature]\n",
    "features_to_drop_v1"
   ]
  },
  {
   "cell_type": "code",
   "execution_count": 40,
   "id": "702ddf4c",
   "metadata": {
    "execution": {
     "iopub.execute_input": "2023-02-23T18:39:49.902914Z",
     "iopub.status.busy": "2023-02-23T18:39:49.901915Z",
     "iopub.status.idle": "2023-02-23T18:39:50.080474Z",
     "shell.execute_reply": "2023-02-23T18:39:50.079039Z"
    },
    "papermill": {
     "duration": 0.215127,
     "end_time": "2023-02-23T18:39:50.083140",
     "exception": false,
     "start_time": "2023-02-23T18:39:49.868013",
     "status": "completed"
    },
    "tags": []
   },
   "outputs": [
    {
     "name": "stdout",
     "output_type": "stream",
     "text": [
      "Dropped features that are highly correlated\n"
     ]
    }
   ],
   "source": [
    "cc_train_reduced = pd.DataFrame(X.drop(features_to_drop_v1, axis=1))\n",
    "cc_test_reduced = pd.DataFrame(X_test.drop(features_to_drop_v1, axis=1))\n",
    "print(\"Dropped features that are highly correlated\")"
   ]
  },
  {
   "cell_type": "markdown",
   "id": "d8536532",
   "metadata": {
    "papermill": {
     "duration": 0.031726,
     "end_time": "2023-02-23T18:39:50.146959",
     "exception": false,
     "start_time": "2023-02-23T18:39:50.115233",
     "status": "completed"
    },
    "tags": []
   },
   "source": [
    "def ensemble_predict(xgboost_preds, lightgbm_preds):\n",
    "    # combine the predictions of the two models\n",
    "    combined_preds = np.mean([xgboost_preds, lightgbm_preds], axis=0)\n",
    "    return combined_preds"
   ]
  },
  {
   "cell_type": "code",
   "execution_count": 41,
   "id": "1f276283",
   "metadata": {
    "execution": {
     "iopub.execute_input": "2023-02-23T18:39:50.214162Z",
     "iopub.status.busy": "2023-02-23T18:39:50.213595Z",
     "iopub.status.idle": "2023-02-23T18:39:50.874789Z",
     "shell.execute_reply": "2023-02-23T18:39:50.873222Z"
    },
    "papermill": {
     "duration": 0.699066,
     "end_time": "2023-02-23T18:39:50.877778",
     "exception": false,
     "start_time": "2023-02-23T18:39:50.178712",
     "status": "completed"
    },
    "tags": []
   },
   "outputs": [
    {
     "name": "stdout",
     "output_type": "stream",
     "text": [
      "Split the dataset for training successfully\n"
     ]
    }
   ],
   "source": [
    "X_train, X_test_tts, y_train, y_test = train_test_split(cc_train_reduced, y, test_size=0.33, random_state=42)\n",
    "print(\"Split the dataset for training successfully\")"
   ]
  },
  {
   "cell_type": "markdown",
   "id": "c1338562",
   "metadata": {
    "papermill": {
     "duration": 0.032099,
     "end_time": "2023-02-23T18:39:50.944055",
     "exception": false,
     "start_time": "2023-02-23T18:39:50.911956",
     "status": "completed"
    },
    "tags": []
   },
   "source": [
    "# Using RandomForestRegressor"
   ]
  },
  {
   "cell_type": "markdown",
   "id": "5a9d963e",
   "metadata": {
    "papermill": {
     "duration": 0.033661,
     "end_time": "2023-02-23T18:39:51.010531",
     "exception": false,
     "start_time": "2023-02-23T18:39:50.976870",
     "status": "completed"
    },
    "tags": []
   },
   "source": [
    "**Training and test performance**"
   ]
  },
  {
   "cell_type": "code",
   "execution_count": 42,
   "id": "8613c221",
   "metadata": {
    "execution": {
     "iopub.execute_input": "2023-02-23T18:39:51.080453Z",
     "iopub.status.busy": "2023-02-23T18:39:51.079893Z",
     "iopub.status.idle": "2023-02-23T18:39:51.088340Z",
     "shell.execute_reply": "2023-02-23T18:39:51.087093Z"
    },
    "papermill": {
     "duration": 0.047881,
     "end_time": "2023-02-23T18:39:51.090734",
     "exception": false,
     "start_time": "2023-02-23T18:39:51.042853",
     "status": "completed"
    },
    "tags": []
   },
   "outputs": [
    {
     "data": {
      "text/plain": [
       "'\\n# Train the Random Forest Regressor\\nparams = {\\n    \\'n_estimators\\': 5000,\\n    \\'max_depth\\': 10,\\n    \\'min_samples_split\\': 2,\\n    \\'min_samples_leaf\\': 1,\\n    \\'max_features\\': \\'sqrt\\',\\n    \\'bootstrap\\': True,\\n    \\'oob_score\\': True\\n}\\nregr_rfr = RandomForestRegressor(**params)\\nregr_rfr.fit(X_train, y_train)\\n# make predictions on the test data\\ny_pred_rfr = regr_rfr.predict(X_test_tts)\\n\\n# calculate the RMSE\\nrmse = np.sqrt(mean_squared_error(y_test, y_pred_rfr))\\nprint(\"RMSE:\", rmse)\\n'"
      ]
     },
     "execution_count": 42,
     "metadata": {},
     "output_type": "execute_result"
    }
   ],
   "source": [
    "'''\n",
    "# Train the Random Forest Regressor\n",
    "params = {\n",
    "    'n_estimators': 5000,\n",
    "    'max_depth': 10,\n",
    "    'min_samples_split': 2,\n",
    "    'min_samples_leaf': 1,\n",
    "    'max_features': 'sqrt',\n",
    "    'bootstrap': True,\n",
    "    'oob_score': True\n",
    "}\n",
    "regr_rfr = RandomForestRegressor(**params)\n",
    "regr_rfr.fit(X_train, y_train)\n",
    "# make predictions on the test data\n",
    "y_pred_rfr = regr_rfr.predict(X_test_tts)\n",
    "\n",
    "# calculate the RMSE\n",
    "rmse = np.sqrt(mean_squared_error(y_test, y_pred_rfr))\n",
    "print(\"RMSE:\", rmse)\n",
    "'''"
   ]
  },
  {
   "cell_type": "code",
   "execution_count": 43,
   "id": "6ef9cb97",
   "metadata": {
    "execution": {
     "iopub.execute_input": "2023-02-23T18:39:51.156416Z",
     "iopub.status.busy": "2023-02-23T18:39:51.155944Z",
     "iopub.status.idle": "2023-02-23T18:39:51.161633Z",
     "shell.execute_reply": "2023-02-23T18:39:51.160732Z"
    },
    "papermill": {
     "duration": 0.041235,
     "end_time": "2023-02-23T18:39:51.163948",
     "exception": false,
     "start_time": "2023-02-23T18:39:51.122713",
     "status": "completed"
    },
    "tags": []
   },
   "outputs": [],
   "source": [
    "# cc_test_pred = regr_rfr.predict(cc_test_reduced)"
   ]
  },
  {
   "cell_type": "code",
   "execution_count": 44,
   "id": "7f58ef60",
   "metadata": {
    "execution": {
     "iopub.execute_input": "2023-02-23T18:39:51.231377Z",
     "iopub.status.busy": "2023-02-23T18:39:51.229938Z",
     "iopub.status.idle": "2023-02-23T18:39:51.235884Z",
     "shell.execute_reply": "2023-02-23T18:39:51.234952Z"
    },
    "papermill": {
     "duration": 0.042561,
     "end_time": "2023-02-23T18:39:51.238202",
     "exception": false,
     "start_time": "2023-02-23T18:39:51.195641",
     "status": "completed"
    },
    "tags": []
   },
   "outputs": [],
   "source": [
    "# cc_test_copy[target] = cc_test_pred\n",
    "# cc_test_copy[[target,\"index\"]].to_csv(\"rfrpredictions.csv\",index = False)"
   ]
  },
  {
   "cell_type": "markdown",
   "id": "7c4c0df6",
   "metadata": {
    "papermill": {
     "duration": 0.031743,
     "end_time": "2023-02-23T18:39:51.301696",
     "exception": false,
     "start_time": "2023-02-23T18:39:51.269953",
     "status": "completed"
    },
    "tags": []
   },
   "source": [
    "# Using XGBoost\n",
    "\n",
    "*Gradient Boosted Decision Trees*\n",
    "\n",
    "XGBoost is short for Extreme Gradient Boosting. The implementation is designed for speed and performance. It is an efficient implementation of the stochastic gradient boosting algorithm."
   ]
  },
  {
   "cell_type": "code",
   "execution_count": 45,
   "id": "0bea3b86",
   "metadata": {
    "execution": {
     "iopub.execute_input": "2023-02-23T18:39:51.369589Z",
     "iopub.status.busy": "2023-02-23T18:39:51.368038Z",
     "iopub.status.idle": "2023-02-23T18:39:51.373409Z",
     "shell.execute_reply": "2023-02-23T18:39:51.372351Z"
    },
    "papermill": {
     "duration": 0.041891,
     "end_time": "2023-02-23T18:39:51.375855",
     "exception": false,
     "start_time": "2023-02-23T18:39:51.333964",
     "status": "completed"
    },
    "tags": []
   },
   "outputs": [],
   "source": [
    "# create a DMatrix from the training data\n",
    "#dtrain = xgb.DMatrix(data=X_train, label=y_train)\n",
    "#dtest = xgb.DMatrix(data=X_test)"
   ]
  },
  {
   "cell_type": "markdown",
   "id": "0dbd8e6e",
   "metadata": {
    "papermill": {
     "duration": 0.03313,
     "end_time": "2023-02-23T18:39:51.441180",
     "exception": false,
     "start_time": "2023-02-23T18:39:51.408050",
     "status": "completed"
    },
    "tags": []
   },
   "source": [
    "### Hyperparameters used\n",
    "These parameters are used to specify the hyperparameters for a gradient boosting tree (GBT) model in the XGBoost library.\n",
    "\n",
    "- **base_score**: It is the initial prediction score of all instances, global bias.\n",
    "\n",
    "- **booster**: It specifies which booster to use for model training. The value 'gbtree' indicates that a tree-based booster will be used.\n",
    "\n",
    "- **tree_method**: It specifies the method used to build the trees. The value 'gpu_hist' means that the histogram-based algorithm is used to build the trees on a GPU.\n",
    "\n",
    "- **n_estimators**: It is the number of trees in the forest. The higher the number, the more complex the model becomes, but also the longer it takes to train.\n",
    "\n",
    "- **early_stopping_rounds**: It is used to stop the training process early when the performance on a validation set starts to degrade. The value 50 indicates that training will be stopped if the performance on the validation set does not improve after 50 iterations.\n",
    "\n",
    "- **objective**: It defines the loss function to be minimized. The value 'reg:squarederror' means that the model will minimize the mean squared error between the predicted and actual values.\n",
    "\n",
    "- **max_depth**: It is the maximum depth of the trees in the model. The higher the value, the more complex the model becomes. Note: 2 - 8 is recommended, any higher value than 8 would not provide any more benefits.\n",
    "\n",
    "- **subsample**: It is the fraction of the training instances used to build each tree in the forest. The lower the value, the simpler the model becomes, but also the more prone to overfitting.\n",
    "\n",
    "- **colsample_bytree**: It is the fraction of the columns used to build each tree in the forest. The lower the value, the simpler the model becomes, but also the more prone to overfitting.\n",
    "\n",
    "- **learning_rate**: It is the step size at which the optimizer makes updates to the model weights. A lower value means that the model updates more slowly but with less noise.\n",
    "\n",
    "- **gpu_id**: It is the GPU device id to use for training. The value 0 indicates that the first GPU in the system will be used."
   ]
  },
  {
   "cell_type": "markdown",
   "id": "e4b9c8a7",
   "metadata": {
    "papermill": {
     "duration": 0.032018,
     "end_time": "2023-02-23T18:39:51.505777",
     "exception": false,
     "start_time": "2023-02-23T18:39:51.473759",
     "status": "completed"
    },
    "tags": []
   },
   "source": [
    "*Can use StratifiedKfold and gridsearhcv to determine the best combinations of parameters.*"
   ]
  },
  {
   "cell_type": "markdown",
   "id": "e917af82",
   "metadata": {
    "papermill": {
     "duration": 0.032393,
     "end_time": "2023-02-23T18:39:51.570686",
     "exception": false,
     "start_time": "2023-02-23T18:39:51.538293",
     "status": "completed"
    },
    "tags": []
   },
   "source": [
    "> Note 1: I would like to reduce the value of the n_estimators will maintaining the same rmse or better."
   ]
  },
  {
   "cell_type": "markdown",
   "id": "8694765a",
   "metadata": {
    "papermill": {
     "duration": 0.032492,
     "end_time": "2023-02-23T18:39:51.635738",
     "exception": false,
     "start_time": "2023-02-23T18:39:51.603246",
     "status": "completed"
    },
    "tags": []
   },
   "source": [
    "> Note 2: Review the learning curve on the training and validation set"
   ]
  },
  {
   "cell_type": "code",
   "execution_count": 46,
   "id": "2066785f",
   "metadata": {
    "execution": {
     "iopub.execute_input": "2023-02-23T18:39:51.704369Z",
     "iopub.status.busy": "2023-02-23T18:39:51.702790Z",
     "iopub.status.idle": "2023-02-23T18:39:51.712540Z",
     "shell.execute_reply": "2023-02-23T18:39:51.711469Z"
    },
    "papermill": {
     "duration": 0.04619,
     "end_time": "2023-02-23T18:39:51.714934",
     "exception": false,
     "start_time": "2023-02-23T18:39:51.668744",
     "status": "completed"
    },
    "tags": []
   },
   "outputs": [
    {
     "data": {
      "text/plain": [
       "'\\n# set up parameters for XGBoost\\n# list of learning_rates to test [0.0001, 0.001, 0.01, 0.1, 0.2, 0.3]\\n# n_estimators = [50, 100, 150, 200]\\n# max_depth = [2, 4, 6, 8]\\n# param_grid = dict(max_depth=max_depth, n_estimators=n_estimators)\\nprint(\"Training and predicting using xgboost\")\\n# Define the search space for the hyperparameters\\nparams = {\\'base_score\\': 0.5, \\n          \\'booster\\': \\'gbtree\\',\\n          \\'tree_method\\': \\'gpu_hist\\',\\n          \\'n_estimators\\': 15000,\\n          \\'objective\\': \\'reg:squarederror\\',\\n          \\'max_depth\\': 6,\\n          \\'subsample\\': 0.5,\\n          \\'colsample_bytree\\': 0.5,\\n          \\'gamma\\': 1.4,\\n          \\'min_child_weight\\': 7,\\n          \\'learning_rate\\': 0.01,\\n          \\'gpu_id\\': 0}\\n\\nreg_xgb = xgb.XGBRegressor(**params)\\n\\nreg_xgb.fit(X_train, y_train, eval_set=[(X_train, y_train), (X_test_tts, y_test)], verbose=1000)\\n\\n# get the feature importance scores\\nimportance_scores = reg_xgb.feature_importances_\\nfeature_importances = pd.DataFrame({\\'feature\\': X_train.columns, \\'importance\\': importance_scores})\\nfeature_importances.to_csv(\"xgboostbestparameters.csv\")\\n# sort the features by importance score\\nfeature_importances = feature_importances.sort_values(\\'importance\\', ascending=False)\\nprint(feature_importances)\\n\\n\\n# make predictions on the test data\\ny_pred_xgb = reg_xgb.predict(X_test_tts)\\n\\n# calculate the RMSE\\nrmse = np.sqrt(mean_squared_error(y_test, y_pred_xgb))\\nprint(\"RMSE:\", rmse)\\n\\n\\ncc_test_pred = reg_xgb.predict(cc_test_reduced)\\ncc_test_copy[target] = cc_test_pred\\ncc_test_copy[[target,\"index\"]].to_csv(\"xgbpredictions.csv\",index = False)\\nprint(\"Finished training and fitting, created xgbpredictions,csv\")\\n'"
      ]
     },
     "execution_count": 46,
     "metadata": {},
     "output_type": "execute_result"
    }
   ],
   "source": [
    "'''\n",
    "# set up parameters for XGBoost\n",
    "# list of learning_rates to test [0.0001, 0.001, 0.01, 0.1, 0.2, 0.3]\n",
    "# n_estimators = [50, 100, 150, 200]\n",
    "# max_depth = [2, 4, 6, 8]\n",
    "# param_grid = dict(max_depth=max_depth, n_estimators=n_estimators)\n",
    "print(\"Training and predicting using xgboost\")\n",
    "# Define the search space for the hyperparameters\n",
    "params = {'base_score': 0.5, \n",
    "          'booster': 'gbtree',\n",
    "          'tree_method': 'gpu_hist',\n",
    "          'n_estimators': 15000,\n",
    "          'objective': 'reg:squarederror',\n",
    "          'max_depth': 6,\n",
    "          'subsample': 0.5,\n",
    "          'colsample_bytree': 0.5,\n",
    "          'gamma': 1.4,\n",
    "          'min_child_weight': 7,\n",
    "          'learning_rate': 0.01,\n",
    "          'gpu_id': 0}\n",
    "\n",
    "reg_xgb = xgb.XGBRegressor(**params)\n",
    "\n",
    "reg_xgb.fit(X_train, y_train, eval_set=[(X_train, y_train), (X_test_tts, y_test)], verbose=1000)\n",
    "\n",
    "# get the feature importance scores\n",
    "importance_scores = reg_xgb.feature_importances_\n",
    "feature_importances = pd.DataFrame({'feature': X_train.columns, 'importance': importance_scores})\n",
    "feature_importances.to_csv(\"xgboostbestparameters.csv\")\n",
    "# sort the features by importance score\n",
    "feature_importances = feature_importances.sort_values('importance', ascending=False)\n",
    "print(feature_importances)\n",
    "\n",
    "\n",
    "# make predictions on the test data\n",
    "y_pred_xgb = reg_xgb.predict(X_test_tts)\n",
    "\n",
    "# calculate the RMSE\n",
    "rmse = np.sqrt(mean_squared_error(y_test, y_pred_xgb))\n",
    "print(\"RMSE:\", rmse)\n",
    "\n",
    "\n",
    "cc_test_pred = reg_xgb.predict(cc_test_reduced)\n",
    "cc_test_copy[target] = cc_test_pred\n",
    "cc_test_copy[[target,\"index\"]].to_csv(\"xgbpredictions.csv\",index = False)\n",
    "print(\"Finished training and fitting, created xgbpredictions,csv\")\n",
    "'''\n"
   ]
  },
  {
   "cell_type": "code",
   "execution_count": 47,
   "id": "31942b35",
   "metadata": {
    "execution": {
     "iopub.execute_input": "2023-02-23T18:39:51.781594Z",
     "iopub.status.busy": "2023-02-23T18:39:51.780787Z",
     "iopub.status.idle": "2023-02-23T18:39:51.790470Z",
     "shell.execute_reply": "2023-02-23T18:39:51.788926Z"
    },
    "papermill": {
     "duration": 0.045965,
     "end_time": "2023-02-23T18:39:51.793032",
     "exception": false,
     "start_time": "2023-02-23T18:39:51.747067",
     "status": "completed"
    },
    "tags": []
   },
   "outputs": [
    {
     "data": {
      "text/plain": [
       "'\\ndef objective(trial):\\n    params = {\\n        \\'base_score\\': 0.5, \\n        \\'booster\\': \\'gbtree\\',\\n        \\'tree_method\\': \\'gpu_hist\\',\\n        \\'n_estimators\\': 6000,\\n        \\'objective\\': \\'reg:squarederror\\',\\n        \\'max_depth\\': trial.suggest_int(\\'max_depth\\', 3, 10),\\n        \\'subsample\\': trial.suggest_uniform(\\'subsample\\', 0.1, 1.0),\\n        \\'colsample_bytree\\': trial.suggest_uniform(\\'colsample_bytree\\', 0.1, 1.0),\\n        \\'learning_rate\\': trial.suggest_loguniform(\\'learning_rate\\', 0.001, 0.1),\\n        \\'verbosity\\': -1,\\n        \\'gpu_id\\': 0\\n    }\\n\\n    reg_xgb = xgb.XGBRegressor(**params)\\n\\n    reg_xgb.fit(X_train, y_train, eval_set=[(X_train, y_train), (X_test_tts, y_test)])\\n\\n    y_pred_xgb = reg_xgb.predict(X_test_tts)\\n\\n    rmse = np.sqrt(mean_squared_error(y_test, y_pred_xgb))\\n\\n    return rmse\\n\\nstudy = optuna.create_study(direction=\\'minimize\\')\\nstudy.optimize(objective, n_trials=15)\\n\\nprint(\\'Number of finished trials:\\', len(study.trials))\\nprint(\\'Best trial:\\')\\ntrial = study.best_trial\\n\\nprint(f\\'  Value: {trial.value:.5f}\\')\\nprint(\\'  Params: \\')\\nfor key, value in trial.params.items():\\n    print(f\\'    {key}: {value}\\')\\n\\nbest_params = trial.params\\nreg_xgb = xgb.XGBRegressor(**best_params)\\nreg_xgb.fit(X_train, y_train, eval_set=[(X_train, y_train), (X_test_tts, y_test)])\\ny_pred_xgb = reg_xgb.predict(X_test_tts)\\nrmse = np.sqrt(mean_squared_error(y_test, y_pred_xgb))\\nprint(\"RMSE:\", rmse)\\n\\ncc_test_pred = reg_xgb.predict(cc_test_reduced)\\ncc_test_copy[target] = cc_test_pred\\ncc_test_copy[[target,\"index\"]].to_csv(\"xgbpredictions.csv\",index = False)\\nprint(\"Finished training and fitting, created xgbpredictions.csv\")\\n'"
      ]
     },
     "execution_count": 47,
     "metadata": {},
     "output_type": "execute_result"
    }
   ],
   "source": [
    "'''\n",
    "def objective(trial):\n",
    "    params = {\n",
    "        'base_score': 0.5, \n",
    "        'booster': 'gbtree',\n",
    "        'tree_method': 'gpu_hist',\n",
    "        'n_estimators': 6000,\n",
    "        'objective': 'reg:squarederror',\n",
    "        'max_depth': trial.suggest_int('max_depth', 3, 10),\n",
    "        'subsample': trial.suggest_uniform('subsample', 0.1, 1.0),\n",
    "        'colsample_bytree': trial.suggest_uniform('colsample_bytree', 0.1, 1.0),\n",
    "        'learning_rate': trial.suggest_loguniform('learning_rate', 0.001, 0.1),\n",
    "        'verbosity': -1,\n",
    "        'gpu_id': 0\n",
    "    }\n",
    "\n",
    "    reg_xgb = xgb.XGBRegressor(**params)\n",
    "\n",
    "    reg_xgb.fit(X_train, y_train, eval_set=[(X_train, y_train), (X_test_tts, y_test)])\n",
    "\n",
    "    y_pred_xgb = reg_xgb.predict(X_test_tts)\n",
    "\n",
    "    rmse = np.sqrt(mean_squared_error(y_test, y_pred_xgb))\n",
    "\n",
    "    return rmse\n",
    "\n",
    "study = optuna.create_study(direction='minimize')\n",
    "study.optimize(objective, n_trials=15)\n",
    "\n",
    "print('Number of finished trials:', len(study.trials))\n",
    "print('Best trial:')\n",
    "trial = study.best_trial\n",
    "\n",
    "print(f'  Value: {trial.value:.5f}')\n",
    "print('  Params: ')\n",
    "for key, value in trial.params.items():\n",
    "    print(f'    {key}: {value}')\n",
    "\n",
    "best_params = trial.params\n",
    "reg_xgb = xgb.XGBRegressor(**best_params)\n",
    "reg_xgb.fit(X_train, y_train, eval_set=[(X_train, y_train), (X_test_tts, y_test)])\n",
    "y_pred_xgb = reg_xgb.predict(X_test_tts)\n",
    "rmse = np.sqrt(mean_squared_error(y_test, y_pred_xgb))\n",
    "print(\"RMSE:\", rmse)\n",
    "\n",
    "cc_test_pred = reg_xgb.predict(cc_test_reduced)\n",
    "cc_test_copy[target] = cc_test_pred\n",
    "cc_test_copy[[target,\"index\"]].to_csv(\"xgbpredictions.csv\",index = False)\n",
    "print(\"Finished training and fitting, created xgbpredictions.csv\")\n",
    "'''"
   ]
  },
  {
   "cell_type": "markdown",
   "id": "bd3099e5",
   "metadata": {
    "papermill": {
     "duration": 0.032183,
     "end_time": "2023-02-23T18:39:51.857429",
     "exception": false,
     "start_time": "2023-02-23T18:39:51.825246",
     "status": "completed"
    },
    "tags": []
   },
   "source": [
    "# How does catboost manage"
   ]
  },
  {
   "cell_type": "code",
   "execution_count": 48,
   "id": "a30264d1",
   "metadata": {
    "execution": {
     "iopub.execute_input": "2023-02-23T18:39:51.924696Z",
     "iopub.status.busy": "2023-02-23T18:39:51.924256Z",
     "iopub.status.idle": "2023-02-23T18:39:51.931751Z",
     "shell.execute_reply": "2023-02-23T18:39:51.930743Z"
    },
    "papermill": {
     "duration": 0.044181,
     "end_time": "2023-02-23T18:39:51.933927",
     "exception": false,
     "start_time": "2023-02-23T18:39:51.889746",
     "status": "completed"
    },
    "tags": []
   },
   "outputs": [
    {
     "data": {
      "text/plain": [
       "'\\nfrom catboost import CatBoostRegressor\\nparams = {\\'iterations\\': 15000,\\n          \\'learning_rate\\': 0.01,\\n          \\'depth\\': 6,\\n          \\'l2_leaf_reg\\': 3,\\n          \\'bagging_temperature\\': 1,\\n          \\'border_count\\': 256,\\n          \\'loss_function\\': \\'RMSE\\',\\n          \\'random_seed\\': None,\\n          \\'task_type\\': \\'GPU\\',\\n          \\'verbose\\': 100}\\n# Define the CatBoostRegressor object\\nreg_catboost = CatBoostRegressor(**params)\\n\\n# Fit the model to the training data\\nreg_catboost.fit(X_train, y_train, eval_set=(X_train, y_train))\\n\\n# Generate predictions on the test data\\ny_pred_catboost = reg_catboost.predict(X_test_tts)\\n\\n# Calculate the RMSE\\nrmse = np.sqrt(mean_squared_error(y_test, y_pred_catboost))\\nprint(\"RMSE:\", rmse)\\n\\n# Make predictions on the competition test data\\ncc_test_copy_v2 = cc_test_copy.copy()\\ncc_test_pred_catb = reg_catboost.predict(cc_test_reduced)\\ncc_test_copy_v2[target] = cc_test_pred_catb\\ncc_test_copy_v2[[target, \"index\"]].to_csv(\"catboost_predictions.csv\", index=False)\\n'"
      ]
     },
     "execution_count": 48,
     "metadata": {},
     "output_type": "execute_result"
    }
   ],
   "source": [
    "'''\n",
    "from catboost import CatBoostRegressor\n",
    "params = {'iterations': 15000,\n",
    "          'learning_rate': 0.01,\n",
    "          'depth': 6,\n",
    "          'l2_leaf_reg': 3,\n",
    "          'bagging_temperature': 1,\n",
    "          'border_count': 256,\n",
    "          'loss_function': 'RMSE',\n",
    "          'random_seed': None,\n",
    "          'task_type': 'GPU',\n",
    "          'verbose': 100}\n",
    "# Define the CatBoostRegressor object\n",
    "reg_catboost = CatBoostRegressor(**params)\n",
    "\n",
    "# Fit the model to the training data\n",
    "reg_catboost.fit(X_train, y_train, eval_set=(X_train, y_train))\n",
    "\n",
    "# Generate predictions on the test data\n",
    "y_pred_catboost = reg_catboost.predict(X_test_tts)\n",
    "\n",
    "# Calculate the RMSE\n",
    "rmse = np.sqrt(mean_squared_error(y_test, y_pred_catboost))\n",
    "print(\"RMSE:\", rmse)\n",
    "\n",
    "# Make predictions on the competition test data\n",
    "cc_test_copy_v2 = cc_test_copy.copy()\n",
    "cc_test_pred_catb = reg_catboost.predict(cc_test_reduced)\n",
    "cc_test_copy_v2[target] = cc_test_pred_catb\n",
    "cc_test_copy_v2[[target, \"index\"]].to_csv(\"catboost_predictions.csv\", index=False)\n",
    "'''\n"
   ]
  },
  {
   "cell_type": "markdown",
   "id": "a176f82f",
   "metadata": {
    "papermill": {
     "duration": 0.034085,
     "end_time": "2023-02-23T18:39:52.001606",
     "exception": false,
     "start_time": "2023-02-23T18:39:51.967521",
     "status": "completed"
    },
    "tags": []
   },
   "source": [
    "# Using lasso and gradientboosting ensemble\n",
    "\n",
    "This is taking too long. I need to find a way to speed up"
   ]
  },
  {
   "cell_type": "markdown",
   "id": "ac34b23b",
   "metadata": {
    "papermill": {
     "duration": 0.032604,
     "end_time": "2023-02-23T18:39:52.066952",
     "exception": false,
     "start_time": "2023-02-23T18:39:52.034348",
     "status": "completed"
    },
    "tags": []
   },
   "source": [
    "# Using Lasso\n",
    "\n",
    "lasso = Lasso(alpha=0.005, random_state=1, max_iter=1000)\n",
    "lasso.fit(X_train, y_train)\n",
    "y_pred_lasso = lasso.predict(X_test_tts)\n",
    "cc_test_pred_lasso = lasso.predict(X_test)\n",
    "cc_test_copy[target] = cc_test_pred_lasso\n",
    "cc_test_copy[[target,\"index\"]].to_csv(\"lassopredictions.csv\",index = False)"
   ]
  },
  {
   "cell_type": "markdown",
   "id": "223d90ed",
   "metadata": {
    "papermill": {
     "duration": 0.033851,
     "end_time": "2023-02-23T18:39:52.134641",
     "exception": false,
     "start_time": "2023-02-23T18:39:52.100790",
     "status": "completed"
    },
    "tags": []
   },
   "source": [
    "# Using GradientBoostingRegressor\n",
    "gbr = GradientBoostingRegressor(n_estimators=10000, learning_rate=0.05, max_depth=4, max_features='sqrt', min_samples_leaf=15, min_samples_split=10, loss='huber', random_state =5)\n",
    "gbr.fit(X_train, y_train)\n",
    "y_pred_gbr = gbr.predict(X_test_tts)\n",
    "cc_test_copy_v2 = cc_test_copy.copy()\n",
    "cc_test_pred_gbr = gbr.predict(X_test)\n",
    "cc_test_copy_v2[target] = cc_test_pred_gbr\n",
    "cc_test_copy_v2[[target, \"index\"]].to_csv(\"gbrpredictions.csv\", index = False)"
   ]
  },
  {
   "cell_type": "markdown",
   "id": "f04ee1dd",
   "metadata": {
    "papermill": {
     "duration": 0.034263,
     "end_time": "2023-02-23T18:39:52.202936",
     "exception": false,
     "start_time": "2023-02-23T18:39:52.168673",
     "status": "completed"
    },
    "tags": []
   },
   "source": [
    "# Using LightGBM\n",
    "\n",
    "## understanding hyperparameters\n",
    "\n",
    "[Amazon documentation on LightGBM](https://docs.aws.amazon.com/sagemaker/latest/dg/lightgbm-hyperparameters.html)"
   ]
  },
  {
   "cell_type": "code",
   "execution_count": 49,
   "id": "c88e1fc6",
   "metadata": {
    "execution": {
     "iopub.execute_input": "2023-02-23T18:39:52.275334Z",
     "iopub.status.busy": "2023-02-23T18:39:52.273938Z",
     "iopub.status.idle": "2023-02-23T18:39:52.285177Z",
     "shell.execute_reply": "2023-02-23T18:39:52.283539Z"
    },
    "papermill": {
     "duration": 0.049621,
     "end_time": "2023-02-23T18:39:52.287863",
     "exception": false,
     "start_time": "2023-02-23T18:39:52.238242",
     "status": "completed"
    },
    "tags": []
   },
   "outputs": [
    {
     "data": {
      "text/plain": [
       "'\\nprint(\"Beginning training and fitting lightgbm model\")\\nparams = {\\n    \\'boosting_type\\': \\'gbdt\\',\\n    \\'objective\\': \\'regression\\',\\n    \\'metric\\': \\'rmse\\',\\n    \\'num_leaves\\': 31,\\n    \\'max_depth\\': 8,\\n    \\'learning_rate\\': 0.03,\\n    \\'feature_fraction\\': 0.9,\\n    \\'bagging_fraction\\': 0.8,\\n    \\'bagging_freq\\': 5,\\n    \\'min_child_samples\\': 50,\\n    \\'min_data_in_leaf\\': 100,\\n    \\'subsample_for_bin\\': 200000,\\n    \\'n_estimators\\': 15000,\\n    \\'early_stopping_rounds\\': 50,\\n    \\'device_type\\': \\'gpu\\'\\n}\\n\\n# Create the LightGBM model object\\nreg_lgb = lgb.LGBMRegressor(**params)\\n\\n# Fit the model to the training data\\nreg_lgb.fit(X_train, y_train, eval_set=[(X_train, y_train), (X_test_tts, y_test)], verbose=1000)\\n\\n\\n# Get feature importances\\nimportance_scores = reg_lgb.feature_importances_\\nfeature_importances = pd.DataFrame({\\'feature\\': X_train.columns, \\'importance\\': importance_scores})\\n\\n# Sort the features by importance score\\nfeature_importances = feature_importances.sort_values(\\'importance\\', ascending=False)\\n\\n# Output feature importances to a CSV file\\nfeature_importances.to_csv(\"lgbm_feature_importances.csv\", index=False)\\n\\n# Generate predictions on the test data\\ny_pred_lgb = reg_lgb.predict(X_test_tts)\\n\\n# Calculate the RMSE\\nrmse = np.sqrt(mean_squared_error(y_test, y_pred_lgb))\\nprint(\"RMSE:\", rmse)\\n\\n# Make predictions on the competition test data\\ncc_test_copy_v2 = cc_test_copy.copy()\\ncc_test_pred_lgb = reg_lgb.predict(cc_test_reduced)\\ncc_test_copy_v2[target] = cc_test_pred_lgb\\ncc_test_copy_v2[[target, \"index\"]].to_csv(\"lgbpredictions.csv\", index=False)\\nprint(\"Finished training and fitting lightgbm model, created lgbpredictions.csv and feature_importances.csv\")\\n'"
      ]
     },
     "execution_count": 49,
     "metadata": {},
     "output_type": "execute_result"
    }
   ],
   "source": [
    "'''\n",
    "print(\"Beginning training and fitting lightgbm model\")\n",
    "params = {\n",
    "    'boosting_type': 'gbdt',\n",
    "    'objective': 'regression',\n",
    "    'metric': 'rmse',\n",
    "    'num_leaves': 31,\n",
    "    'max_depth': 8,\n",
    "    'learning_rate': 0.03,\n",
    "    'feature_fraction': 0.9,\n",
    "    'bagging_fraction': 0.8,\n",
    "    'bagging_freq': 5,\n",
    "    'min_child_samples': 50,\n",
    "    'min_data_in_leaf': 100,\n",
    "    'subsample_for_bin': 200000,\n",
    "    'n_estimators': 15000,\n",
    "    'early_stopping_rounds': 50,\n",
    "    'device_type': 'gpu'\n",
    "}\n",
    "\n",
    "# Create the LightGBM model object\n",
    "reg_lgb = lgb.LGBMRegressor(**params)\n",
    "\n",
    "# Fit the model to the training data\n",
    "reg_lgb.fit(X_train, y_train, eval_set=[(X_train, y_train), (X_test_tts, y_test)], verbose=1000)\n",
    "\n",
    "\n",
    "# Get feature importances\n",
    "importance_scores = reg_lgb.feature_importances_\n",
    "feature_importances = pd.DataFrame({'feature': X_train.columns, 'importance': importance_scores})\n",
    "\n",
    "# Sort the features by importance score\n",
    "feature_importances = feature_importances.sort_values('importance', ascending=False)\n",
    "\n",
    "# Output feature importances to a CSV file\n",
    "feature_importances.to_csv(\"lgbm_feature_importances.csv\", index=False)\n",
    "\n",
    "# Generate predictions on the test data\n",
    "y_pred_lgb = reg_lgb.predict(X_test_tts)\n",
    "\n",
    "# Calculate the RMSE\n",
    "rmse = np.sqrt(mean_squared_error(y_test, y_pred_lgb))\n",
    "print(\"RMSE:\", rmse)\n",
    "\n",
    "# Make predictions on the competition test data\n",
    "cc_test_copy_v2 = cc_test_copy.copy()\n",
    "cc_test_pred_lgb = reg_lgb.predict(cc_test_reduced)\n",
    "cc_test_copy_v2[target] = cc_test_pred_lgb\n",
    "cc_test_copy_v2[[target, \"index\"]].to_csv(\"lgbpredictions.csv\", index=False)\n",
    "print(\"Finished training and fitting lightgbm model, created lgbpredictions.csv and feature_importances.csv\")\n",
    "'''"
   ]
  },
  {
   "cell_type": "code",
   "execution_count": 50,
   "id": "b206c065",
   "metadata": {
    "execution": {
     "iopub.execute_input": "2023-02-23T18:39:52.360250Z",
     "iopub.status.busy": "2023-02-23T18:39:52.358799Z",
     "iopub.status.idle": "2023-02-23T18:39:52.370870Z",
     "shell.execute_reply": "2023-02-23T18:39:52.369413Z"
    },
    "papermill": {
     "duration": 0.051851,
     "end_time": "2023-02-23T18:39:52.373811",
     "exception": false,
     "start_time": "2023-02-23T18:39:52.321960",
     "status": "completed"
    },
    "tags": []
   },
   "outputs": [
    {
     "data": {
      "text/plain": [
       "'\\n\\ndef objective(trial):\\n    params = {\\n        \\'boosting_type\\': \\'gbdt\\', \\n        \\'objective\\': \\'regression\\', \\n        \\'metric\\': \\'rmse\\', \\n        \\'max_depth\\': trial.suggest_int(\\'max_depth\\', 3, 10),\\n        \\'num_leaves\\': trial.suggest_int(\\'num_leaves\\', 10, 100),\\n        \\'learning_rate\\': trial.suggest_loguniform(\\'learning_rate\\', 0.001, 0.1),\\n        \\'lambda_l1\\': trial.suggest_int(\\'lambda_l1\\', 0, 100),\\n        \\'lambda_l2\\': trial.suggest_int(\\'lambda_l2\\', 0, 100),\\n        \\'min_child_weight\\': trial.suggest_int(\\'min_child_weight\\', 1, 10),\\n        \\'device_type\\':\\'gpu\\',\\n        \\'verbosity\\': -1,\\n        \\'n_estimators\\': 6000\\n    }\\n\\n    reg_lgb = lgb.LGBMRegressor(**params)\\n\\n    reg_lgb.fit(X_train, y_train, eval_set=[(X_train, y_train), (X_test_tts, y_test)])\\n\\n    y_pred_lgb = reg_lgb.predict(X_test_tts)\\n\\n    rmse = np.sqrt(mean_squared_error(y_test, y_pred_lgb))\\n\\n    return rmse\\n\\nstudy = optuna.create_study(direction=\\'minimize\\')\\nstudy.optimize(objective, n_trials=15)\\n\\nprint(\\'Number of finished trials:\\', len(study.trials))\\nprint(\\'Best trial:\\')\\ntrial = study.best_trial\\n\\nprint(f\\'  Value: {trial.value:.5f}\\')\\nprint(\\'  Params: \\')\\nfor key, value in trial.params.items():\\n    print(f\\'    {key}: {value}\\')    \\n\\nbest_params = trial.params\\nreg_lgb = lgb.LGBMRegressor(**best_params)\\nreg_lgb.fit(X_train, y_train, eval_set=[(X_train, y_train), (X_test_tts, y_test)])\\ny_pred_lgb = reg_lgb.predict(X_test_tts)\\nrmse = np.sqrt(mean_squared_error(y_test, y_pred_lgb))\\nprint(\"RMSE:\", rmse)\\n\\ncc_test_copy_v2 = cc_test_copy.copy()\\ncc_test_pred_lgb = reg_lgb.predict(cc_test_reduced)\\ncc_test_copy_v2[target] = cc_test_pred_lgb\\ncc_test_copy_v2[[target, \"index\"]].to_csv(\"lgbpredictions.csv\", index=False)\\n\\n'"
      ]
     },
     "execution_count": 50,
     "metadata": {},
     "output_type": "execute_result"
    }
   ],
   "source": [
    "\n",
    "'''\n",
    "\n",
    "def objective(trial):\n",
    "    params = {\n",
    "        'boosting_type': 'gbdt', \n",
    "        'objective': 'regression', \n",
    "        'metric': 'rmse', \n",
    "        'max_depth': trial.suggest_int('max_depth', 3, 10),\n",
    "        'num_leaves': trial.suggest_int('num_leaves', 10, 100),\n",
    "        'learning_rate': trial.suggest_loguniform('learning_rate', 0.001, 0.1),\n",
    "        'lambda_l1': trial.suggest_int('lambda_l1', 0, 100),\n",
    "        'lambda_l2': trial.suggest_int('lambda_l2', 0, 100),\n",
    "        'min_child_weight': trial.suggest_int('min_child_weight', 1, 10),\n",
    "        'device_type':'gpu',\n",
    "        'verbosity': -1,\n",
    "        'n_estimators': 6000\n",
    "    }\n",
    "\n",
    "    reg_lgb = lgb.LGBMRegressor(**params)\n",
    "\n",
    "    reg_lgb.fit(X_train, y_train, eval_set=[(X_train, y_train), (X_test_tts, y_test)])\n",
    "\n",
    "    y_pred_lgb = reg_lgb.predict(X_test_tts)\n",
    "\n",
    "    rmse = np.sqrt(mean_squared_error(y_test, y_pred_lgb))\n",
    "\n",
    "    return rmse\n",
    "\n",
    "study = optuna.create_study(direction='minimize')\n",
    "study.optimize(objective, n_trials=15)\n",
    "\n",
    "print('Number of finished trials:', len(study.trials))\n",
    "print('Best trial:')\n",
    "trial = study.best_trial\n",
    "\n",
    "print(f'  Value: {trial.value:.5f}')\n",
    "print('  Params: ')\n",
    "for key, value in trial.params.items():\n",
    "    print(f'    {key}: {value}')    \n",
    "\n",
    "best_params = trial.params\n",
    "reg_lgb = lgb.LGBMRegressor(**best_params)\n",
    "reg_lgb.fit(X_train, y_train, eval_set=[(X_train, y_train), (X_test_tts, y_test)])\n",
    "y_pred_lgb = reg_lgb.predict(X_test_tts)\n",
    "rmse = np.sqrt(mean_squared_error(y_test, y_pred_lgb))\n",
    "print(\"RMSE:\", rmse)\n",
    "\n",
    "cc_test_copy_v2 = cc_test_copy.copy()\n",
    "cc_test_pred_lgb = reg_lgb.predict(cc_test_reduced)\n",
    "cc_test_copy_v2[target] = cc_test_pred_lgb\n",
    "cc_test_copy_v2[[target, \"index\"]].to_csv(\"lgbpredictions.csv\", index=False)\n",
    "\n",
    "'''"
   ]
  },
  {
   "cell_type": "markdown",
   "id": "00e19481",
   "metadata": {
    "papermill": {
     "duration": 0.034017,
     "end_time": "2023-02-23T18:39:52.446556",
     "exception": false,
     "start_time": "2023-02-23T18:39:52.412539",
     "status": "completed"
    },
    "tags": []
   },
   "source": [
    "cc_test_copy_v2 = cc_test_copy.copy()\n",
    "cc_test_pred_lgb = reg_lgb.predict(cc_test_reduced)\n",
    "cc_test_copy_v2[target] = cc_test_pred_lgb\n",
    "cc_test_copy_v2[[target,\"index\"]].to_csv(\"lgbpredictions.csv\",index = False)"
   ]
  },
  {
   "cell_type": "markdown",
   "id": "a6bdcbc6",
   "metadata": {
    "papermill": {
     "duration": 0.033978,
     "end_time": "2023-02-23T18:39:52.519287",
     "exception": false,
     "start_time": "2023-02-23T18:39:52.485309",
     "status": "completed"
    },
    "tags": []
   },
   "source": [
    "## Let's try out using Robust Linear regression model from the statsmodel api\n",
    "\n",
    "---\n",
    "\n",
    "Robust regression models can be particularly useful for large datasets with many features, where outliers are common and can significantly impact the performance of the model. By using robust regression models, you can improve the reliability of your predictions and reduce the risk of overfitting to noisy or spurious data."
   ]
  },
  {
   "cell_type": "code",
   "execution_count": 51,
   "id": "d591bf65",
   "metadata": {
    "execution": {
     "iopub.execute_input": "2023-02-23T18:39:52.590154Z",
     "iopub.status.busy": "2023-02-23T18:39:52.588986Z",
     "iopub.status.idle": "2023-02-23T18:42:53.328660Z",
     "shell.execute_reply": "2023-02-23T18:42:53.318429Z"
    },
    "papermill": {
     "duration": 180.864465,
     "end_time": "2023-02-23T18:42:53.417807",
     "exception": false,
     "start_time": "2023-02-23T18:39:52.553342",
     "status": "completed"
    },
    "tags": []
   },
   "outputs": [
    {
     "name": "stdout",
     "output_type": "stream",
     "text": [
      "                                          Robust linear Model Regression Results                                          \n",
      "==========================================================================================================================\n",
      "Dep. Variable:                                           contest-tmp2m-14d__tmp2m   No. Observations:               251741\n",
      "Model:                                                                        RLM   Df Residuals:                   251580\n",
      "Method:                                                                      IRLS   Df Model:                          160\n",
      "Norm:                                                                      Hampel                                         \n",
      "Scale Est.:        <statsmodels.robust.scale.HuberScale object at 0x7f9ca782ef10>                                         \n",
      "Cov Type:                                                                      H1                                         \n",
      "Date:                                                            Thu, 23 Feb 2023                                         \n",
      "Time:                                                                    18:42:53                                         \n",
      "No. Iterations:                                                                23                                         \n",
      "============================================================================================================\n",
      "                                               coef    std err          z      P>|z|      [0.025      0.975]\n",
      "------------------------------------------------------------------------------------------------------------\n",
      "lat                                         -3.3765      0.035    -96.746      0.000      -3.445      -3.308\n",
      "lon                                         -2.8198      0.026   -110.580      0.000      -2.870      -2.770\n",
      "contest-rhum-sig995-14d__rhum               -0.0405      0.000    -84.795      0.000      -0.041      -0.040\n",
      "nmme0-prate-34w__ccsm30                      0.0005      0.000      1.588      0.112      -0.000       0.001\n",
      "contest-slp-14d__slp                        -0.0093   3.46e-05   -269.653      0.000      -0.009      -0.009\n",
      "contest-wind-vwnd-925-14d__wind-vwnd-925     0.0746      0.002     30.931      0.000       0.070       0.079\n",
      "nmme-prate-56w__ccsm3                       -0.0106      0.000    -28.934      0.000      -0.011      -0.010\n",
      "nmme-prate-56w__nasa                         0.0076      0.000     17.924      0.000       0.007       0.008\n",
      "nmme-prate-56w__nmmemean                     0.0232      0.001     35.009      0.000       0.022       0.024\n",
      "contest-wind-uwnd-250-14d__wind-uwnd-250    -0.0042      0.001     -8.041      0.000      -0.005      -0.003\n",
      "contest-prwtr-eatm-14d__prwtr                0.0992      0.002     60.097      0.000       0.096       0.102\n",
      "contest-wind-vwnd-250-14d__wind-vwnd-250    -0.0023      0.001     -3.968      0.000      -0.003      -0.001\n",
      "contest-precip-14d__precip                  -0.0005      0.000     -3.381      0.001      -0.001      -0.000\n",
      "contest-wind-h850-14d__wind-hgt-850          0.0847      0.001    157.681      0.000       0.084       0.086\n",
      "contest-wind-uwnd-925-14d__wind-uwnd-925     0.1620      0.003     58.753      0.000       0.157       0.167\n",
      "contest-wind-h500-14d__wind-hgt-500          0.0174      0.000    100.701      0.000       0.017       0.018\n",
      "elevation__elevation                        -0.0027   8.94e-06   -300.113      0.000      -0.003      -0.003\n",
      "wind-vwnd-250-2010-2                     -8.117e-05      0.001     -0.130      0.896      -0.001       0.001\n",
      "wind-vwnd-250-2010-3                        -0.0011      0.000     -2.985      0.003      -0.002      -0.000\n",
      "wind-vwnd-250-2010-4                         0.0007      0.001      0.958      0.338      -0.001       0.002\n",
      "wind-vwnd-250-2010-5                        -0.0002      0.001     -0.411      0.681      -0.001       0.001\n",
      "wind-vwnd-250-2010-6                        -0.0003      0.001     -0.498      0.619      -0.001       0.001\n",
      "wind-vwnd-250-2010-7                         0.0019      0.001      3.380      0.001       0.001       0.003\n",
      "wind-vwnd-250-2010-8                        -0.0004      0.001     -0.585      0.558      -0.002       0.001\n",
      "wind-vwnd-250-2010-9                         0.0010      0.000      2.327      0.020       0.000       0.002\n",
      "wind-vwnd-250-2010-10                        0.0011      0.000      2.178      0.029       0.000       0.002\n",
      "wind-vwnd-250-2010-11                       -0.0023      0.000     -4.763      0.000      -0.003      -0.001\n",
      "wind-vwnd-250-2010-12                        0.0015      0.000      3.854      0.000       0.001       0.002\n",
      "wind-vwnd-250-2010-13                        0.0008      0.000      1.760      0.078   -9.19e-05       0.002\n",
      "wind-vwnd-250-2010-14                       -0.0015      0.000     -3.433      0.001      -0.002      -0.001\n",
      "wind-vwnd-250-2010-15                        0.0005      0.000      1.126      0.260      -0.000       0.001\n",
      "wind-vwnd-250-2010-16                        0.0034      0.000      8.450      0.000       0.003       0.004\n",
      "wind-vwnd-250-2010-17                        0.0004      0.000      1.011      0.312      -0.000       0.001\n",
      "wind-vwnd-250-2010-18                        0.0010      0.000      2.586      0.010       0.000       0.002\n",
      "wind-vwnd-250-2010-19                        0.0004      0.000      1.113      0.266      -0.000       0.001\n",
      "wind-vwnd-250-2010-20                       -0.0016      0.000     -5.939      0.000      -0.002      -0.001\n",
      "wind-uwnd-250-2010-3                         0.0009      0.001      1.471      0.141      -0.000       0.002\n",
      "wind-uwnd-250-2010-4                        -0.0001      0.001     -0.162      0.872      -0.001       0.001\n",
      "wind-uwnd-250-2010-5                         0.0015      0.000      3.130      0.002       0.001       0.003\n",
      "wind-uwnd-250-2010-6                        -0.0009      0.001     -1.563      0.118      -0.002       0.000\n",
      "wind-uwnd-250-2010-7                        -0.0012      0.001     -2.251      0.024      -0.002      -0.000\n",
      "wind-uwnd-250-2010-8                        -0.0002      0.001     -0.312      0.755      -0.002       0.001\n",
      "wind-uwnd-250-2010-9                         0.0026      0.001      3.303      0.001       0.001       0.004\n",
      "wind-uwnd-250-2010-10                        0.0022      0.001      3.691      0.000       0.001       0.003\n",
      "wind-uwnd-250-2010-11                        0.0003      0.001      0.469      0.639      -0.001       0.001\n",
      "wind-uwnd-250-2010-12                       -0.0019      0.000     -4.712      0.000      -0.003      -0.001\n",
      "wind-uwnd-250-2010-13                       -0.0006      0.001     -1.062      0.288      -0.002       0.001\n",
      "wind-uwnd-250-2010-14                        0.0005      0.000      1.198      0.231      -0.000       0.001\n",
      "wind-uwnd-250-2010-15                        0.0013      0.000      2.702      0.007       0.000       0.002\n",
      "wind-uwnd-250-2010-16                       -0.0008      0.000     -1.639      0.101      -0.002       0.000\n",
      "wind-uwnd-250-2010-17                       -0.0009      0.000     -1.908      0.056      -0.002    2.47e-05\n",
      "wind-uwnd-250-2010-18                       -0.0011      0.000     -2.243      0.025      -0.002      -0.000\n",
      "wind-uwnd-250-2010-19                        0.0019      0.000      4.643      0.000       0.001       0.003\n",
      "wind-uwnd-250-2010-20                        0.0016      0.001      2.930      0.003       0.001       0.003\n",
      "mjo1d__phase                                -0.0044      0.003     -1.622      0.105      -0.010       0.001\n",
      "mjo1d__amplitude                            -0.0088      0.015     -0.582      0.560      -0.038       0.021\n",
      "mei__nip                                     0.1902      0.043      4.459      0.000       0.107       0.274\n",
      "wind-hgt-850-2010-2                          0.0002   7.61e-05      2.395      0.017    3.31e-05       0.000\n",
      "wind-hgt-850-2010-4                          0.0003      0.000      1.523      0.128   -7.36e-05       0.001\n",
      "wind-hgt-850-2010-6                          0.0005      0.000      2.702      0.007       0.000       0.001\n",
      "wind-hgt-850-2010-7                         -0.0002      0.000     -1.500      0.134      -0.000    6.35e-05\n",
      "wind-hgt-850-2010-9                       7.366e-05      0.000      0.482      0.630      -0.000       0.000\n",
      "wind-hgt-850-2010-10                         0.0004      0.000      2.209      0.027    4.02e-05       0.001\n",
      "sst-2010-2                                  -0.0227      0.004     -5.447      0.000      -0.031      -0.015\n",
      "sst-2010-3                                   0.0032      0.004      0.813      0.416      -0.004       0.011\n",
      "sst-2010-4                                   0.0079      0.004      1.881      0.060      -0.000       0.016\n",
      "sst-2010-5                                   0.0004      0.004      0.106      0.916      -0.008       0.008\n",
      "sst-2010-6                                6.707e-05      0.005      0.014      0.989      -0.009       0.009\n",
      "sst-2010-7                                  -0.0055      0.006     -0.882      0.378      -0.018       0.007\n",
      "sst-2010-8                                   0.0122      0.006      2.074      0.038       0.001       0.024\n",
      "sst-2010-9                                   0.0208      0.005      4.118      0.000       0.011       0.031\n",
      "sst-2010-10                                  0.0020      0.005      0.383      0.701      -0.008       0.012\n",
      "wind-hgt-500-2010-2                         -0.0001   5.64e-05     -2.251      0.024      -0.000   -1.64e-05\n",
      "wind-hgt-500-2010-4                          0.0002      0.000      1.769      0.077   -2.29e-05       0.000\n",
      "wind-hgt-500-2010-5                          0.0003   9.47e-05      2.975      0.003    9.61e-05       0.000\n",
      "wind-hgt-500-2010-6                         -0.0003      0.000     -2.212      0.027      -0.001   -3.72e-05\n",
      "wind-hgt-500-2010-7                         -0.0005      0.000     -3.810      0.000      -0.001      -0.000\n",
      "wind-hgt-500-2010-8                       9.655e-05      0.000      0.753      0.451      -0.000       0.000\n",
      "wind-hgt-500-2010-9                       6.929e-05   9.94e-05      0.697      0.486      -0.000       0.000\n",
      "wind-hgt-500-2010-10                      6.398e-05      0.000      0.568      0.570      -0.000       0.000\n",
      "icec-2010-2                                 -0.0964      0.075     -1.289      0.197      -0.243       0.050\n",
      "icec-2010-3                                 -0.4692      0.109     -4.285      0.000      -0.684      -0.255\n",
      "icec-2010-4                                  0.1906      0.103      1.850      0.064      -0.011       0.392\n",
      "icec-2010-6                                  0.8030      0.140      5.724      0.000       0.528       1.078\n",
      "icec-2010-7                                 -0.1023      0.109     -0.937      0.349      -0.316       0.112\n",
      "icec-2010-8                                  0.4224      0.137      3.093      0.002       0.155       0.690\n",
      "icec-2010-9                                  0.3043      0.174      1.753      0.080      -0.036       0.644\n",
      "icec-2010-10                                 0.8329      0.144      5.798      0.000       0.551       1.114\n",
      "wind-uwnd-925-2010-2                         0.0015      0.002      0.962      0.336      -0.002       0.005\n",
      "wind-uwnd-925-2010-3                         0.0008      0.001      0.813      0.416      -0.001       0.003\n",
      "wind-uwnd-925-2010-4                        -0.0076      0.001     -5.120      0.000      -0.011      -0.005\n",
      "wind-uwnd-925-2010-5                         0.0002      0.001      0.204      0.838      -0.002       0.002\n",
      "wind-uwnd-925-2010-6                         0.0027      0.002      1.709      0.087      -0.000       0.006\n",
      "wind-uwnd-925-2010-7                        -0.0008      0.001     -0.782      0.434      -0.003       0.001\n",
      "wind-uwnd-925-2010-8                        -0.0027      0.002     -1.764      0.078      -0.006       0.000\n",
      "wind-uwnd-925-2010-9                         0.0033      0.002      2.077      0.038       0.000       0.006\n",
      "wind-uwnd-925-2010-10                    -8.483e-05      0.001     -0.070      0.945      -0.002       0.002\n",
      "wind-uwnd-925-2010-11                        0.0001      0.001      0.111      0.912      -0.002       0.002\n",
      "wind-uwnd-925-2010-12                        0.0022      0.001      1.884      0.060   -8.84e-05       0.004\n",
      "wind-uwnd-925-2010-13                       -0.0037      0.001     -3.816      0.000      -0.006      -0.002\n",
      "wind-uwnd-925-2010-14                       -0.0021      0.001     -2.373      0.018      -0.004      -0.000\n",
      "wind-uwnd-925-2010-15                        0.0004      0.001      0.473      0.637      -0.001       0.002\n",
      "wind-uwnd-925-2010-16                        0.0039      0.001      4.054      0.000       0.002       0.006\n",
      "wind-uwnd-925-2010-17                        0.0029      0.001      2.175      0.030       0.000       0.005\n",
      "wind-uwnd-925-2010-18                        0.0008      0.001      0.795      0.427      -0.001       0.003\n",
      "wind-uwnd-925-2010-19                       -0.0005      0.001     -0.596      0.551      -0.002       0.001\n",
      "wind-uwnd-925-2010-20                       -0.0019      0.001     -2.422      0.015      -0.004      -0.000\n",
      "wind-hgt-10-2010-3                        3.414e-06   8.23e-06      0.415      0.678   -1.27e-05    1.95e-05\n",
      "wind-hgt-10-2010-4                       -2.051e-05   1.04e-05     -1.963      0.050    -4.1e-05   -3.41e-08\n",
      "wind-hgt-10-2010-5                        3.278e-05   1.58e-05      2.075      0.038    1.82e-06    6.37e-05\n",
      "wind-hgt-10-2010-6                        2.873e-05   1.19e-05      2.423      0.015    5.49e-06     5.2e-05\n",
      "wind-hgt-10-2010-7                        7.256e-05   2.72e-05      2.665      0.008    1.92e-05       0.000\n",
      "wind-hgt-10-2010-8                       -1.571e-05    1.6e-05     -0.982      0.326   -4.71e-05    1.56e-05\n",
      "wind-hgt-10-2010-9                        1.183e-05    1.7e-05      0.697      0.486   -2.14e-05    4.51e-05\n",
      "wind-hgt-10-2010-10                       3.802e-05   1.95e-05      1.947      0.052   -2.58e-07    7.63e-05\n",
      "wind-hgt-100-2010-2                      -1.022e-06   1.17e-05     -0.087      0.931    -2.4e-05     2.2e-05\n",
      "wind-hgt-100-2010-3                         -0.0001   3.46e-05     -3.263      0.001      -0.000    -4.5e-05\n",
      "wind-hgt-100-2010-4                      -8.477e-05   4.21e-05     -2.015      0.044      -0.000    -2.3e-06\n",
      "wind-hgt-100-2010-5                      -3.331e-05   2.51e-05     -1.328      0.184   -8.25e-05    1.59e-05\n",
      "wind-hgt-100-2010-6                          0.0001   2.55e-05      4.101      0.000    5.46e-05       0.000\n",
      "wind-hgt-100-2010-7                      -2.041e-05   2.32e-05     -0.882      0.378   -6.58e-05     2.5e-05\n",
      "wind-hgt-100-2010-8                      -5.511e-05   2.45e-05     -2.251      0.024      -0.000   -7.12e-06\n",
      "wind-hgt-100-2010-9                          0.0002   3.09e-05      6.161      0.000       0.000       0.000\n",
      "wind-hgt-100-2010-10                     -2.558e-05   2.58e-05     -0.990      0.322   -7.62e-05    2.51e-05\n",
      "wind-vwnd-925-2010-1                        -0.0148      0.001    -13.238      0.000      -0.017      -0.013\n",
      "wind-vwnd-925-2010-2                        -0.0033      0.001     -2.287      0.022      -0.006      -0.000\n",
      "wind-vwnd-925-2010-3                         0.0004      0.001      0.333      0.739      -0.002       0.003\n",
      "wind-vwnd-925-2010-4                     -1.021e-06      0.001     -0.001      0.999      -0.003       0.003\n",
      "wind-vwnd-925-2010-5                        -0.0008      0.001     -0.547      0.584      -0.004       0.002\n",
      "wind-vwnd-925-2010-6                        -0.0009      0.001     -0.840      0.401      -0.003       0.001\n",
      "wind-vwnd-925-2010-7                         0.0049      0.002      2.917      0.004       0.002       0.008\n",
      "wind-vwnd-925-2010-8                        -0.0057      0.001     -5.209      0.000      -0.008      -0.004\n",
      "wind-vwnd-925-2010-9                         0.0002      0.001      0.173      0.863      -0.002       0.002\n",
      "wind-vwnd-925-2010-10                        0.0010      0.001      0.932      0.351      -0.001       0.003\n",
      "wind-vwnd-925-2010-11                        0.0025      0.001      2.417      0.016       0.000       0.005\n",
      "wind-vwnd-925-2010-12                       -0.0003      0.001     -0.228      0.819      -0.002       0.002\n",
      "wind-vwnd-925-2010-13                       -0.0012      0.001     -1.184      0.237      -0.003       0.001\n",
      "wind-vwnd-925-2010-14                       -0.0055      0.001     -4.323      0.000      -0.008      -0.003\n",
      "wind-vwnd-925-2010-15                        0.0031      0.001      3.089      0.002       0.001       0.005\n",
      "wind-vwnd-925-2010-16                       -0.0007      0.001     -0.682      0.495      -0.003       0.001\n",
      "wind-vwnd-925-2010-17                       -0.0014      0.001     -1.447      0.148      -0.003       0.000\n",
      "wind-vwnd-925-2010-18                        0.0009      0.001      0.943      0.345      -0.001       0.003\n",
      "wind-vwnd-925-2010-19                       -0.0002      0.001     -0.180      0.857      -0.002       0.002\n",
      "wind-vwnd-925-2010-20                        0.0029      0.001      4.135      0.000       0.002       0.004\n",
      "year                                         0.0726      0.167      0.435      0.663      -0.254       0.399\n",
      "month                                        0.0102      0.015      0.689      0.491      -0.019       0.039\n",
      "day                                         -0.0003      0.001     -0.418      0.676      -0.002       0.001\n",
      "climateregions__climateregion_BSh          594.9339    336.134      1.770      0.077     -63.877    1253.745\n",
      "climateregions__climateregion_BSk          593.5096    336.134      1.766      0.077     -65.301    1252.320\n",
      "climateregions__climateregion_BWh          596.9001    336.134      1.776      0.076     -61.911    1255.711\n",
      "climateregions__climateregion_BWk          595.3033    336.134      1.771      0.077     -63.507    1254.114\n",
      "climateregions__climateregion_Cfa          593.9155    336.134      1.767      0.077     -64.895    1252.727\n",
      "climateregions__climateregion_Cfb          593.6174    336.134      1.766      0.077     -65.193    1252.428\n",
      "climateregions__climateregion_Csa          595.0559    336.134      1.770      0.077     -63.755    1253.867\n",
      "climateregions__climateregion_Csb          592.8859    336.134      1.764      0.078     -65.925    1251.697\n",
      "climateregions__climateregion_Dfa          593.4694    336.134      1.766      0.077     -65.341    1252.280\n",
      "climateregions__climateregion_Dfb          593.2305    336.134      1.765      0.078     -65.580    1252.041\n",
      "climateregions__climateregion_Dfc          591.3688    336.134      1.759      0.079     -67.442    1250.180\n",
      "climateregions__climateregion_Dsb          593.7629    336.134      1.766      0.077     -65.048    1252.574\n",
      "climateregions__climateregion_Dsc          591.9949    336.134      1.761      0.078     -66.816    1250.806\n",
      "climateregions__climateregion_Dwa          593.5255    336.134      1.766      0.077     -65.285    1252.336\n",
      "climateregions__climateregion_Dwb          593.2811    336.134      1.765      0.078     -65.529    1252.092\n",
      "============================================================================================================\n",
      "\n",
      "If the model instance has been used for another fit with different fit parameters, then the fit options might not be the correct ones anymore .\n",
      "RMSE: 1.6946667218887184\n"
     ]
    }
   ],
   "source": [
    "import statsmodels.api as sm\n",
    "\n",
    "# Fit a robust linear regression model\n",
    "rlm_model = sm.RLM(y_train, X_train, M=sm.robust.norms.Hampel())\n",
    "rlm_results = rlm_model.fit(scale_est=sm.robust.scale.HuberScale())\n",
    "\n",
    "# Print the summary of the model\n",
    "print(rlm_results.summary())\n",
    "\n",
    "# Get the predicted values on the test set\n",
    "y_pred = rlm_results.predict(X_test_tts)\n",
    "\n",
    "# Calculate the RMSE\n",
    "rmse = np.sqrt(mean_squared_error(y_test, y_pred))\n",
    "print(\"RMSE:\", rmse)\n"
   ]
  },
  {
   "cell_type": "markdown",
   "id": "5d80a7f7",
   "metadata": {
    "papermill": {
     "duration": 0.034617,
     "end_time": "2023-02-23T18:42:53.492632",
     "exception": false,
     "start_time": "2023-02-23T18:42:53.458015",
     "status": "completed"
    },
    "tags": []
   },
   "source": [
    "# Using Multi-Layer Perceptron Models"
   ]
  },
  {
   "cell_type": "code",
   "execution_count": 52,
   "id": "1fc8d27b",
   "metadata": {
    "execution": {
     "iopub.execute_input": "2023-02-23T18:42:53.563817Z",
     "iopub.status.busy": "2023-02-23T18:42:53.563220Z",
     "iopub.status.idle": "2023-02-23T18:42:53.572991Z",
     "shell.execute_reply": "2023-02-23T18:42:53.571417Z"
    },
    "papermill": {
     "duration": 0.048554,
     "end_time": "2023-02-23T18:42:53.575532",
     "exception": false,
     "start_time": "2023-02-23T18:42:53.526978",
     "status": "completed"
    },
    "tags": []
   },
   "outputs": [
    {
     "data": {
      "text/plain": [
       "'\\nparams = {\\'hidden_layer_sizes\\': (100,50,10), \\n          \\'activation\\': \\'relu\\',\\n          \\'solver\\': \\'adam\\',\\n          \\'alpha\\': 0.0001,\\n          \\'batch_size\\': \\'auto\\',\\n          \\'learning_rate\\': \\'constant\\',\\n          \\'learning_rate_init\\': 0.001,\\n          \\'max_iter\\': 200,\\n          \\'shuffle\\': True,\\n          \\'random_state\\': None,\\n          \\'tol\\': 0.0001,\\n          \\'verbose\\': True,\\n          \\'warm_start\\': False,\\n          \\'momentum\\': 0.9,\\n          \\'nesterovs_momentum\\': True,\\n          \\'early_stopping\\': False,\\n          \\'validation_fraction\\': 0.1,\\n          \\'beta_1\\': 0.9,\\n          \\'beta_2\\': 0.999,\\n          \\'epsilon\\': 1e-08}\\n\\n# Standardize the data using a standard scaler\\nscaler = StandardScaler()\\nX_train = scaler.fit_transform(X_train)\\nX_test_tts = scaler.transform(X_test_tts)\\n\\nreg_mlp = MLPRegressor(**params)\\n\\nreg_mlp.fit(X_train, y_train)\\n\\n# make predictions on the test data\\ny_pred_mlp = reg_mlp.predict(X_test_tts)\\n\\n# calculate the RMSE\\nrmse = np.sqrt(mean_squared_error(y_test, y_pred_mlp))\\nprint(\"RMSE:\", rmse)\\n# Make predictions on the competition test data\\ncc_test_copy_v2 = cc_test_copy.copy()\\n\\ncc_test_pred_mlp = reg_mlp.predict(cc_test_reduced)\\ncc_test_copy_v2[target] = cc_test_pred_mlp\\ncc_test_copy_v2[[target,\"index\"]].to_csv(\"mlppredictions.csv\",index = False)\\n'"
      ]
     },
     "execution_count": 52,
     "metadata": {},
     "output_type": "execute_result"
    }
   ],
   "source": [
    "'''\n",
    "params = {'hidden_layer_sizes': (100,50,10), \n",
    "          'activation': 'relu',\n",
    "          'solver': 'adam',\n",
    "          'alpha': 0.0001,\n",
    "          'batch_size': 'auto',\n",
    "          'learning_rate': 'constant',\n",
    "          'learning_rate_init': 0.001,\n",
    "          'max_iter': 200,\n",
    "          'shuffle': True,\n",
    "          'random_state': None,\n",
    "          'tol': 0.0001,\n",
    "          'verbose': True,\n",
    "          'warm_start': False,\n",
    "          'momentum': 0.9,\n",
    "          'nesterovs_momentum': True,\n",
    "          'early_stopping': False,\n",
    "          'validation_fraction': 0.1,\n",
    "          'beta_1': 0.9,\n",
    "          'beta_2': 0.999,\n",
    "          'epsilon': 1e-08}\n",
    "\n",
    "# Standardize the data using a standard scaler\n",
    "scaler = StandardScaler()\n",
    "X_train = scaler.fit_transform(X_train)\n",
    "X_test_tts = scaler.transform(X_test_tts)\n",
    "\n",
    "reg_mlp = MLPRegressor(**params)\n",
    "\n",
    "reg_mlp.fit(X_train, y_train)\n",
    "\n",
    "# make predictions on the test data\n",
    "y_pred_mlp = reg_mlp.predict(X_test_tts)\n",
    "\n",
    "# calculate the RMSE\n",
    "rmse = np.sqrt(mean_squared_error(y_test, y_pred_mlp))\n",
    "print(\"RMSE:\", rmse)\n",
    "# Make predictions on the competition test data\n",
    "cc_test_copy_v2 = cc_test_copy.copy()\n",
    "\n",
    "cc_test_pred_mlp = reg_mlp.predict(cc_test_reduced)\n",
    "cc_test_copy_v2[target] = cc_test_pred_mlp\n",
    "cc_test_copy_v2[[target,\"index\"]].to_csv(\"mlppredictions.csv\",index = False)\n",
    "'''"
   ]
  },
  {
   "cell_type": "markdown",
   "id": "885ab237",
   "metadata": {
    "papermill": {
     "duration": 0.033698,
     "end_time": "2023-02-23T18:42:53.643723",
     "exception": false,
     "start_time": "2023-02-23T18:42:53.610025",
     "status": "completed"
    },
    "tags": []
   },
   "source": [
    "cc_test_copy_v2[target]"
   ]
  },
  {
   "cell_type": "markdown",
   "id": "a2ef8b5b",
   "metadata": {
    "papermill": {
     "duration": 0.034584,
     "end_time": "2023-02-23T18:42:53.713159",
     "exception": false,
     "start_time": "2023-02-23T18:42:53.678575",
     "status": "completed"
    },
    "tags": []
   },
   "source": [
    "cc_test_copy[target]"
   ]
  },
  {
   "cell_type": "code",
   "execution_count": 53,
   "id": "483d889d",
   "metadata": {
    "execution": {
     "iopub.execute_input": "2023-02-23T18:42:53.785319Z",
     "iopub.status.busy": "2023-02-23T18:42:53.784414Z",
     "iopub.status.idle": "2023-02-23T18:42:53.789511Z",
     "shell.execute_reply": "2023-02-23T18:42:53.788590Z"
    },
    "papermill": {
     "duration": 0.043297,
     "end_time": "2023-02-23T18:42:53.791835",
     "exception": false,
     "start_time": "2023-02-23T18:42:53.748538",
     "status": "completed"
    },
    "tags": []
   },
   "outputs": [],
   "source": [
    "#ensemble_preds = cc_test_copy_v2[target]*0.7+cc_test_copy[target]*0.3"
   ]
  },
  {
   "cell_type": "code",
   "execution_count": 54,
   "id": "f5e01207",
   "metadata": {
    "execution": {
     "iopub.execute_input": "2023-02-23T18:42:53.863186Z",
     "iopub.status.busy": "2023-02-23T18:42:53.861972Z",
     "iopub.status.idle": "2023-02-23T18:42:53.868597Z",
     "shell.execute_reply": "2023-02-23T18:42:53.867698Z"
    },
    "papermill": {
     "duration": 0.045533,
     "end_time": "2023-02-23T18:42:53.870859",
     "exception": false,
     "start_time": "2023-02-23T18:42:53.825326",
     "status": "completed"
    },
    "tags": []
   },
   "outputs": [
    {
     "data": {
      "text/plain": [
       "'\\ncc_submission = cc_test_copy.copy()\\ncc_submission[target] = ensemble_preds\\ncc_submission[[target,\"index\"]].to_csv(\\'submission.csv\\', index = False)\\n'"
      ]
     },
     "execution_count": 54,
     "metadata": {},
     "output_type": "execute_result"
    }
   ],
   "source": [
    "'''\n",
    "cc_submission = cc_test_copy.copy()\n",
    "cc_submission[target] = ensemble_preds\n",
    "cc_submission[[target,\"index\"]].to_csv('submission.csv', index = False)\n",
    "'''"
   ]
  }
 ],
 "metadata": {
  "kernelspec": {
   "display_name": "Python 3",
   "language": "python",
   "name": "python3"
  },
  "language_info": {
   "codemirror_mode": {
    "name": "ipython",
    "version": 3
   },
   "file_extension": ".py",
   "mimetype": "text/x-python",
   "name": "python",
   "nbconvert_exporter": "python",
   "pygments_lexer": "ipython3",
   "version": "3.7.12"
  },
  "papermill": {
   "default_parameters": {},
   "duration": 576.243414,
   "end_time": "2023-02-23T18:42:55.533292",
   "environment_variables": {},
   "exception": null,
   "input_path": "__notebook__.ipynb",
   "output_path": "__notebook__.ipynb",
   "parameters": {},
   "start_time": "2023-02-23T18:33:19.289878",
   "version": "2.3.4"
  }
 },
 "nbformat": 4,
 "nbformat_minor": 5
}
